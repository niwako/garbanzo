{
 "cells": [
  {
   "cell_type": "markdown",
   "metadata": {},
   "source": [
    "# Exploratory Data Analysis Workshop\n",
    "\n",
    "June 24, 2020  \n",
    "\n",
    "### Welcome/Purpose of Workshop\n",
    "\n",
    "- improve skills\n",
    "- join our project team\n",
    "\n",
    "### About Data Circles -- https://datacircles.org\n",
    "\n",
    "Presenters Niwako and Erin are members of the Data Circles Project Circle.  \n",
    "The Projects Circle is facilitating the Traffic Collision Analysis project described below.   "
   ]
  },
  {
   "cell_type": "markdown",
   "metadata": {},
   "source": [
    "**NOTE: The bullet points in the cell below are helpful, but maybe select a few that seem more important? It feels a little too much information as an introduction**"
   ]
  },
  {
   "cell_type": "markdown",
   "metadata": {},
   "source": [
    "## 1. Introduction to the project\n",
    "\n",
    "Traffic collisions continue to be a serious problem. According to the [Washington State Dept. of Transportation (WSDOT)](https://www.wsdot.wa.gov/mapsdata/crash/pdf/2015_Annual_Collision_Summary.pdf), in 2015, Washington had:  \n",
    "\n",
    "• 5,576,586 Licensed Drivers  \n",
    "• 6,252,554 Registered Vehicles  \n",
    "• 59.7 billion Vehicle Miles traveled  \n",
    "• 416,699 Speeding citations filed with Washington State Courts  \n",
    "• 33,697 Cell phone and texting citations filed with Washington State Courts  \n",
    "• 26,363 DUI cases filed with Washington State Courts  \n",
    "• 117,053 Total collisions  \n",
    "• Fridays had the most collisions \n",
    "• Rush hour had the most collisions, with the highest number during 5:00 p.m. - 5:59 p.m.  \n",
    "• December had the most crashes (on average, 401 per day)  \n",
    "• Driver inattention or distraction was the most frequent contributing factor  \n",
    "\n",
    "So, by analyzing crash data we hope to identify the most dangerous sections of road in Seattle and suggest improvements.  \n",
    "\n",
    "If you are interested in joining the project team, please signup for the project kickoff on [meetup.com](https://www.meetup.com/Seattle-WiDS-Meetup/events/ncnksrybckblb/).  "
   ]
  },
  {
   "cell_type": "markdown",
   "metadata": {},
   "source": [
    "## 2. Purpose of exploratory data analysis\n",
    "\n",
    "Data exploration is the first step in the data analysis process, and involves looking for patterns, characteristics, or points of interest in a large set of unstructured data. Summarizing the size, accuracy and initial patterns in the data provides insight into potential trends and identifies areas that require further analysis to refine the data.  \n",
    "\n",
    "Data exploration typically uses both manual data analysis and automated tools that extract data into initial reports that include data visualizations and charts. Analysis typically includes: variable identification, data cleaning/reformatting, univariate analysis and bi-variate analysis. The end result provides a more useful view of the data to guide further analysis.  "
   ]
  },
  {
   "cell_type": "markdown",
   "metadata": {},
   "source": [
    "## 3. Import packages"
   ]
  },
  {
   "cell_type": "code",
   "execution_count": 1,
   "metadata": {
    "colab": {},
    "colab_type": "code",
    "id": "sFG7fxc7tGes"
   },
   "outputs": [],
   "source": [
    "import numpy as np\n",
    "import pandas as pd\n",
    "import seaborn as sns\n",
    "import matplotlib.pyplot as plt\n",
    "%matplotlib inline\n",
    "\n",
    "from sklearn.preprocessing import OneHotEncoder\n",
    "\n",
    "pd.options.display.max_rows = 1000\n",
    "pd.options.display.max_columns = 100\n",
    "\n",
    "import warnings\n",
    "warnings.filterwarnings('ignore') \n",
    "\n",
    "from datetime import datetime\n",
    "from IPython.display import display, Markdown"
   ]
  },
  {
   "cell_type": "code",
   "execution_count": 2,
   "metadata": {
    "colab": {},
    "colab_type": "code",
    "id": "sFG7fxc7tGes"
   },
   "outputs": [],
   "source": [
    "# Display all output within each cell\n",
    "from IPython.core.interactiveshell import InteractiveShell\n",
    "InteractiveShell.ast_node_interactivity = 'all'"
   ]
  },
  {
   "cell_type": "markdown",
   "metadata": {},
   "source": [
    "## 4. Read the data into a dataframe\n",
    "\n",
    "It's always a good idea to keep a copy of the original data. So, we suggest saving the original collision data in a CSV file and a second CSV file with the manipulated data.  \n",
    "\n",
    "For more information about the Pandas `read_csv` method, see the [pandas.read_csv documentation](https://pandas.pydata.org/pandas-docs/stable/reference/api/pandas.read_csv.html). There are many useful parameters that can be specified, e.g. data types, column names, null values, and etc.   "
   ]
  },
  {
   "cell_type": "code",
   "execution_count": 3,
   "metadata": {},
   "outputs": [],
   "source": [
    "url = \"https://data-seattlecitygis.opendata.arcgis.com/datasets/5b5c745e0f1f48e7a53acec63a0022ab_0.csv\"\n",
    "rdf = pd.read_csv(url, parse_dates=['INCDTTM'])\n",
    "#display(rdf.head())"
   ]
  },
  {
   "cell_type": "code",
   "execution_count": 4,
   "metadata": {},
   "outputs": [],
   "source": [
    "rdf = pd.read_csv('collision_data_692020.csv')"
   ]
  },
  {
   "cell_type": "markdown",
   "metadata": {},
   "source": [
    "### OPTIONAL -- save the initial CSV file \n",
    "\n",
    "It's good practice to save a copy of the original data, but it is not necessary for this workshop. If you want to write a copy of the df to your hard drive, follow run the cells below:"
   ]
  },
  {
   "cell_type": "code",
   "execution_count": 5,
   "metadata": {},
   "outputs": [
    {
     "name": "stdout",
     "output_type": "stream",
     "text": [
      "/Users/niwako/GDrive/Kyōyū/garbanzo\n"
     ]
    }
   ],
   "source": [
    "# to see where the above file is being saved, you can run the\n",
    "# print working directory shell command like this:\n",
    "\n",
    "! pwd"
   ]
  },
  {
   "cell_type": "code",
   "execution_count": 6,
   "metadata": {},
   "outputs": [],
   "source": [
    "df = rdf.copy()"
   ]
  },
  {
   "cell_type": "code",
   "execution_count": 7,
   "metadata": {},
   "outputs": [],
   "source": [
    "# to save the CSV file data locally in your working directory:\n",
    "\n",
    "now = datetime.now()\n",
    "file_name = \"collision_data_{}{}{}.csv\".format(now.month, now.day, now.year)\n",
    "df.to_csv(file_name, encoding=\"utf-8\", index=False) "
   ]
  },
  {
   "cell_type": "code",
   "execution_count": 8,
   "metadata": {},
   "outputs": [
    {
     "name": "stdout",
     "output_type": "stream",
     "text": [
      "Assessment-2019-07-23.ipynb collision_data_6122020.csv\n",
      "NS_Workshop on EDA.ipynb    collision_data_692020.csv\n",
      "Workshop on EDA.ipynb       \u001b[1m\u001b[36mcrime_stats\u001b[m\u001b[m\n",
      "collision_data_6102020.csv  temperament.ipynb\n",
      "collision_data_6112020.csv\n"
     ]
    }
   ],
   "source": [
    "# the ls command shows a list of all files in the current folder (aka directory)\n",
    "# the collision_data CSV file should be in the list\n",
    "! ls"
   ]
  },
  {
   "cell_type": "markdown",
   "metadata": {},
   "source": [
    "## 5. Look at the overall picture of the dataframe"
   ]
  },
  {
   "cell_type": "code",
   "execution_count": 9,
   "metadata": {},
   "outputs": [
    {
     "data": {
      "text/plain": [
       "(219784, 40)"
      ]
     },
     "execution_count": 9,
     "metadata": {},
     "output_type": "execute_result"
    }
   ],
   "source": [
    "df.shape"
   ]
  },
  {
   "cell_type": "code",
   "execution_count": 10,
   "metadata": {},
   "outputs": [
    {
     "data": {
      "text/plain": [
       "Index(['X', 'Y', 'OBJECTID', 'INCKEY', 'COLDETKEY', 'REPORTNO', 'STATUS',\n",
       "       'ADDRTYPE', 'INTKEY', 'LOCATION', 'EXCEPTRSNCODE', 'EXCEPTRSNDESC',\n",
       "       'SEVERITYCODE', 'SEVERITYDESC', 'COLLISIONTYPE', 'PERSONCOUNT',\n",
       "       'PEDCOUNT', 'PEDCYLCOUNT', 'VEHCOUNT', 'INJURIES', 'SERIOUSINJURIES',\n",
       "       'FATALITIES', 'INCDATE', 'INCDTTM', 'JUNCTIONTYPE', 'SDOT_COLCODE',\n",
       "       'SDOT_COLDESC', 'INATTENTIONIND', 'UNDERINFL', 'WEATHER', 'ROADCOND',\n",
       "       'LIGHTCOND', 'PEDROWNOTGRNT', 'SDOTCOLNUM', 'SPEEDING', 'ST_COLCODE',\n",
       "       'ST_COLDESC', 'SEGLANEKEY', 'CROSSWALKKEY', 'HITPARKEDCAR'],\n",
       "      dtype='object')"
      ]
     },
     "execution_count": 10,
     "metadata": {},
     "output_type": "execute_result"
    }
   ],
   "source": [
    "df.columns"
   ]
  },
  {
   "cell_type": "markdown",
   "metadata": {},
   "source": [
    "**NOTE: We might not need to talk about categories of columns here (cell below) as they will be looked at later.**"
   ]
  },
  {
   "cell_type": "markdown",
   "metadata": {},
   "source": [
    "### About the columns\n",
    "\n",
    "OBJECTID - ESRI unique identifier  \n",
    "SHAPE - ESRI geometry field  \n",
    "INCKEY - a unique key for the incident, type Long  \n",
    "COLDETKEY - a secondary key for the incident, type Long  \n",
    "ADDRTYPE - text, 12 VARCHAR, Collision address type:  \n",
    "$\\,\\,$ • Alley  \n",
    "$\\,\\,$ • Block  \n",
    "$\\,\\,$ • Intersection   \n",
    "INTKEY - a key that corresponds to the intersection associated with a collision, type Double  \n",
    "SEVERITYCODE - a code that corresponds to the severity of the collision:  \n",
    "$\\,\\,$ • 3 — fatality  \n",
    "$\\,\\,$ • 2b — serious injury  \n",
    "$\\,\\,$ • 2 — injury  \n",
    "$\\,\\,$ • 1 — prop damage  \n",
    "$\\,\\,$ • 0 — unknown  \n",
    "INCDATE - incident date   \n",
    "INCDTTM - date and time of the incident, type Text, 30 VARCHAR  \n",
    "JUNCTIONTYPE - category of the junction where the collision took place  \n",
    "SDOT_COLCODE - the SDOT collision code    \n",
    "SDOT_COLDESC - a description of the collision corresponding to the collision code  \n",
    "INATTENTIONIND - whether or not collision was due to inattention. (Y/N)  \n",
    "PEDROWNOTGRNT - whether or not the pedestrian right of way was not granted. (Y/N)  \n",
    "ST_COLCODE - code provided by the state that describes the collision, for example: \n",
    "$\\,\\,$ 0 - Vehicle Going Straight Hits Pedestrian  \n",
    "$\\,\\,$ 1 - Vehicle Turning Right Hits Pedestrian  \n",
    "$\\,\\,$ 2 - Vehicle Turning Left Hits Pedestrian  \n",
    "$\\,\\,$ 3 - Vehicle Backing Hits Pedestrian  \n",
    "$\\,\\,$ 4 - Vehicle Hits Pedestrian - All Other Actions  \n",
    "$\\,\\,$ 5 - Vehicle Hits Pedestrian - Actions Not Stated  \n",
    "$\\,\\,$ 10 - Entering At Angle   \n",
    "$\\,\\,$ 11 - From Same Direction - Both Going Straight - Both Moving - Sideswipe  \n",
    "$\\,\\,$ 12 - From Same Direction - Both Going Straight - One Stopped - Sideswipe  \n",
    "$\\,\\,$ 13 - From Same Direction - Both Going Straight - Both Moving - Rear End  \n",
    "$\\,\\,$ ...  \n",
    "ST_COLDESC - a description that corresponds to the state’s coding designation    \n",
    "SEGLANEKEY - a key for the lane segment in which the collision occurred  \n",
    "CROSSWALKKEY - a key for the crosswalk at which the collision occurred  "
   ]
  },
  {
   "cell_type": "code",
   "execution_count": 11,
   "metadata": {},
   "outputs": [
    {
     "data": {
      "text/plain": [
       "X                  float64\n",
       "Y                  float64\n",
       "OBJECTID             int64\n",
       "INCKEY               int64\n",
       "COLDETKEY            int64\n",
       "REPORTNO            object\n",
       "STATUS              object\n",
       "ADDRTYPE            object\n",
       "INTKEY             float64\n",
       "LOCATION            object\n",
       "EXCEPTRSNCODE       object\n",
       "EXCEPTRSNDESC       object\n",
       "SEVERITYCODE        object\n",
       "SEVERITYDESC        object\n",
       "COLLISIONTYPE       object\n",
       "PERSONCOUNT          int64\n",
       "PEDCOUNT             int64\n",
       "PEDCYLCOUNT          int64\n",
       "VEHCOUNT             int64\n",
       "INJURIES             int64\n",
       "SERIOUSINJURIES      int64\n",
       "FATALITIES           int64\n",
       "INCDATE             object\n",
       "INCDTTM             object\n",
       "JUNCTIONTYPE        object\n",
       "SDOT_COLCODE       float64\n",
       "SDOT_COLDESC        object\n",
       "INATTENTIONIND      object\n",
       "UNDERINFL           object\n",
       "WEATHER             object\n",
       "ROADCOND            object\n",
       "LIGHTCOND           object\n",
       "PEDROWNOTGRNT       object\n",
       "SDOTCOLNUM         float64\n",
       "SPEEDING            object\n",
       "ST_COLCODE          object\n",
       "ST_COLDESC          object\n",
       "SEGLANEKEY           int64\n",
       "CROSSWALKKEY         int64\n",
       "HITPARKEDCAR        object\n",
       "dtype: object"
      ]
     },
     "execution_count": 11,
     "metadata": {},
     "output_type": "execute_result"
    }
   ],
   "source": [
    "df.dtypes"
   ]
  },
  {
   "cell_type": "markdown",
   "metadata": {},
   "source": [
    "## 6. Understand the dataframe in relation to the questions at hand"
   ]
  },
  {
   "cell_type": "markdown",
   "metadata": {},
   "source": [
    "## a. Goals\n",
    "\n",
    "The Project Circle has the following goals\n",
    "\n",
    "1. Identify dangerous locations \n",
    "1. Identify predictors of accidents (e.g., physical characteristics of the location, road condition, DUI, weather)\n",
    "1. Examine increase or decrease in number of accidents over time\n",
    "1. Identify predictors of increase or decrease in the number of accidents\n",
    "1. Recommend improvements on dangerous locations\n",
    "\n",
    "- However, as you explore the dataset, other questions are likely to pop up in your head. \n",
    "- We recommend making a note of those questions as they may guide you through your project. \n",
    "- You are welcome to answer any questions you are interested in using this dataset."
   ]
  },
  {
   "cell_type": "markdown",
   "metadata": {},
   "source": [
    "## b. Which columns are related to the outcome of the incident?"
   ]
  },
  {
   "cell_type": "markdown",
   "metadata": {},
   "source": [
    "- PERSONCOUNT (# of people invovled)\n",
    "- PEDCOUNT (# of pedestirans)\n",
    "- PEDCYLCOUNT (# of cyclists)\n",
    "- VEHCOUNT (# of vehicles)\n",
    "- INJURIES (# of injuries)\n",
    "- SERIOUSINJURIES (# of serious injuries)\n",
    "- FATALITIES (#  of deaths)"
   ]
  },
  {
   "cell_type": "markdown",
   "metadata": {},
   "source": [
    "## c. Which columns might serve as predictors of the outcome of the incident?"
   ]
  },
  {
   "cell_type": "markdown",
   "metadata": {},
   "source": [
    "### External (i.e., not dependent on the characteristics of the collision site) factors\n",
    "- LIGHTCOND (light condition)   \n",
    "- WEATHER   \n",
    "\n",
    "### People’s factors\n",
    "- INATTENTIONIND (whether or not collision was due to inattention)\n",
    "- UNDERINFL (whether or not a driver involved was under the influence)\n",
    "- PEDROWNOTGRNT(Whether pedestrian had the right of way)\n",
    "- SPEEDING (whether or not speeding was a factor in the collision)\n",
    "\n",
    "### Characteristics of the site\n",
    "- ADDRTYPE (address type)\n",
    "- LOCATION (described in street names)\n",
    "- JUNCTIONTYPE (junction type)\n",
    "- ROADCOND (road condition)\n"
   ]
  },
  {
   "cell_type": "markdown",
   "metadata": {},
   "source": [
    "## 7. Cleaning at the dataframe level\n",
    "\n",
    "It can be helpful to evaluate the dataframe as a whole and do dataframe level cleaning and formatting before drilling down into the individual variables. This includes tasks like renaming columns, removing duplicate rows, changing column datatypes, or dropping any clearly unnecessary columns (especially if memory is an issue).  \n",
    "\n",
    "Depending on the complexity of your dataset and how familiar you are with the the domain knowledge, some of these tasks will need to be completed after you work with the individual variables, _i.e._ at the column level.  \n",
    "\n",
    "This might also be a good point to merge multiple dataframes if you're working with multiple datasets.  "
   ]
  },
  {
   "cell_type": "markdown",
   "metadata": {},
   "source": [
    "## a. Consider dropping unnecessary columns\n",
    "\n",
    "It is a bit risky to drop columns at this point, but if there are columns that are clearly unhelpful or missing a huge amount of data, then dropping those columns is reasonable. "
   ]
  },
  {
   "cell_type": "code",
   "execution_count": 12,
   "metadata": {},
   "outputs": [
    {
     "data": {
      "text/html": [
       "<div>\n",
       "<style scoped>\n",
       "    .dataframe tbody tr th:only-of-type {\n",
       "        vertical-align: middle;\n",
       "    }\n",
       "\n",
       "    .dataframe tbody tr th {\n",
       "        vertical-align: top;\n",
       "    }\n",
       "\n",
       "    .dataframe thead th {\n",
       "        text-align: right;\n",
       "    }\n",
       "</style>\n",
       "<table border=\"1\" class=\"dataframe\">\n",
       "  <thead>\n",
       "    <tr style=\"text-align: right;\">\n",
       "      <th></th>\n",
       "      <th>X</th>\n",
       "      <th>Y</th>\n",
       "      <th>INCKEY</th>\n",
       "      <th>COLDETKEY</th>\n",
       "      <th>REPORTNO</th>\n",
       "      <th>STATUS</th>\n",
       "      <th>ADDRTYPE</th>\n",
       "      <th>INTKEY</th>\n",
       "      <th>LOCATION</th>\n",
       "      <th>EXCEPTRSNCODE</th>\n",
       "      <th>EXCEPTRSNDESC</th>\n",
       "      <th>SEVERITYCODE</th>\n",
       "      <th>SEVERITYDESC</th>\n",
       "      <th>COLLISIONTYPE</th>\n",
       "      <th>PERSONCOUNT</th>\n",
       "      <th>PEDCOUNT</th>\n",
       "      <th>PEDCYLCOUNT</th>\n",
       "      <th>VEHCOUNT</th>\n",
       "      <th>INJURIES</th>\n",
       "      <th>SERIOUSINJURIES</th>\n",
       "      <th>FATALITIES</th>\n",
       "      <th>INCDATE</th>\n",
       "      <th>INCDTTM</th>\n",
       "      <th>JUNCTIONTYPE</th>\n",
       "      <th>SDOT_COLCODE</th>\n",
       "      <th>SDOT_COLDESC</th>\n",
       "      <th>INATTENTIONIND</th>\n",
       "      <th>UNDERINFL</th>\n",
       "      <th>WEATHER</th>\n",
       "      <th>ROADCOND</th>\n",
       "      <th>LIGHTCOND</th>\n",
       "      <th>PEDROWNOTGRNT</th>\n",
       "      <th>SDOTCOLNUM</th>\n",
       "      <th>SPEEDING</th>\n",
       "      <th>ST_COLCODE</th>\n",
       "      <th>ST_COLDESC</th>\n",
       "      <th>SEGLANEKEY</th>\n",
       "      <th>CROSSWALKKEY</th>\n",
       "      <th>HITPARKEDCAR</th>\n",
       "    </tr>\n",
       "  </thead>\n",
       "  <tbody>\n",
       "    <tr>\n",
       "      <th>0</th>\n",
       "      <td>-122.351724</td>\n",
       "      <td>47.560306</td>\n",
       "      <td>69200</td>\n",
       "      <td>69200</td>\n",
       "      <td>2609209</td>\n",
       "      <td>Matched</td>\n",
       "      <td>Block</td>\n",
       "      <td>NaN</td>\n",
       "      <td>WEST MARGINAL WAY SW BETWEEN SW ALASKA ST AND ...</td>\n",
       "      <td>NaN</td>\n",
       "      <td>NaN</td>\n",
       "      <td>2</td>\n",
       "      <td>Injury Collision</td>\n",
       "      <td>Other</td>\n",
       "      <td>1</td>\n",
       "      <td>0</td>\n",
       "      <td>0</td>\n",
       "      <td>1</td>\n",
       "      <td>1</td>\n",
       "      <td>0</td>\n",
       "      <td>0</td>\n",
       "      <td>2007/11/21 00:00:00+00</td>\n",
       "      <td>2007-11-21 21:58:00</td>\n",
       "      <td>Mid-Block (not related to intersection)</td>\n",
       "      <td>28.0</td>\n",
       "      <td>MOTOR VEHICLE RAN OFF ROAD - HIT FIXED OBJECT</td>\n",
       "      <td>NaN</td>\n",
       "      <td>0</td>\n",
       "      <td>Clear</td>\n",
       "      <td>Dry</td>\n",
       "      <td>Dark - Street Lights On</td>\n",
       "      <td>NaN</td>\n",
       "      <td>7325037.0</td>\n",
       "      <td>NaN</td>\n",
       "      <td>50</td>\n",
       "      <td>Fixed object</td>\n",
       "      <td>0</td>\n",
       "      <td>0</td>\n",
       "      <td>N</td>\n",
       "    </tr>\n",
       "    <tr>\n",
       "      <th>1</th>\n",
       "      <td>-122.347730</td>\n",
       "      <td>47.728225</td>\n",
       "      <td>330812</td>\n",
       "      <td>332312</td>\n",
       "      <td>EA29622</td>\n",
       "      <td>Unmatched</td>\n",
       "      <td>Block</td>\n",
       "      <td>NaN</td>\n",
       "      <td>LINDEN AVE N BETWEEN N 137TH S ST AND N 137TH ...</td>\n",
       "      <td></td>\n",
       "      <td>NaN</td>\n",
       "      <td>1</td>\n",
       "      <td>Property Damage Only Collision</td>\n",
       "      <td>NaN</td>\n",
       "      <td>2</td>\n",
       "      <td>0</td>\n",
       "      <td>0</td>\n",
       "      <td>0</td>\n",
       "      <td>0</td>\n",
       "      <td>0</td>\n",
       "      <td>0</td>\n",
       "      <td>2020/04/17 00:00:00+00</td>\n",
       "      <td>2020-04-17 00:00:00</td>\n",
       "      <td>Mid-Block (not related to intersection)</td>\n",
       "      <td>11.0</td>\n",
       "      <td>MOTOR VEHICLE STRUCK MOTOR VEHICLE, FRONT END ...</td>\n",
       "      <td>NaN</td>\n",
       "      <td>NaN</td>\n",
       "      <td>NaN</td>\n",
       "      <td>NaN</td>\n",
       "      <td>NaN</td>\n",
       "      <td>NaN</td>\n",
       "      <td>NaN</td>\n",
       "      <td>NaN</td>\n",
       "      <td></td>\n",
       "      <td>NaN</td>\n",
       "      <td>0</td>\n",
       "      <td>0</td>\n",
       "      <td>N</td>\n",
       "    </tr>\n",
       "    <tr>\n",
       "      <th>2</th>\n",
       "      <td>-122.336316</td>\n",
       "      <td>47.651240</td>\n",
       "      <td>64400</td>\n",
       "      <td>64400</td>\n",
       "      <td>2611290</td>\n",
       "      <td>Matched</td>\n",
       "      <td>Block</td>\n",
       "      <td>NaN</td>\n",
       "      <td>WALLINGFORD AVE N BETWEEN N 36TH ST AND N 37TH ST</td>\n",
       "      <td>NaN</td>\n",
       "      <td>NaN</td>\n",
       "      <td>1</td>\n",
       "      <td>Property Damage Only Collision</td>\n",
       "      <td>Parked Car</td>\n",
       "      <td>2</td>\n",
       "      <td>0</td>\n",
       "      <td>0</td>\n",
       "      <td>2</td>\n",
       "      <td>0</td>\n",
       "      <td>0</td>\n",
       "      <td>0</td>\n",
       "      <td>2007/04/08 00:00:00+00</td>\n",
       "      <td>2007-04-08 00:00:00</td>\n",
       "      <td>Mid-Block (not related to intersection)</td>\n",
       "      <td>11.0</td>\n",
       "      <td>MOTOR VEHICLE STRUCK MOTOR VEHICLE, FRONT END ...</td>\n",
       "      <td>NaN</td>\n",
       "      <td>0</td>\n",
       "      <td>Unknown</td>\n",
       "      <td>Unknown</td>\n",
       "      <td>Dark - Street Lights On</td>\n",
       "      <td>NaN</td>\n",
       "      <td>7098008.0</td>\n",
       "      <td>NaN</td>\n",
       "      <td>32</td>\n",
       "      <td>One parked--one moving</td>\n",
       "      <td>0</td>\n",
       "      <td>0</td>\n",
       "      <td>N</td>\n",
       "    </tr>\n",
       "  </tbody>\n",
       "</table>\n",
       "</div>"
      ],
      "text/plain": [
       "            X          Y  INCKEY  COLDETKEY REPORTNO     STATUS ADDRTYPE  \\\n",
       "0 -122.351724  47.560306   69200      69200  2609209    Matched    Block   \n",
       "1 -122.347730  47.728225  330812     332312  EA29622  Unmatched    Block   \n",
       "2 -122.336316  47.651240   64400      64400  2611290    Matched    Block   \n",
       "\n",
       "   INTKEY                                           LOCATION EXCEPTRSNCODE  \\\n",
       "0     NaN  WEST MARGINAL WAY SW BETWEEN SW ALASKA ST AND ...           NaN   \n",
       "1     NaN  LINDEN AVE N BETWEEN N 137TH S ST AND N 137TH ...                 \n",
       "2     NaN  WALLINGFORD AVE N BETWEEN N 36TH ST AND N 37TH ST           NaN   \n",
       "\n",
       "  EXCEPTRSNDESC SEVERITYCODE                    SEVERITYDESC COLLISIONTYPE  \\\n",
       "0           NaN            2                Injury Collision         Other   \n",
       "1           NaN            1  Property Damage Only Collision           NaN   \n",
       "2           NaN            1  Property Damage Only Collision    Parked Car   \n",
       "\n",
       "   PERSONCOUNT  PEDCOUNT  PEDCYLCOUNT  VEHCOUNT  INJURIES  SERIOUSINJURIES  \\\n",
       "0            1         0            0         1         1                0   \n",
       "1            2         0            0         0         0                0   \n",
       "2            2         0            0         2         0                0   \n",
       "\n",
       "   FATALITIES                 INCDATE              INCDTTM  \\\n",
       "0           0  2007/11/21 00:00:00+00  2007-11-21 21:58:00   \n",
       "1           0  2020/04/17 00:00:00+00  2020-04-17 00:00:00   \n",
       "2           0  2007/04/08 00:00:00+00  2007-04-08 00:00:00   \n",
       "\n",
       "                              JUNCTIONTYPE  SDOT_COLCODE  \\\n",
       "0  Mid-Block (not related to intersection)          28.0   \n",
       "1  Mid-Block (not related to intersection)          11.0   \n",
       "2  Mid-Block (not related to intersection)          11.0   \n",
       "\n",
       "                                        SDOT_COLDESC INATTENTIONIND UNDERINFL  \\\n",
       "0      MOTOR VEHICLE RAN OFF ROAD - HIT FIXED OBJECT            NaN         0   \n",
       "1  MOTOR VEHICLE STRUCK MOTOR VEHICLE, FRONT END ...            NaN       NaN   \n",
       "2  MOTOR VEHICLE STRUCK MOTOR VEHICLE, FRONT END ...            NaN         0   \n",
       "\n",
       "   WEATHER ROADCOND                LIGHTCOND PEDROWNOTGRNT  SDOTCOLNUM  \\\n",
       "0    Clear      Dry  Dark - Street Lights On           NaN   7325037.0   \n",
       "1      NaN      NaN                      NaN           NaN         NaN   \n",
       "2  Unknown  Unknown  Dark - Street Lights On           NaN   7098008.0   \n",
       "\n",
       "  SPEEDING ST_COLCODE              ST_COLDESC  SEGLANEKEY  CROSSWALKKEY  \\\n",
       "0      NaN         50            Fixed object           0             0   \n",
       "1      NaN                                NaN           0             0   \n",
       "2      NaN         32  One parked--one moving           0             0   \n",
       "\n",
       "  HITPARKEDCAR  \n",
       "0            N  \n",
       "1            N  \n",
       "2            N  "
      ]
     },
     "execution_count": 12,
     "metadata": {},
     "output_type": "execute_result"
    }
   ],
   "source": [
    "# example - column objectid is essentially an index column, so you could drop it,\n",
    "# but this might make things a bit difficult later if you want to merge on objectid\n",
    "df.drop(columns=[\"OBJECTID\"], inplace=False).head(3)"
   ]
  },
  {
   "cell_type": "code",
   "execution_count": 13,
   "metadata": {},
   "outputs": [
    {
     "data": {
      "text/html": [
       "<div>\n",
       "<style scoped>\n",
       "    .dataframe tbody tr th:only-of-type {\n",
       "        vertical-align: middle;\n",
       "    }\n",
       "\n",
       "    .dataframe tbody tr th {\n",
       "        vertical-align: top;\n",
       "    }\n",
       "\n",
       "    .dataframe thead th {\n",
       "        text-align: right;\n",
       "    }\n",
       "</style>\n",
       "<table border=\"1\" class=\"dataframe\">\n",
       "  <thead>\n",
       "    <tr style=\"text-align: right;\">\n",
       "      <th></th>\n",
       "      <th>X</th>\n",
       "      <th>Y</th>\n",
       "      <th>INCKEY</th>\n",
       "      <th>COLDETKEY</th>\n",
       "      <th>REPORTNO</th>\n",
       "      <th>STATUS</th>\n",
       "      <th>ADDRTYPE</th>\n",
       "      <th>INTKEY</th>\n",
       "      <th>LOCATION</th>\n",
       "      <th>EXCEPTRSNCODE</th>\n",
       "      <th>EXCEPTRSNDESC</th>\n",
       "      <th>SEVERITYCODE</th>\n",
       "      <th>SEVERITYDESC</th>\n",
       "      <th>COLLISIONTYPE</th>\n",
       "      <th>PERSONCOUNT</th>\n",
       "      <th>PEDCOUNT</th>\n",
       "      <th>PEDCYLCOUNT</th>\n",
       "      <th>VEHCOUNT</th>\n",
       "      <th>INJURIES</th>\n",
       "      <th>SERIOUSINJURIES</th>\n",
       "      <th>FATALITIES</th>\n",
       "      <th>INCDATE</th>\n",
       "      <th>INCDTTM</th>\n",
       "      <th>JUNCTIONTYPE</th>\n",
       "      <th>SDOT_COLCODE</th>\n",
       "      <th>SDOT_COLDESC</th>\n",
       "      <th>INATTENTIONIND</th>\n",
       "      <th>UNDERINFL</th>\n",
       "      <th>WEATHER</th>\n",
       "      <th>ROADCOND</th>\n",
       "      <th>LIGHTCOND</th>\n",
       "      <th>PEDROWNOTGRNT</th>\n",
       "      <th>SDOTCOLNUM</th>\n",
       "      <th>SPEEDING</th>\n",
       "      <th>ST_COLCODE</th>\n",
       "      <th>ST_COLDESC</th>\n",
       "      <th>SEGLANEKEY</th>\n",
       "      <th>CROSSWALKKEY</th>\n",
       "      <th>HITPARKEDCAR</th>\n",
       "    </tr>\n",
       "    <tr>\n",
       "      <th>OBJECTID</th>\n",
       "      <th></th>\n",
       "      <th></th>\n",
       "      <th></th>\n",
       "      <th></th>\n",
       "      <th></th>\n",
       "      <th></th>\n",
       "      <th></th>\n",
       "      <th></th>\n",
       "      <th></th>\n",
       "      <th></th>\n",
       "      <th></th>\n",
       "      <th></th>\n",
       "      <th></th>\n",
       "      <th></th>\n",
       "      <th></th>\n",
       "      <th></th>\n",
       "      <th></th>\n",
       "      <th></th>\n",
       "      <th></th>\n",
       "      <th></th>\n",
       "      <th></th>\n",
       "      <th></th>\n",
       "      <th></th>\n",
       "      <th></th>\n",
       "      <th></th>\n",
       "      <th></th>\n",
       "      <th></th>\n",
       "      <th></th>\n",
       "      <th></th>\n",
       "      <th></th>\n",
       "      <th></th>\n",
       "      <th></th>\n",
       "      <th></th>\n",
       "      <th></th>\n",
       "      <th></th>\n",
       "      <th></th>\n",
       "      <th></th>\n",
       "      <th></th>\n",
       "      <th></th>\n",
       "    </tr>\n",
       "  </thead>\n",
       "  <tbody>\n",
       "    <tr>\n",
       "      <th>1</th>\n",
       "      <td>-122.351724</td>\n",
       "      <td>47.560306</td>\n",
       "      <td>69200</td>\n",
       "      <td>69200</td>\n",
       "      <td>2609209</td>\n",
       "      <td>Matched</td>\n",
       "      <td>Block</td>\n",
       "      <td>NaN</td>\n",
       "      <td>WEST MARGINAL WAY SW BETWEEN SW ALASKA ST AND ...</td>\n",
       "      <td>NaN</td>\n",
       "      <td>NaN</td>\n",
       "      <td>2</td>\n",
       "      <td>Injury Collision</td>\n",
       "      <td>Other</td>\n",
       "      <td>1</td>\n",
       "      <td>0</td>\n",
       "      <td>0</td>\n",
       "      <td>1</td>\n",
       "      <td>1</td>\n",
       "      <td>0</td>\n",
       "      <td>0</td>\n",
       "      <td>2007/11/21 00:00:00+00</td>\n",
       "      <td>2007-11-21 21:58:00</td>\n",
       "      <td>Mid-Block (not related to intersection)</td>\n",
       "      <td>28.0</td>\n",
       "      <td>MOTOR VEHICLE RAN OFF ROAD - HIT FIXED OBJECT</td>\n",
       "      <td>NaN</td>\n",
       "      <td>0</td>\n",
       "      <td>Clear</td>\n",
       "      <td>Dry</td>\n",
       "      <td>Dark - Street Lights On</td>\n",
       "      <td>NaN</td>\n",
       "      <td>7325037.0</td>\n",
       "      <td>NaN</td>\n",
       "      <td>50</td>\n",
       "      <td>Fixed object</td>\n",
       "      <td>0</td>\n",
       "      <td>0</td>\n",
       "      <td>N</td>\n",
       "    </tr>\n",
       "    <tr>\n",
       "      <th>2</th>\n",
       "      <td>-122.347730</td>\n",
       "      <td>47.728225</td>\n",
       "      <td>330812</td>\n",
       "      <td>332312</td>\n",
       "      <td>EA29622</td>\n",
       "      <td>Unmatched</td>\n",
       "      <td>Block</td>\n",
       "      <td>NaN</td>\n",
       "      <td>LINDEN AVE N BETWEEN N 137TH S ST AND N 137TH ...</td>\n",
       "      <td></td>\n",
       "      <td>NaN</td>\n",
       "      <td>1</td>\n",
       "      <td>Property Damage Only Collision</td>\n",
       "      <td>NaN</td>\n",
       "      <td>2</td>\n",
       "      <td>0</td>\n",
       "      <td>0</td>\n",
       "      <td>0</td>\n",
       "      <td>0</td>\n",
       "      <td>0</td>\n",
       "      <td>0</td>\n",
       "      <td>2020/04/17 00:00:00+00</td>\n",
       "      <td>2020-04-17 00:00:00</td>\n",
       "      <td>Mid-Block (not related to intersection)</td>\n",
       "      <td>11.0</td>\n",
       "      <td>MOTOR VEHICLE STRUCK MOTOR VEHICLE, FRONT END ...</td>\n",
       "      <td>NaN</td>\n",
       "      <td>NaN</td>\n",
       "      <td>NaN</td>\n",
       "      <td>NaN</td>\n",
       "      <td>NaN</td>\n",
       "      <td>NaN</td>\n",
       "      <td>NaN</td>\n",
       "      <td>NaN</td>\n",
       "      <td></td>\n",
       "      <td>NaN</td>\n",
       "      <td>0</td>\n",
       "      <td>0</td>\n",
       "      <td>N</td>\n",
       "    </tr>\n",
       "    <tr>\n",
       "      <th>3</th>\n",
       "      <td>-122.336316</td>\n",
       "      <td>47.651240</td>\n",
       "      <td>64400</td>\n",
       "      <td>64400</td>\n",
       "      <td>2611290</td>\n",
       "      <td>Matched</td>\n",
       "      <td>Block</td>\n",
       "      <td>NaN</td>\n",
       "      <td>WALLINGFORD AVE N BETWEEN N 36TH ST AND N 37TH ST</td>\n",
       "      <td>NaN</td>\n",
       "      <td>NaN</td>\n",
       "      <td>1</td>\n",
       "      <td>Property Damage Only Collision</td>\n",
       "      <td>Parked Car</td>\n",
       "      <td>2</td>\n",
       "      <td>0</td>\n",
       "      <td>0</td>\n",
       "      <td>2</td>\n",
       "      <td>0</td>\n",
       "      <td>0</td>\n",
       "      <td>0</td>\n",
       "      <td>2007/04/08 00:00:00+00</td>\n",
       "      <td>2007-04-08 00:00:00</td>\n",
       "      <td>Mid-Block (not related to intersection)</td>\n",
       "      <td>11.0</td>\n",
       "      <td>MOTOR VEHICLE STRUCK MOTOR VEHICLE, FRONT END ...</td>\n",
       "      <td>NaN</td>\n",
       "      <td>0</td>\n",
       "      <td>Unknown</td>\n",
       "      <td>Unknown</td>\n",
       "      <td>Dark - Street Lights On</td>\n",
       "      <td>NaN</td>\n",
       "      <td>7098008.0</td>\n",
       "      <td>NaN</td>\n",
       "      <td>32</td>\n",
       "      <td>One parked--one moving</td>\n",
       "      <td>0</td>\n",
       "      <td>0</td>\n",
       "      <td>N</td>\n",
       "    </tr>\n",
       "  </tbody>\n",
       "</table>\n",
       "</div>"
      ],
      "text/plain": [
       "                   X          Y  INCKEY  COLDETKEY REPORTNO     STATUS  \\\n",
       "OBJECTID                                                                 \n",
       "1        -122.351724  47.560306   69200      69200  2609209    Matched   \n",
       "2        -122.347730  47.728225  330812     332312  EA29622  Unmatched   \n",
       "3        -122.336316  47.651240   64400      64400  2611290    Matched   \n",
       "\n",
       "         ADDRTYPE  INTKEY                                           LOCATION  \\\n",
       "OBJECTID                                                                       \n",
       "1           Block     NaN  WEST MARGINAL WAY SW BETWEEN SW ALASKA ST AND ...   \n",
       "2           Block     NaN  LINDEN AVE N BETWEEN N 137TH S ST AND N 137TH ...   \n",
       "3           Block     NaN  WALLINGFORD AVE N BETWEEN N 36TH ST AND N 37TH ST   \n",
       "\n",
       "         EXCEPTRSNCODE EXCEPTRSNDESC SEVERITYCODE  \\\n",
       "OBJECTID                                            \n",
       "1                  NaN           NaN            2   \n",
       "2                                NaN            1   \n",
       "3                  NaN           NaN            1   \n",
       "\n",
       "                            SEVERITYDESC COLLISIONTYPE  PERSONCOUNT  PEDCOUNT  \\\n",
       "OBJECTID                                                                        \n",
       "1                       Injury Collision         Other            1         0   \n",
       "2         Property Damage Only Collision           NaN            2         0   \n",
       "3         Property Damage Only Collision    Parked Car            2         0   \n",
       "\n",
       "          PEDCYLCOUNT  VEHCOUNT  INJURIES  SERIOUSINJURIES  FATALITIES  \\\n",
       "OBJECTID                                                                 \n",
       "1                   0         1         1                0           0   \n",
       "2                   0         0         0                0           0   \n",
       "3                   0         2         0                0           0   \n",
       "\n",
       "                         INCDATE              INCDTTM  \\\n",
       "OBJECTID                                                \n",
       "1         2007/11/21 00:00:00+00  2007-11-21 21:58:00   \n",
       "2         2020/04/17 00:00:00+00  2020-04-17 00:00:00   \n",
       "3         2007/04/08 00:00:00+00  2007-04-08 00:00:00   \n",
       "\n",
       "                                     JUNCTIONTYPE  SDOT_COLCODE  \\\n",
       "OBJECTID                                                          \n",
       "1         Mid-Block (not related to intersection)          28.0   \n",
       "2         Mid-Block (not related to intersection)          11.0   \n",
       "3         Mid-Block (not related to intersection)          11.0   \n",
       "\n",
       "                                               SDOT_COLDESC INATTENTIONIND  \\\n",
       "OBJECTID                                                                     \n",
       "1             MOTOR VEHICLE RAN OFF ROAD - HIT FIXED OBJECT            NaN   \n",
       "2         MOTOR VEHICLE STRUCK MOTOR VEHICLE, FRONT END ...            NaN   \n",
       "3         MOTOR VEHICLE STRUCK MOTOR VEHICLE, FRONT END ...            NaN   \n",
       "\n",
       "         UNDERINFL  WEATHER ROADCOND                LIGHTCOND PEDROWNOTGRNT  \\\n",
       "OBJECTID                                                                      \n",
       "1                0    Clear      Dry  Dark - Street Lights On           NaN   \n",
       "2              NaN      NaN      NaN                      NaN           NaN   \n",
       "3                0  Unknown  Unknown  Dark - Street Lights On           NaN   \n",
       "\n",
       "          SDOTCOLNUM SPEEDING ST_COLCODE              ST_COLDESC  SEGLANEKEY  \\\n",
       "OBJECTID                                                                       \n",
       "1          7325037.0      NaN         50            Fixed object           0   \n",
       "2                NaN      NaN                                NaN           0   \n",
       "3          7098008.0      NaN         32  One parked--one moving           0   \n",
       "\n",
       "          CROSSWALKKEY HITPARKEDCAR  \n",
       "OBJECTID                             \n",
       "1                    0            N  \n",
       "2                    0            N  \n",
       "3                    0            N  "
      ]
     },
     "execution_count": 13,
     "metadata": {},
     "output_type": "execute_result"
    }
   ],
   "source": [
    "# or make objectid the df index\n",
    "df.set_index(\"OBJECTID\", inplace=False).head(3)"
   ]
  },
  {
   "cell_type": "code",
   "execution_count": 14,
   "metadata": {},
   "outputs": [
    {
     "data": {
      "text/html": [
       "<div>\n",
       "<style scoped>\n",
       "    .dataframe tbody tr th:only-of-type {\n",
       "        vertical-align: middle;\n",
       "    }\n",
       "\n",
       "    .dataframe tbody tr th {\n",
       "        vertical-align: top;\n",
       "    }\n",
       "\n",
       "    .dataframe thead th {\n",
       "        text-align: right;\n",
       "    }\n",
       "</style>\n",
       "<table border=\"1\" class=\"dataframe\">\n",
       "  <thead>\n",
       "    <tr style=\"text-align: right;\">\n",
       "      <th></th>\n",
       "      <th>percent_missing_values</th>\n",
       "      <th>total_unique_values</th>\n",
       "    </tr>\n",
       "  </thead>\n",
       "  <tbody>\n",
       "    <tr>\n",
       "      <th>PEDROWNOTGRNT</th>\n",
       "      <td>97.65</td>\n",
       "      <td>1</td>\n",
       "    </tr>\n",
       "    <tr>\n",
       "      <th>SPEEDING</th>\n",
       "      <td>95.53</td>\n",
       "      <td>1</td>\n",
       "    </tr>\n",
       "    <tr>\n",
       "      <th>EXCEPTRSNDESC</th>\n",
       "      <td>94.66</td>\n",
       "      <td>1</td>\n",
       "    </tr>\n",
       "    <tr>\n",
       "      <th>INATTENTIONIND</th>\n",
       "      <td>86.27</td>\n",
       "      <td>1</td>\n",
       "    </tr>\n",
       "    <tr>\n",
       "      <th>INTKEY</th>\n",
       "      <td>67.57</td>\n",
       "      <td>7889</td>\n",
       "    </tr>\n",
       "    <tr>\n",
       "      <th>EXCEPTRSNCODE</th>\n",
       "      <td>54.78</td>\n",
       "      <td>2</td>\n",
       "    </tr>\n",
       "    <tr>\n",
       "      <th>SDOTCOLNUM</th>\n",
       "      <td>42.12</td>\n",
       "      <td>127186</td>\n",
       "    </tr>\n",
       "    <tr>\n",
       "      <th>LIGHTCOND</th>\n",
       "      <td>12.00</td>\n",
       "      <td>9</td>\n",
       "    </tr>\n",
       "    <tr>\n",
       "      <th>WEATHER</th>\n",
       "      <td>11.96</td>\n",
       "      <td>11</td>\n",
       "    </tr>\n",
       "    <tr>\n",
       "      <th>ROADCOND</th>\n",
       "      <td>11.93</td>\n",
       "      <td>9</td>\n",
       "    </tr>\n",
       "    <tr>\n",
       "      <th>ST_COLDESC</th>\n",
       "      <td>11.88</td>\n",
       "      <td>62</td>\n",
       "    </tr>\n",
       "    <tr>\n",
       "      <th>COLLISIONTYPE</th>\n",
       "      <td>11.88</td>\n",
       "      <td>10</td>\n",
       "    </tr>\n",
       "    <tr>\n",
       "      <th>UNDERINFL</th>\n",
       "      <td>11.87</td>\n",
       "      <td>4</td>\n",
       "    </tr>\n",
       "    <tr>\n",
       "      <th>JUNCTIONTYPE</th>\n",
       "      <td>5.43</td>\n",
       "      <td>7</td>\n",
       "    </tr>\n",
       "    <tr>\n",
       "      <th>ST_COLCODE</th>\n",
       "      <td>4.28</td>\n",
       "      <td>63</td>\n",
       "    </tr>\n",
       "    <tr>\n",
       "      <th>Y</th>\n",
       "      <td>3.39</td>\n",
       "      <td>24908</td>\n",
       "    </tr>\n",
       "    <tr>\n",
       "      <th>X</th>\n",
       "      <td>3.39</td>\n",
       "      <td>24908</td>\n",
       "    </tr>\n",
       "    <tr>\n",
       "      <th>LOCATION</th>\n",
       "      <td>2.08</td>\n",
       "      <td>25136</td>\n",
       "    </tr>\n",
       "    <tr>\n",
       "      <th>ADDRTYPE</th>\n",
       "      <td>1.68</td>\n",
       "      <td>3</td>\n",
       "    </tr>\n",
       "    <tr>\n",
       "      <th>SEGLANEKEY</th>\n",
       "      <td>0.00</td>\n",
       "      <td>2099</td>\n",
       "    </tr>\n",
       "    <tr>\n",
       "      <th>CROSSWALKKEY</th>\n",
       "      <td>0.00</td>\n",
       "      <td>2340</td>\n",
       "    </tr>\n",
       "    <tr>\n",
       "      <th>SDOT_COLDESC</th>\n",
       "      <td>0.00</td>\n",
       "      <td>39</td>\n",
       "    </tr>\n",
       "    <tr>\n",
       "      <th>SDOT_COLCODE</th>\n",
       "      <td>0.00</td>\n",
       "      <td>39</td>\n",
       "    </tr>\n",
       "    <tr>\n",
       "      <th>SERIOUSINJURIES</th>\n",
       "      <td>0.00</td>\n",
       "      <td>7</td>\n",
       "    </tr>\n",
       "    <tr>\n",
       "      <th>INCDTTM</th>\n",
       "      <td>0.00</td>\n",
       "      <td>167964</td>\n",
       "    </tr>\n",
       "  </tbody>\n",
       "</table>\n",
       "</div>"
      ],
      "text/plain": [
       "                 percent_missing_values  total_unique_values\n",
       "PEDROWNOTGRNT                     97.65                    1\n",
       "SPEEDING                          95.53                    1\n",
       "EXCEPTRSNDESC                     94.66                    1\n",
       "INATTENTIONIND                    86.27                    1\n",
       "INTKEY                            67.57                 7889\n",
       "EXCEPTRSNCODE                     54.78                    2\n",
       "SDOTCOLNUM                        42.12               127186\n",
       "LIGHTCOND                         12.00                    9\n",
       "WEATHER                           11.96                   11\n",
       "ROADCOND                          11.93                    9\n",
       "ST_COLDESC                        11.88                   62\n",
       "COLLISIONTYPE                     11.88                   10\n",
       "UNDERINFL                         11.87                    4\n",
       "JUNCTIONTYPE                       5.43                    7\n",
       "ST_COLCODE                         4.28                   63\n",
       "Y                                  3.39                24908\n",
       "X                                  3.39                24908\n",
       "LOCATION                           2.08                25136\n",
       "ADDRTYPE                           1.68                    3\n",
       "SEGLANEKEY                         0.00                 2099\n",
       "CROSSWALKKEY                       0.00                 2340\n",
       "SDOT_COLDESC                       0.00                   39\n",
       "SDOT_COLCODE                       0.00                   39\n",
       "SERIOUSINJURIES                    0.00                    7\n",
       "INCDTTM                            0.00               167964"
      ]
     },
     "metadata": {},
     "output_type": "display_data"
    }
   ],
   "source": [
    "# consider how many missing values there are in each column\n",
    "\n",
    "col_na = round(100*(df.isna().sum()/len(df)), 2)\n",
    "col_nunique = df.nunique()    \n",
    "display(pd.DataFrame({\"percent_missing_values\": col_na,\n",
    "                      \"total_unique_values\": col_nunique}).sort_values(by=[\"percent_missing_values\"],\n",
    "                                                                ascending=False).head(25))"
   ]
  },
  {
   "cell_type": "markdown",
   "metadata": {},
   "source": [
    "## b. Consider renaming columns\n",
    "\n",
    "If you want to use new naming conventions for variables, it is better to make the change earlier. For example, it often makes sense to change all the column names to lowercase or add underscores between words. "
   ]
  },
  {
   "cell_type": "code",
   "execution_count": 15,
   "metadata": {},
   "outputs": [
    {
     "data": {
      "text/html": [
       "<div>\n",
       "<style scoped>\n",
       "    .dataframe tbody tr th:only-of-type {\n",
       "        vertical-align: middle;\n",
       "    }\n",
       "\n",
       "    .dataframe tbody tr th {\n",
       "        vertical-align: top;\n",
       "    }\n",
       "\n",
       "    .dataframe thead th {\n",
       "        text-align: right;\n",
       "    }\n",
       "</style>\n",
       "<table border=\"1\" class=\"dataframe\">\n",
       "  <thead>\n",
       "    <tr style=\"text-align: right;\">\n",
       "      <th></th>\n",
       "      <th>x</th>\n",
       "      <th>y</th>\n",
       "      <th>objectid</th>\n",
       "      <th>inckey</th>\n",
       "      <th>coldetkey</th>\n",
       "      <th>reportno</th>\n",
       "      <th>status</th>\n",
       "      <th>addrtype</th>\n",
       "      <th>intkey</th>\n",
       "      <th>location</th>\n",
       "      <th>exceptrsncode</th>\n",
       "      <th>exceptrsndesc</th>\n",
       "      <th>severitycode</th>\n",
       "      <th>severitydesc</th>\n",
       "      <th>collisiontype</th>\n",
       "      <th>personcount</th>\n",
       "      <th>pedcount</th>\n",
       "      <th>pedcylcount</th>\n",
       "      <th>vehcount</th>\n",
       "      <th>injuries</th>\n",
       "      <th>seriousinjuries</th>\n",
       "      <th>fatalities</th>\n",
       "      <th>incdate</th>\n",
       "      <th>incdttm</th>\n",
       "      <th>junctiontype</th>\n",
       "      <th>sdot_colcode</th>\n",
       "      <th>sdot_coldesc</th>\n",
       "      <th>inattentionind</th>\n",
       "      <th>underinfl</th>\n",
       "      <th>weather</th>\n",
       "      <th>roadcond</th>\n",
       "      <th>lightcond</th>\n",
       "      <th>pedrownotgrnt</th>\n",
       "      <th>sdotcolnum</th>\n",
       "      <th>speeding</th>\n",
       "      <th>st_colcode</th>\n",
       "      <th>st_coldesc</th>\n",
       "      <th>seglanekey</th>\n",
       "      <th>crosswalkkey</th>\n",
       "      <th>hitparkedcar</th>\n",
       "    </tr>\n",
       "  </thead>\n",
       "  <tbody>\n",
       "    <tr>\n",
       "      <th>0</th>\n",
       "      <td>-122.351724</td>\n",
       "      <td>47.560306</td>\n",
       "      <td>1</td>\n",
       "      <td>69200</td>\n",
       "      <td>69200</td>\n",
       "      <td>2609209</td>\n",
       "      <td>Matched</td>\n",
       "      <td>Block</td>\n",
       "      <td>NaN</td>\n",
       "      <td>WEST MARGINAL WAY SW BETWEEN SW ALASKA ST AND ...</td>\n",
       "      <td>NaN</td>\n",
       "      <td>NaN</td>\n",
       "      <td>2</td>\n",
       "      <td>Injury Collision</td>\n",
       "      <td>Other</td>\n",
       "      <td>1</td>\n",
       "      <td>0</td>\n",
       "      <td>0</td>\n",
       "      <td>1</td>\n",
       "      <td>1</td>\n",
       "      <td>0</td>\n",
       "      <td>0</td>\n",
       "      <td>2007/11/21 00:00:00+00</td>\n",
       "      <td>2007-11-21 21:58:00</td>\n",
       "      <td>Mid-Block (not related to intersection)</td>\n",
       "      <td>28.0</td>\n",
       "      <td>MOTOR VEHICLE RAN OFF ROAD - HIT FIXED OBJECT</td>\n",
       "      <td>NaN</td>\n",
       "      <td>0</td>\n",
       "      <td>Clear</td>\n",
       "      <td>Dry</td>\n",
       "      <td>Dark - Street Lights On</td>\n",
       "      <td>NaN</td>\n",
       "      <td>7325037.0</td>\n",
       "      <td>NaN</td>\n",
       "      <td>50</td>\n",
       "      <td>Fixed object</td>\n",
       "      <td>0</td>\n",
       "      <td>0</td>\n",
       "      <td>N</td>\n",
       "    </tr>\n",
       "    <tr>\n",
       "      <th>1</th>\n",
       "      <td>-122.347730</td>\n",
       "      <td>47.728225</td>\n",
       "      <td>2</td>\n",
       "      <td>330812</td>\n",
       "      <td>332312</td>\n",
       "      <td>EA29622</td>\n",
       "      <td>Unmatched</td>\n",
       "      <td>Block</td>\n",
       "      <td>NaN</td>\n",
       "      <td>LINDEN AVE N BETWEEN N 137TH S ST AND N 137TH ...</td>\n",
       "      <td></td>\n",
       "      <td>NaN</td>\n",
       "      <td>1</td>\n",
       "      <td>Property Damage Only Collision</td>\n",
       "      <td>NaN</td>\n",
       "      <td>2</td>\n",
       "      <td>0</td>\n",
       "      <td>0</td>\n",
       "      <td>0</td>\n",
       "      <td>0</td>\n",
       "      <td>0</td>\n",
       "      <td>0</td>\n",
       "      <td>2020/04/17 00:00:00+00</td>\n",
       "      <td>2020-04-17 00:00:00</td>\n",
       "      <td>Mid-Block (not related to intersection)</td>\n",
       "      <td>11.0</td>\n",
       "      <td>MOTOR VEHICLE STRUCK MOTOR VEHICLE, FRONT END ...</td>\n",
       "      <td>NaN</td>\n",
       "      <td>NaN</td>\n",
       "      <td>NaN</td>\n",
       "      <td>NaN</td>\n",
       "      <td>NaN</td>\n",
       "      <td>NaN</td>\n",
       "      <td>NaN</td>\n",
       "      <td>NaN</td>\n",
       "      <td></td>\n",
       "      <td>NaN</td>\n",
       "      <td>0</td>\n",
       "      <td>0</td>\n",
       "      <td>N</td>\n",
       "    </tr>\n",
       "  </tbody>\n",
       "</table>\n",
       "</div>"
      ],
      "text/plain": [
       "            x          y  objectid  inckey  coldetkey reportno     status  \\\n",
       "0 -122.351724  47.560306         1   69200      69200  2609209    Matched   \n",
       "1 -122.347730  47.728225         2  330812     332312  EA29622  Unmatched   \n",
       "\n",
       "  addrtype  intkey                                           location  \\\n",
       "0    Block     NaN  WEST MARGINAL WAY SW BETWEEN SW ALASKA ST AND ...   \n",
       "1    Block     NaN  LINDEN AVE N BETWEEN N 137TH S ST AND N 137TH ...   \n",
       "\n",
       "  exceptrsncode exceptrsndesc severitycode                    severitydesc  \\\n",
       "0           NaN           NaN            2                Injury Collision   \n",
       "1                         NaN            1  Property Damage Only Collision   \n",
       "\n",
       "  collisiontype  personcount  pedcount  pedcylcount  vehcount  injuries  \\\n",
       "0         Other            1         0            0         1         1   \n",
       "1           NaN            2         0            0         0         0   \n",
       "\n",
       "   seriousinjuries  fatalities                 incdate              incdttm  \\\n",
       "0                0           0  2007/11/21 00:00:00+00  2007-11-21 21:58:00   \n",
       "1                0           0  2020/04/17 00:00:00+00  2020-04-17 00:00:00   \n",
       "\n",
       "                              junctiontype  sdot_colcode  \\\n",
       "0  Mid-Block (not related to intersection)          28.0   \n",
       "1  Mid-Block (not related to intersection)          11.0   \n",
       "\n",
       "                                        sdot_coldesc inattentionind underinfl  \\\n",
       "0      MOTOR VEHICLE RAN OFF ROAD - HIT FIXED OBJECT            NaN         0   \n",
       "1  MOTOR VEHICLE STRUCK MOTOR VEHICLE, FRONT END ...            NaN       NaN   \n",
       "\n",
       "  weather roadcond                lightcond pedrownotgrnt  sdotcolnum  \\\n",
       "0   Clear      Dry  Dark - Street Lights On           NaN   7325037.0   \n",
       "1     NaN      NaN                      NaN           NaN         NaN   \n",
       "\n",
       "  speeding st_colcode    st_coldesc  seglanekey  crosswalkkey hitparkedcar  \n",
       "0      NaN         50  Fixed object           0             0            N  \n",
       "1      NaN                      NaN           0             0            N  "
      ]
     },
     "execution_count": 15,
     "metadata": {},
     "output_type": "execute_result"
    }
   ],
   "source": [
    "# probably don't want to run this cell because subsequent cells use capitalized column names,\n",
    "# but this is an example showing how to make all column names lowercase\n",
    "\n",
    "df.columns = map(str.lower, df.columns)\n",
    "df.head(2)"
   ]
  },
  {
   "cell_type": "markdown",
   "metadata": {},
   "source": [
    "## c. Consider dropping duplicate or unnecessary rows \n",
    "\n",
    "It seems that none of the rows in this dataset has complete data. So we would end up with now row if we dropped any row with missing values. We could take a closer look and decide to drop rows depending on which columns they are missing values in (e.g., even if `X` and `Y` are missing, as long as the `LOCATION` column is not missing, we still know where the accident happened, so it's okay to keep a row that are missing `X` and `Y`).  \n",
    "\n",
    "This section includes two examples. The first example shows a way to look at combinations of variables to determine if there are duplicates. The second considers dropping rows based on insufficient data, i.e. it might make sense to drop all the 2003 data because there are very few data values from 2003 and that may skew the distribution.  "
   ]
  },
  {
   "cell_type": "code",
   "execution_count": 16,
   "metadata": {},
   "outputs": [
    {
     "name": "stdout",
     "output_type": "stream",
     "text": [
      "column objectid has no duplicate rows\n",
      "column inckey has no duplicate rows\n",
      "column coldetkey has no duplicate rows\n",
      "\n",
      " 37 columns have duplicate values:\n",
      "['x', 'y', 'reportno', 'status', 'addrtype', 'intkey', 'location', 'exceptrsncode', 'exceptrsndesc', 'severitycode', 'severitydesc', 'collisiontype', 'personcount', 'pedcount', 'pedcylcount', 'vehcount', 'injuries', 'seriousinjuries', 'fatalities', 'incdate', 'incdttm', 'junctiontype', 'sdot_colcode', 'sdot_coldesc', 'inattentionind', 'underinfl', 'weather', 'roadcond', 'lightcond', 'pedrownotgrnt', 'sdotcolnum', 'speeding', 'st_colcode', 'st_coldesc', 'seglanekey', 'crosswalkkey', 'hitparkedcar']\n"
     ]
    }
   ],
   "source": [
    "dup_col_lst = []\n",
    "\n",
    "# make all string column values lowercase for uniform comparison\n",
    "str_cols = list(df.select_dtypes(include=\"object\").columns)\n",
    "for col in str_cols:\n",
    "    df[col] = df[col].str.lower()\n",
    "# print(\"str_cols: {}\\n\\n\".format(str_cols))\n",
    "\n",
    "for col in df.columns:\n",
    "    # if the total number of unique values = total number of rows in df\n",
    "    if df[col].nunique() == df.shape[0]:\n",
    "        print(\"column {} has no duplicate rows\".format(col))\n",
    "    else:\n",
    "        dup_col_lst.append(col)\n",
    "        \n",
    "print(\"\\n {} columns have duplicate values:\\n{}\".format(len(dup_col_lst), dup_col_lst))"
   ]
  },
  {
   "cell_type": "code",
   "execution_count": 17,
   "metadata": {},
   "outputs": [],
   "source": [
    "# example to drop duplicate rows (although no duplicate rows in this example)\n",
    "\n",
    "df.drop_duplicates(subset=[\"objectid\", \"incdate\"], keep=\"first\", inplace=True)"
   ]
  },
  {
   "cell_type": "code",
   "execution_count": 18,
   "metadata": {},
   "outputs": [
    {
     "data": {
      "text/html": [
       "<div>\n",
       "<style scoped>\n",
       "    .dataframe tbody tr th:only-of-type {\n",
       "        vertical-align: middle;\n",
       "    }\n",
       "\n",
       "    .dataframe tbody tr th {\n",
       "        vertical-align: top;\n",
       "    }\n",
       "\n",
       "    .dataframe thead th {\n",
       "        text-align: right;\n",
       "    }\n",
       "</style>\n",
       "<table border=\"1\" class=\"dataframe\">\n",
       "  <thead>\n",
       "    <tr style=\"text-align: right;\">\n",
       "      <th></th>\n",
       "      <th>percent_of_all_data</th>\n",
       "    </tr>\n",
       "    <tr>\n",
       "      <th>year</th>\n",
       "      <th></th>\n",
       "    </tr>\n",
       "  </thead>\n",
       "  <tbody>\n",
       "    <tr>\n",
       "      <th>2003</th>\n",
       "      <td>0.000</td>\n",
       "    </tr>\n",
       "    <tr>\n",
       "      <th>2004</th>\n",
       "      <td>7.033</td>\n",
       "    </tr>\n",
       "    <tr>\n",
       "      <th>2005</th>\n",
       "      <td>7.287</td>\n",
       "    </tr>\n",
       "    <tr>\n",
       "      <th>2006</th>\n",
       "      <td>7.186</td>\n",
       "    </tr>\n",
       "    <tr>\n",
       "      <th>2007</th>\n",
       "      <td>6.862</td>\n",
       "    </tr>\n",
       "    <tr>\n",
       "      <th>2008</th>\n",
       "      <td>6.433</td>\n",
       "    </tr>\n",
       "    <tr>\n",
       "      <th>2009</th>\n",
       "      <td>6.040</td>\n",
       "    </tr>\n",
       "    <tr>\n",
       "      <th>2010</th>\n",
       "      <td>5.441</td>\n",
       "    </tr>\n",
       "    <tr>\n",
       "      <th>2011</th>\n",
       "      <td>5.649</td>\n",
       "    </tr>\n",
       "    <tr>\n",
       "      <th>2012</th>\n",
       "      <td>5.793</td>\n",
       "    </tr>\n",
       "    <tr>\n",
       "      <th>2013</th>\n",
       "      <td>5.804</td>\n",
       "    </tr>\n",
       "    <tr>\n",
       "      <th>2014</th>\n",
       "      <td>6.011</td>\n",
       "    </tr>\n",
       "    <tr>\n",
       "      <th>2015</th>\n",
       "      <td>6.488</td>\n",
       "    </tr>\n",
       "    <tr>\n",
       "      <th>2016</th>\n",
       "      <td>6.326</td>\n",
       "    </tr>\n",
       "    <tr>\n",
       "      <th>2017</th>\n",
       "      <td>5.677</td>\n",
       "    </tr>\n",
       "    <tr>\n",
       "      <th>2018</th>\n",
       "      <td>5.550</td>\n",
       "    </tr>\n",
       "    <tr>\n",
       "      <th>2019</th>\n",
       "      <td>5.095</td>\n",
       "    </tr>\n",
       "    <tr>\n",
       "      <th>2020</th>\n",
       "      <td>1.323</td>\n",
       "    </tr>\n",
       "  </tbody>\n",
       "</table>\n",
       "</div>"
      ],
      "text/plain": [
       "      percent_of_all_data\n",
       "year                     \n",
       "2003                0.000\n",
       "2004                7.033\n",
       "2005                7.287\n",
       "2006                7.186\n",
       "2007                6.862\n",
       "2008                6.433\n",
       "2009                6.040\n",
       "2010                5.441\n",
       "2011                5.649\n",
       "2012                5.793\n",
       "2013                5.804\n",
       "2014                6.011\n",
       "2015                6.488\n",
       "2016                6.326\n",
       "2017                5.677\n",
       "2018                5.550\n",
       "2019                5.095\n",
       "2020                1.323"
      ]
     },
     "execution_count": 18,
     "metadata": {},
     "output_type": "execute_result"
    }
   ],
   "source": [
    "# looking at incidents over time to see the annual distribution of the data\n",
    "\n",
    "df[\"incdate\"] = df[\"incdate\"].astype(\"datetime64\")\n",
    "df[\"year\"] = pd.DatetimeIndex(df.incdate).year  # alternate method\n",
    "df[\"month\"] = df[\"incdate\"].map(lambda x: x.strftime('%m'))\n",
    "round(100*(df[[\"year\",\n",
    "               \"objectid\"]].groupby(by=[\"year\"]).count()/len(df)),\n",
    "      3).rename(columns={\"objectid\": \"percent_of_all_data\"})"
   ]
  },
  {
   "cell_type": "code",
   "execution_count": 19,
   "metadata": {},
   "outputs": [
    {
     "name": "stdout",
     "output_type": "stream",
     "text": [
      "df shape with year and month columns, but without the 2003 data: (219783, 42)\n"
     ]
    }
   ],
   "source": [
    "# remove 2003 data\n",
    "df = df[df[\"year\"] != 2003]\n",
    "print(\"df shape with year and month columns, but without the 2003 data: {}\".format(df.shape))"
   ]
  },
  {
   "cell_type": "markdown",
   "metadata": {},
   "source": [
    "## d. Consider changing variable data types\n",
    "\n",
    "Think about how you plan to use the variable before you change its data type. Pandas data types include: \"bool\", \"float64\", \"int\", \"object\", \"category\", and etc. Because we did not assign variable types to columns, all our columns   \n",
    "\n",
    "In Pandas, `categorical variables` require less memory, so (if appropriate) it can be very useful to change numeric or string (aka Object) variables to categorical variables. However, there are additional considerations. For example, a column with null (NaN) values cannot be converted into a categorical variable. Also, categorical variables cannot be summed like numerical variables, so running univariate statistics on categorical variables requires an additional step.   "
   ]
  },
  {
   "cell_type": "code",
   "execution_count": 20,
   "metadata": {},
   "outputs": [
    {
     "data": {
      "text/plain": [
       "Index              1758264\n",
       "x                  1758264\n",
       "y                  1758264\n",
       "objectid           1758264\n",
       "inckey             1758264\n",
       "coldetkey          1758264\n",
       "reportno           1758264\n",
       "status             1758264\n",
       "addrtype           1758264\n",
       "intkey             1758264\n",
       "location           1758264\n",
       "exceptrsncode      1758264\n",
       "exceptrsndesc      1758264\n",
       "severitycode       1758264\n",
       "severitydesc       1758264\n",
       "collisiontype      1758264\n",
       "personcount        1758264\n",
       "pedcount           1758264\n",
       "pedcylcount        1758264\n",
       "vehcount           1758264\n",
       "injuries           1758264\n",
       "seriousinjuries    1758264\n",
       "fatalities         1758264\n",
       "incdate            1758264\n",
       "incdttm            1758264\n",
       "junctiontype       1758264\n",
       "sdot_colcode       1758264\n",
       "sdot_coldesc       1758264\n",
       "inattentionind     1758264\n",
       "underinfl          1758264\n",
       "weather            1758264\n",
       "roadcond           1758264\n",
       "lightcond          1758264\n",
       "pedrownotgrnt      1758264\n",
       "sdotcolnum         1758264\n",
       "speeding           1758264\n",
       "st_colcode         1758264\n",
       "st_coldesc         1758264\n",
       "seglanekey         1758264\n",
       "crosswalkkey       1758264\n",
       "hitparkedcar       1758264\n",
       "year               1758264\n",
       "month              1758264\n",
       "dtype: int64"
      ]
     },
     "execution_count": 20,
     "metadata": {},
     "output_type": "execute_result"
    }
   ],
   "source": [
    "# look at how much memory each column variable requires\n",
    "df.memory_usage()"
   ]
  },
  {
   "cell_type": "code",
   "execution_count": 21,
   "metadata": {},
   "outputs": [
    {
     "data": {
      "text/html": [
       "<div>\n",
       "<style scoped>\n",
       "    .dataframe tbody tr th:only-of-type {\n",
       "        vertical-align: middle;\n",
       "    }\n",
       "\n",
       "    .dataframe tbody tr th {\n",
       "        vertical-align: top;\n",
       "    }\n",
       "\n",
       "    .dataframe thead th {\n",
       "        text-align: right;\n",
       "    }\n",
       "</style>\n",
       "<table border=\"1\" class=\"dataframe\">\n",
       "  <thead>\n",
       "    <tr style=\"text-align: right;\">\n",
       "      <th></th>\n",
       "      <th>x</th>\n",
       "      <th>y</th>\n",
       "      <th>reportno</th>\n",
       "      <th>status</th>\n",
       "      <th>addrtype</th>\n",
       "      <th>intkey</th>\n",
       "      <th>location</th>\n",
       "      <th>exceptrsncode</th>\n",
       "      <th>exceptrsndesc</th>\n",
       "      <th>severitycode</th>\n",
       "      <th>severitydesc</th>\n",
       "      <th>collisiontype</th>\n",
       "      <th>incdate</th>\n",
       "      <th>incdttm</th>\n",
       "      <th>junctiontype</th>\n",
       "      <th>sdot_colcode</th>\n",
       "      <th>sdot_coldesc</th>\n",
       "      <th>inattentionind</th>\n",
       "      <th>underinfl</th>\n",
       "      <th>weather</th>\n",
       "      <th>roadcond</th>\n",
       "      <th>lightcond</th>\n",
       "      <th>pedrownotgrnt</th>\n",
       "      <th>sdotcolnum</th>\n",
       "      <th>speeding</th>\n",
       "      <th>st_colcode</th>\n",
       "      <th>st_coldesc</th>\n",
       "      <th>hitparkedcar</th>\n",
       "      <th>month</th>\n",
       "    </tr>\n",
       "  </thead>\n",
       "  <tbody>\n",
       "    <tr>\n",
       "      <th>0</th>\n",
       "      <td>-122.351724</td>\n",
       "      <td>47.560306</td>\n",
       "      <td>2609209</td>\n",
       "      <td>matched</td>\n",
       "      <td>block</td>\n",
       "      <td>NaN</td>\n",
       "      <td>west marginal way sw between sw alaska st and ...</td>\n",
       "      <td>NaN</td>\n",
       "      <td>NaN</td>\n",
       "      <td>2</td>\n",
       "      <td>injury collision</td>\n",
       "      <td>other</td>\n",
       "      <td>2007-11-21</td>\n",
       "      <td>2007-11-21 21:58:00</td>\n",
       "      <td>mid-block (not related to intersection)</td>\n",
       "      <td>28.0</td>\n",
       "      <td>motor vehicle ran off road - hit fixed object</td>\n",
       "      <td>NaN</td>\n",
       "      <td>0</td>\n",
       "      <td>clear</td>\n",
       "      <td>dry</td>\n",
       "      <td>dark - street lights on</td>\n",
       "      <td>NaN</td>\n",
       "      <td>7325037.0</td>\n",
       "      <td>NaN</td>\n",
       "      <td>50</td>\n",
       "      <td>fixed object</td>\n",
       "      <td>n</td>\n",
       "      <td>11</td>\n",
       "    </tr>\n",
       "    <tr>\n",
       "      <th>1</th>\n",
       "      <td>-122.347730</td>\n",
       "      <td>47.728225</td>\n",
       "      <td>ea29622</td>\n",
       "      <td>unmatched</td>\n",
       "      <td>block</td>\n",
       "      <td>NaN</td>\n",
       "      <td>linden ave n between n 137th s st and n 137th ...</td>\n",
       "      <td></td>\n",
       "      <td>NaN</td>\n",
       "      <td>1</td>\n",
       "      <td>property damage only collision</td>\n",
       "      <td>NaN</td>\n",
       "      <td>2020-04-17</td>\n",
       "      <td>2020-04-17 00:00:00</td>\n",
       "      <td>mid-block (not related to intersection)</td>\n",
       "      <td>11.0</td>\n",
       "      <td>motor vehicle struck motor vehicle, front end ...</td>\n",
       "      <td>NaN</td>\n",
       "      <td>NaN</td>\n",
       "      <td>NaN</td>\n",
       "      <td>NaN</td>\n",
       "      <td>NaN</td>\n",
       "      <td>NaN</td>\n",
       "      <td>NaN</td>\n",
       "      <td>NaN</td>\n",
       "      <td></td>\n",
       "      <td>NaN</td>\n",
       "      <td>n</td>\n",
       "      <td>04</td>\n",
       "    </tr>\n",
       "    <tr>\n",
       "      <th>2</th>\n",
       "      <td>-122.336316</td>\n",
       "      <td>47.651240</td>\n",
       "      <td>2611290</td>\n",
       "      <td>matched</td>\n",
       "      <td>block</td>\n",
       "      <td>NaN</td>\n",
       "      <td>wallingford ave n between n 36th st and n 37th st</td>\n",
       "      <td>NaN</td>\n",
       "      <td>NaN</td>\n",
       "      <td>1</td>\n",
       "      <td>property damage only collision</td>\n",
       "      <td>parked car</td>\n",
       "      <td>2007-04-08</td>\n",
       "      <td>2007-04-08 00:00:00</td>\n",
       "      <td>mid-block (not related to intersection)</td>\n",
       "      <td>11.0</td>\n",
       "      <td>motor vehicle struck motor vehicle, front end ...</td>\n",
       "      <td>NaN</td>\n",
       "      <td>0</td>\n",
       "      <td>unknown</td>\n",
       "      <td>unknown</td>\n",
       "      <td>dark - street lights on</td>\n",
       "      <td>NaN</td>\n",
       "      <td>7098008.0</td>\n",
       "      <td>NaN</td>\n",
       "      <td>32</td>\n",
       "      <td>one parked--one moving</td>\n",
       "      <td>n</td>\n",
       "      <td>04</td>\n",
       "    </tr>\n",
       "  </tbody>\n",
       "</table>\n",
       "</div>"
      ],
      "text/plain": [
       "            x          y reportno     status addrtype  intkey  \\\n",
       "0 -122.351724  47.560306  2609209    matched    block     NaN   \n",
       "1 -122.347730  47.728225  ea29622  unmatched    block     NaN   \n",
       "2 -122.336316  47.651240  2611290    matched    block     NaN   \n",
       "\n",
       "                                            location exceptrsncode  \\\n",
       "0  west marginal way sw between sw alaska st and ...           NaN   \n",
       "1  linden ave n between n 137th s st and n 137th ...                 \n",
       "2  wallingford ave n between n 36th st and n 37th st           NaN   \n",
       "\n",
       "  exceptrsndesc severitycode                    severitydesc collisiontype  \\\n",
       "0           NaN            2                injury collision         other   \n",
       "1           NaN            1  property damage only collision           NaN   \n",
       "2           NaN            1  property damage only collision    parked car   \n",
       "\n",
       "     incdate              incdttm                             junctiontype  \\\n",
       "0 2007-11-21  2007-11-21 21:58:00  mid-block (not related to intersection)   \n",
       "1 2020-04-17  2020-04-17 00:00:00  mid-block (not related to intersection)   \n",
       "2 2007-04-08  2007-04-08 00:00:00  mid-block (not related to intersection)   \n",
       "\n",
       "   sdot_colcode                                       sdot_coldesc  \\\n",
       "0          28.0      motor vehicle ran off road - hit fixed object   \n",
       "1          11.0  motor vehicle struck motor vehicle, front end ...   \n",
       "2          11.0  motor vehicle struck motor vehicle, front end ...   \n",
       "\n",
       "  inattentionind underinfl  weather roadcond                lightcond  \\\n",
       "0            NaN         0    clear      dry  dark - street lights on   \n",
       "1            NaN       NaN      NaN      NaN                      NaN   \n",
       "2            NaN         0  unknown  unknown  dark - street lights on   \n",
       "\n",
       "  pedrownotgrnt  sdotcolnum speeding st_colcode              st_coldesc  \\\n",
       "0           NaN   7325037.0      NaN         50            fixed object   \n",
       "1           NaN         NaN      NaN                                NaN   \n",
       "2           NaN   7098008.0      NaN         32  one parked--one moving   \n",
       "\n",
       "  hitparkedcar month  \n",
       "0            n    11  \n",
       "1            n    04  \n",
       "2            n    04  "
      ]
     },
     "execution_count": 21,
     "metadata": {},
     "output_type": "execute_result"
    }
   ],
   "source": [
    "# example - one way to filter the original variable data types\n",
    "\n",
    "df.select_dtypes(exclude=[\"int\"]).head(3)"
   ]
  },
  {
   "cell_type": "code",
   "execution_count": 22,
   "metadata": {},
   "outputs": [
    {
     "data": {
      "text/plain": [
       "89564    1007024.0\n",
       "2264     3021048.0\n",
       "368      3137016.0\n",
       "224      3239035.0\n",
       "8033     4001001.0\n",
       "10823    4001002.0\n",
       "9710     4001003.0\n",
       "1810     4001004.0\n",
       "1411     4001005.0\n",
       "9761     4001006.0\n",
       "16258    4001007.0\n",
       "8193     4001008.0\n",
       "12252    4001009.0\n",
       "6289     4001010.0\n",
       "10637    4001011.0\n",
       "7722     4001012.0\n",
       "15445    4001013.0\n",
       "3659     4001014.0\n",
       "10483    4001015.0\n",
       "7661     4001016.0\n",
       "16407    4001017.0\n",
       "3616     4001018.0\n",
       "8849     4001019.0\n",
       "2412     4001020.0\n",
       "2282     4001021.0\n",
       "15813    4001022.0\n",
       "9138     4001023.0\n",
       "6523     4001024.0\n",
       "16187    4001025.0\n",
       "8682     4001026.0\n",
       "dtype: float64"
      ]
     },
     "execution_count": 22,
     "metadata": {},
     "output_type": "execute_result"
    }
   ],
   "source": [
    "# example - to check to see if the column is really a float or should be an int\n",
    "pd.Series(df[\"sdotcolnum\"].unique()).sort_values(ascending=True)[0:30]"
   ]
  },
  {
   "cell_type": "code",
   "execution_count": 23,
   "metadata": {},
   "outputs": [
    {
     "data": {
      "text/plain": [
       "x                         float64\n",
       "y                         float64\n",
       "objectid                    int64\n",
       "inckey                      int64\n",
       "coldetkey                   int64\n",
       "reportno                   object\n",
       "status                   category\n",
       "addrtype                 category\n",
       "intkey                    float64\n",
       "location                   object\n",
       "exceptrsncode              object\n",
       "exceptrsndesc              object\n",
       "severitycode             category\n",
       "severitydesc               object\n",
       "collisiontype              object\n",
       "personcount                 int64\n",
       "pedcount                    int64\n",
       "pedcylcount                 int64\n",
       "vehcount                    int64\n",
       "injuries                    int64\n",
       "seriousinjuries             int64\n",
       "fatalities                  int64\n",
       "incdate            datetime64[ns]\n",
       "incdttm            datetime64[ns]\n",
       "junctiontype               object\n",
       "sdot_colcode                int64\n",
       "sdot_coldesc               object\n",
       "inattentionind             object\n",
       "underinfl                  object\n",
       "weather                    object\n",
       "roadcond                   object\n",
       "lightcond                  object\n",
       "pedrownotgrnt              object\n",
       "sdotcolnum                  int64\n",
       "speeding                   object\n",
       "st_colcode                 object\n",
       "st_coldesc                 object\n",
       "seglanekey                  int64\n",
       "crosswalkkey                int64\n",
       "hitparkedcar               object\n",
       "year                        int64\n",
       "month                      object\n",
       "dtype: object"
      ]
     },
     "execution_count": 23,
     "metadata": {},
     "output_type": "execute_result"
    }
   ],
   "source": [
    "# example - one way to clean up column data types\n",
    "\n",
    "df_ = df.copy() \n",
    "\n",
    "for col in df_.columns:\n",
    "    if col.lower() in [\"status\", \"addrtype\", \"severitycode\"]:\n",
    "        df_.fillna({col: \"none\"}, inplace=True)\n",
    "        df_[col] = pd.Series([str(word).lower() for word in df[col]])\n",
    "        df_[col] = df[col].astype(\"category\")\n",
    "    elif col.lower() in [\"sdot_colcode\", \"sdotcolnum\"]:\n",
    "        df_[col] = df[col].fillna(0).astype(int)\n",
    "    elif col.lower() in [\"x\", \"y\"]:\n",
    "        df_[col] = df[col].astype(\"float\")\n",
    "    elif col.lower() in [\"incdttm\"]:\n",
    "        df_[col] = pd.to_datetime(arg=df[col])\n",
    "    else:\n",
    "        continue\n",
    "        \n",
    "df_.dtypes"
   ]
  },
  {
   "cell_type": "markdown",
   "metadata": {},
   "source": [
    "## 8. Understand individual columns\n",
    "\n",
    "In this section, we will examine some of the columns by answering questions that align with the three of the goals mentioned above.\n",
    "\n",
    "- Goal 1: Identify dangerous locations\n",
    "- Goal 2: Identify predictors of accidents \n",
    "- Goal 3: examine increase or decrease in number of accidents over time"
   ]
  },
  {
   "cell_type": "markdown",
   "metadata": {},
   "source": [
    "## Goal 1: Which locations are dangerous?"
   ]
  },
  {
   "cell_type": "markdown",
   "metadata": {},
   "source": [
    "### Q1. How do we decide that a location is dangerous?"
   ]
  },
  {
   "cell_type": "markdown",
   "metadata": {},
   "source": [
    "We could define dangerousness by:\n",
    "- Severity of accidents\n",
    "- Number of accidents"
   ]
  },
  {
   "cell_type": "markdown",
   "metadata": {},
   "source": [
    "Let's take a look at the outcome columns to understand what these accidents look like."
   ]
  },
  {
   "cell_type": "code",
   "execution_count": 24,
   "metadata": {},
   "outputs": [],
   "source": [
    "outcome_columns = [\n",
    "    'personcount',\n",
    "    'pedcount',\n",
    "    'pedcylcount',\n",
    "    'vehcount',\n",
    "    'injuries',\n",
    "    'seriousinjuries',\n",
    "    'fatalities']"
   ]
  },
  {
   "cell_type": "code",
   "execution_count": 25,
   "metadata": {},
   "outputs": [
    {
     "data": {
      "text/html": [
       "<div>\n",
       "<style scoped>\n",
       "    .dataframe tbody tr th:only-of-type {\n",
       "        vertical-align: middle;\n",
       "    }\n",
       "\n",
       "    .dataframe tbody tr th {\n",
       "        vertical-align: top;\n",
       "    }\n",
       "\n",
       "    .dataframe thead th {\n",
       "        text-align: right;\n",
       "    }\n",
       "</style>\n",
       "<table border=\"1\" class=\"dataframe\">\n",
       "  <thead>\n",
       "    <tr style=\"text-align: right;\">\n",
       "      <th></th>\n",
       "      <th>personcount</th>\n",
       "      <th>pedcount</th>\n",
       "      <th>pedcylcount</th>\n",
       "      <th>vehcount</th>\n",
       "      <th>injuries</th>\n",
       "      <th>seriousinjuries</th>\n",
       "      <th>fatalities</th>\n",
       "    </tr>\n",
       "  </thead>\n",
       "  <tbody>\n",
       "    <tr>\n",
       "      <th>count</th>\n",
       "      <td>219783.000000</td>\n",
       "      <td>219783.000000</td>\n",
       "      <td>219783.000000</td>\n",
       "      <td>219783.000000</td>\n",
       "      <td>219783.000000</td>\n",
       "      <td>219783.000000</td>\n",
       "      <td>219783.000000</td>\n",
       "    </tr>\n",
       "    <tr>\n",
       "      <th>mean</th>\n",
       "      <td>2.227534</td>\n",
       "      <td>0.038133</td>\n",
       "      <td>0.027286</td>\n",
       "      <td>1.730452</td>\n",
       "      <td>0.373705</td>\n",
       "      <td>0.015151</td>\n",
       "      <td>0.001683</td>\n",
       "    </tr>\n",
       "    <tr>\n",
       "      <th>std</th>\n",
       "      <td>1.472154</td>\n",
       "      <td>0.201836</td>\n",
       "      <td>0.164334</td>\n",
       "      <td>0.829209</td>\n",
       "      <td>0.732484</td>\n",
       "      <td>0.158128</td>\n",
       "      <td>0.044610</td>\n",
       "    </tr>\n",
       "    <tr>\n",
       "      <th>min</th>\n",
       "      <td>0.000000</td>\n",
       "      <td>0.000000</td>\n",
       "      <td>0.000000</td>\n",
       "      <td>0.000000</td>\n",
       "      <td>0.000000</td>\n",
       "      <td>0.000000</td>\n",
       "      <td>0.000000</td>\n",
       "    </tr>\n",
       "    <tr>\n",
       "      <th>25%</th>\n",
       "      <td>2.000000</td>\n",
       "      <td>0.000000</td>\n",
       "      <td>0.000000</td>\n",
       "      <td>2.000000</td>\n",
       "      <td>0.000000</td>\n",
       "      <td>0.000000</td>\n",
       "      <td>0.000000</td>\n",
       "    </tr>\n",
       "    <tr>\n",
       "      <th>50%</th>\n",
       "      <td>2.000000</td>\n",
       "      <td>0.000000</td>\n",
       "      <td>0.000000</td>\n",
       "      <td>2.000000</td>\n",
       "      <td>0.000000</td>\n",
       "      <td>0.000000</td>\n",
       "      <td>0.000000</td>\n",
       "    </tr>\n",
       "    <tr>\n",
       "      <th>75%</th>\n",
       "      <td>3.000000</td>\n",
       "      <td>0.000000</td>\n",
       "      <td>0.000000</td>\n",
       "      <td>2.000000</td>\n",
       "      <td>1.000000</td>\n",
       "      <td>0.000000</td>\n",
       "      <td>0.000000</td>\n",
       "    </tr>\n",
       "    <tr>\n",
       "      <th>max</th>\n",
       "      <td>93.000000</td>\n",
       "      <td>6.000000</td>\n",
       "      <td>2.000000</td>\n",
       "      <td>15.000000</td>\n",
       "      <td>78.000000</td>\n",
       "      <td>41.000000</td>\n",
       "      <td>5.000000</td>\n",
       "    </tr>\n",
       "  </tbody>\n",
       "</table>\n",
       "</div>"
      ],
      "text/plain": [
       "         personcount       pedcount    pedcylcount       vehcount  \\\n",
       "count  219783.000000  219783.000000  219783.000000  219783.000000   \n",
       "mean        2.227534       0.038133       0.027286       1.730452   \n",
       "std         1.472154       0.201836       0.164334       0.829209   \n",
       "min         0.000000       0.000000       0.000000       0.000000   \n",
       "25%         2.000000       0.000000       0.000000       2.000000   \n",
       "50%         2.000000       0.000000       0.000000       2.000000   \n",
       "75%         3.000000       0.000000       0.000000       2.000000   \n",
       "max        93.000000       6.000000       2.000000      15.000000   \n",
       "\n",
       "            injuries  seriousinjuries     fatalities  \n",
       "count  219783.000000    219783.000000  219783.000000  \n",
       "mean        0.373705         0.015151       0.001683  \n",
       "std         0.732484         0.158128       0.044610  \n",
       "min         0.000000         0.000000       0.000000  \n",
       "25%         0.000000         0.000000       0.000000  \n",
       "50%         0.000000         0.000000       0.000000  \n",
       "75%         1.000000         0.000000       0.000000  \n",
       "max        78.000000        41.000000       5.000000  "
      ]
     },
     "execution_count": 25,
     "metadata": {},
     "output_type": "execute_result"
    }
   ],
   "source": [
    "df[outcome_columns].describe()"
   ]
  },
  {
   "cell_type": "markdown",
   "metadata": {},
   "source": [
    "- There is no missing values for these columns\n",
    "- There isn't a lot of variability in the values for these columns\n",
    "- There seem to be some outliers (e.g., `personcount`, `injuries`)"
   ]
  },
  {
   "cell_type": "markdown",
   "metadata": {},
   "source": [
    "Let's take a look at these columns with some visualization."
   ]
  },
  {
   "cell_type": "code",
   "execution_count": 26,
   "metadata": {},
   "outputs": [
    {
     "data": {
      "text/plain": [
       "<matplotlib.axes._subplots.AxesSubplot at 0x13b436bd0>"
      ]
     },
     "execution_count": 26,
     "metadata": {},
     "output_type": "execute_result"
    },
    {
     "data": {
      "text/plain": [
       "{'whiskers': [<matplotlib.lines.Line2D at 0x1396e4450>,\n",
       "  <matplotlib.lines.Line2D at 0x1396e4990>],\n",
       " 'caps': [<matplotlib.lines.Line2D at 0x1396e4ed0>,\n",
       "  <matplotlib.lines.Line2D at 0x1396f3450>],\n",
       " 'boxes': [<matplotlib.lines.Line2D at 0x1396c9050>],\n",
       " 'medians': [<matplotlib.lines.Line2D at 0x1396f39d0>],\n",
       " 'fliers': [<matplotlib.lines.Line2D at 0x1396f3f10>],\n",
       " 'means': []}"
      ]
     },
     "execution_count": 26,
     "metadata": {},
     "output_type": "execute_result"
    },
    {
     "data": {
      "text/plain": [
       "<matplotlib.axes._subplots.AxesSubplot at 0x125134b10>"
      ]
     },
     "execution_count": 26,
     "metadata": {},
     "output_type": "execute_result"
    },
    {
     "data": {
      "text/plain": [
       "{'whiskers': [<matplotlib.lines.Line2D at 0x1397a2190>,\n",
       "  <matplotlib.lines.Line2D at 0x1397a26d0>],\n",
       " 'caps': [<matplotlib.lines.Line2D at 0x1397a2c10>,\n",
       "  <matplotlib.lines.Line2D at 0x1397ac190>],\n",
       " 'boxes': [<matplotlib.lines.Line2D at 0x13979bbd0>],\n",
       " 'medians': [<matplotlib.lines.Line2D at 0x139793d90>],\n",
       " 'fliers': [<matplotlib.lines.Line2D at 0x1397ac7d0>],\n",
       " 'means': []}"
      ]
     },
     "execution_count": 26,
     "metadata": {},
     "output_type": "execute_result"
    },
    {
     "data": {
      "text/plain": [
       "<matplotlib.axes._subplots.AxesSubplot at 0x13979b810>"
      ]
     },
     "execution_count": 26,
     "metadata": {},
     "output_type": "execute_result"
    },
    {
     "data": {
      "text/plain": [
       "{'whiskers': [<matplotlib.lines.Line2D at 0x139848410>,\n",
       "  <matplotlib.lines.Line2D at 0x139848950>],\n",
       " 'caps': [<matplotlib.lines.Line2D at 0x139848e90>,\n",
       "  <matplotlib.lines.Line2D at 0x139851410>],\n",
       " 'boxes': [<matplotlib.lines.Line2D at 0x13983ee50>],\n",
       " 'medians': [<matplotlib.lines.Line2D at 0x139851990>],\n",
       " 'fliers': [<matplotlib.lines.Line2D at 0x139851ed0>],\n",
       " 'means': []}"
      ]
     },
     "execution_count": 26,
     "metadata": {},
     "output_type": "execute_result"
    },
    {
     "data": {
      "text/plain": [
       "<matplotlib.axes._subplots.AxesSubplot at 0x1247e0410>"
      ]
     },
     "execution_count": 26,
     "metadata": {},
     "output_type": "execute_result"
    },
    {
     "data": {
      "text/plain": [
       "{'whiskers': [<matplotlib.lines.Line2D at 0x13991ed10>,\n",
       "  <matplotlib.lines.Line2D at 0x139928290>],\n",
       " 'caps': [<matplotlib.lines.Line2D at 0x139928810>,\n",
       "  <matplotlib.lines.Line2D at 0x139928d50>],\n",
       " 'boxes': [<matplotlib.lines.Line2D at 0x13991e790>],\n",
       " 'medians': [<matplotlib.lines.Line2D at 0x139930310>],\n",
       " 'fliers': [<matplotlib.lines.Line2D at 0x139930850>],\n",
       " 'means': []}"
      ]
     },
     "execution_count": 26,
     "metadata": {},
     "output_type": "execute_result"
    },
    {
     "data": {
      "text/plain": [
       "<matplotlib.axes._subplots.AxesSubplot at 0x1398c3ad0>"
      ]
     },
     "execution_count": 26,
     "metadata": {},
     "output_type": "execute_result"
    },
    {
     "data": {
      "text/plain": [
       "{'whiskers': [<matplotlib.lines.Line2D at 0x1399f9b10>,\n",
       "  <matplotlib.lines.Line2D at 0x1399fe090>],\n",
       " 'caps': [<matplotlib.lines.Line2D at 0x1399fe5d0>,\n",
       "  <matplotlib.lines.Line2D at 0x1399feb10>],\n",
       " 'boxes': [<matplotlib.lines.Line2D at 0x1399f9450>],\n",
       " 'medians': [<matplotlib.lines.Line2D at 0x1399fe990>],\n",
       " 'fliers': [<matplotlib.lines.Line2D at 0x139a08190>],\n",
       " 'means': []}"
      ]
     },
     "execution_count": 26,
     "metadata": {},
     "output_type": "execute_result"
    },
    {
     "data": {
      "text/plain": [
       "<matplotlib.axes._subplots.AxesSubplot at 0x139708b90>"
      ]
     },
     "execution_count": 26,
     "metadata": {},
     "output_type": "execute_result"
    },
    {
     "data": {
      "text/plain": [
       "{'whiskers': [<matplotlib.lines.Line2D at 0x139708e50>,\n",
       "  <matplotlib.lines.Line2D at 0x139aad290>],\n",
       " 'caps': [<matplotlib.lines.Line2D at 0x139aada10>,\n",
       "  <matplotlib.lines.Line2D at 0x139aadf50>],\n",
       " 'boxes': [<matplotlib.lines.Line2D at 0x139a94850>],\n",
       " 'medians': [<matplotlib.lines.Line2D at 0x139ab7510>],\n",
       " 'fliers': [<matplotlib.lines.Line2D at 0x139ab7a50>],\n",
       " 'means': []}"
      ]
     },
     "execution_count": 26,
     "metadata": {},
     "output_type": "execute_result"
    },
    {
     "data": {
      "text/plain": [
       "<matplotlib.axes._subplots.AxesSubplot at 0x1399eee10>"
      ]
     },
     "execution_count": 26,
     "metadata": {},
     "output_type": "execute_result"
    },
    {
     "data": {
      "text/plain": [
       "{'whiskers': [<matplotlib.lines.Line2D at 0x139b5f710>,\n",
       "  <matplotlib.lines.Line2D at 0x139b5fc50>],\n",
       " 'caps': [<matplotlib.lines.Line2D at 0x139b631d0>,\n",
       "  <matplotlib.lines.Line2D at 0x139b63710>],\n",
       " 'boxes': [<matplotlib.lines.Line2D at 0x139b5f190>],\n",
       " 'medians': [<matplotlib.lines.Line2D at 0x139b63c90>],\n",
       " 'fliers': [<matplotlib.lines.Line2D at 0x139b6d210>],\n",
       " 'means': []}"
      ]
     },
     "execution_count": 26,
     "metadata": {},
     "output_type": "execute_result"
    },
    {
     "data": {
      "image/png": "[encoded data removed]",
      "text/plain": [
       "<Figure size 864x288 with 2 Axes>"
      ]
     },
     "metadata": {
      "needs_background": "light"
     },
     "output_type": "display_data"
    },
    {
     "data": {
      "image/png": "[encoded data removed]",
      "text/plain": [
       "<Figure size 864x288 with 2 Axes>"
      ]
     },
     "metadata": {
      "needs_background": "light"
     },
     "output_type": "display_data"
    },
    {
     "data": {
      "image/png": "[encoded data removed]",
      "text/plain": [
       "<Figure size 864x288 with 2 Axes>"
      ]
     },
     "metadata": {
      "needs_background": "light"
     },
     "output_type": "display_data"
    },
    {
     "data": {
      "image/png": "[encoded data removed]",
      "text/plain": [
       "<Figure size 864x288 with 2 Axes>"
      ]
     },
     "metadata": {
      "needs_background": "light"
     },
     "output_type": "display_data"
    },
    {
     "data": {
      "image/png": "[encoded data removed]",
      "text/plain": [
       "<Figure size 864x288 with 2 Axes>"
      ]
     },
     "metadata": {
      "needs_background": "light"
     },
     "output_type": "display_data"
    },
    {
     "data": {
      "image/png": "[encoded data removed]",
      "text/plain": [
       "<Figure size 864x288 with 2 Axes>"
      ]
     },
     "metadata": {
      "needs_background": "light"
     },
     "output_type": "display_data"
    },
    {
     "data": {
      "image/png": "[encoded data removed]",
      "text/plain": [
       "<Figure size 864x288 with 2 Axes>"
      ]
     },
     "metadata": {
      "needs_background": "light"
     },
     "output_type": "display_data"
    }
   ],
   "source": [
    "for column in outcome_columns:\n",
    "    fig = plt.figure(figsize=(12, 4))\n",
    "    left = fig.add_subplot(1, 2, 1)\n",
    "    right = fig.add_subplot(1, 2, 2)\n",
    "\n",
    "    tempdf = df.groupby(df[column]).size().to_frame('count')\n",
    "    tempdf.plot.bar(ax=left);\n",
    "    right.boxplot(tempdf['count']);\n",
    "    fig.show();"
   ]
  },
  {
   "cell_type": "markdown",
   "metadata": {},
   "source": [
    "It seems that the most common accidents involve:\n",
    "\n",
    "- 2 people and 2 vehicles\n",
    "- 0 pedestrians or cyclists\n",
    "- 0 to 1 injuries\n",
    "- 0 death"
   ]
  },
  {
   "cell_type": "markdown",
   "metadata": {},
   "source": [
    "### Side note: What to do with outliers?"
   ]
  },
  {
   "cell_type": "markdown",
   "metadata": {},
   "source": [
    "- It's important to think if it makes sense to handle outliers or keep them as they are.\n",
    "- Look at the distribution (e.g., is it normal?) for each column and think whether or not you will be using the column for later analyses (e.g., is there enough variability to explain by other columns?).\n",
    "- You could consider transforming the data (e.g., log transformation).\n",
    "- You could replace outliers with the mean or median of the column."
   ]
  },
  {
   "cell_type": "markdown",
   "metadata": {},
   "source": [
    "Going back to Q1. how to define dangerousness:\n",
    "\n",
    "- It might be difficult to use `pedcount`, `pedcylcount`, `seriousinjuries`, and `fatalities` as measures of dangerous locations due to the lack of variability in these columns.\n",
    "- Let's try using the number of accidents as a way to measure a location's dangerousness"
   ]
  },
  {
   "cell_type": "markdown",
   "metadata": {},
   "source": [
    "### Q2. Which locations have had the highest total number of accidents?"
   ]
  },
  {
   "cell_type": "code",
   "execution_count": 27,
   "metadata": {},
   "outputs": [
    {
     "data": {
      "text/html": [
       "<div>\n",
       "<style scoped>\n",
       "    .dataframe tbody tr th:only-of-type {\n",
       "        vertical-align: middle;\n",
       "    }\n",
       "\n",
       "    .dataframe tbody tr th {\n",
       "        vertical-align: top;\n",
       "    }\n",
       "\n",
       "    .dataframe thead th {\n",
       "        text-align: right;\n",
       "    }\n",
       "</style>\n",
       "<table border=\"1\" class=\"dataframe\">\n",
       "  <thead>\n",
       "    <tr style=\"text-align: right;\">\n",
       "      <th></th>\n",
       "      <th>location</th>\n",
       "      <th>count</th>\n",
       "    </tr>\n",
       "  </thead>\n",
       "  <tbody>\n",
       "    <tr>\n",
       "      <th>11287</th>\n",
       "      <td>battery st tunnel nb between alaskan wy vi nb ...</td>\n",
       "      <td>298</td>\n",
       "    </tr>\n",
       "    <tr>\n",
       "      <th>17570</th>\n",
       "      <td>n northgate way between meridian ave n and cor...</td>\n",
       "      <td>295</td>\n",
       "    </tr>\n",
       "    <tr>\n",
       "      <th>11288</th>\n",
       "      <td>battery st tunnel sb between aurora ave n and ...</td>\n",
       "      <td>291</td>\n",
       "    </tr>\n",
       "    <tr>\n",
       "      <th>11120</th>\n",
       "      <td>aurora ave n between n 117th pl and n 125th st</td>\n",
       "      <td>280</td>\n",
       "    </tr>\n",
       "    <tr>\n",
       "      <th>9584</th>\n",
       "      <td>6th ave and james st</td>\n",
       "      <td>271</td>\n",
       "    </tr>\n",
       "    <tr>\n",
       "      <th>11124</th>\n",
       "      <td>aurora ave n between n 130th st and n 135th st</td>\n",
       "      <td>269</td>\n",
       "    </tr>\n",
       "    <tr>\n",
       "      <th>10818</th>\n",
       "      <td>alaskan wy vi nb between s royal brougham way ...</td>\n",
       "      <td>256</td>\n",
       "    </tr>\n",
       "  </tbody>\n",
       "</table>\n",
       "</div>"
      ],
      "text/plain": [
       "                                                location  count\n",
       "11287  battery st tunnel nb between alaskan wy vi nb ...    298\n",
       "17570  n northgate way between meridian ave n and cor...    295\n",
       "11288  battery st tunnel sb between aurora ave n and ...    291\n",
       "11120     aurora ave n between n 117th pl and n 125th st    280\n",
       "9584                                6th ave and james st    271\n",
       "11124     aurora ave n between n 130th st and n 135th st    269\n",
       "10818  alaskan wy vi nb between s royal brougham way ...    256"
      ]
     },
     "execution_count": 27,
     "metadata": {},
     "output_type": "execute_result"
    }
   ],
   "source": [
    "locdf = df.groupby('location').size().to_frame('count').reset_index()\n",
    "locdf.sort_values('count', ascending=False, inplace=True)\n",
    "locdf = locdf.head(7)\n",
    "locdf"
   ]
  },
  {
   "cell_type": "markdown",
   "metadata": {},
   "source": [
    "- We need to remember that the heavier the traffic is, the more likely there is to be an accident. \n",
    "- So these locations may have the highest numers of accidents, but also may have the highest amounts of overall traffic. "
   ]
  },
  {
   "cell_type": "markdown",
   "metadata": {},
   "source": [
    "Above, we defined dangerousness by the **total** number of incidents. Let's try looking into the number of **severe** incidents."
   ]
  },
  {
   "cell_type": "markdown",
   "metadata": {},
   "source": [
    "### Q3. Which locations have the highest numbers of severe incidents?"
   ]
  },
  {
   "cell_type": "markdown",
   "metadata": {},
   "source": [
    "First, let's take a look at the categories of `severitycode`."
   ]
  },
  {
   "cell_type": "code",
   "execution_count": 28,
   "metadata": {},
   "outputs": [
    {
     "data": {
      "text/html": [
       "<div>\n",
       "<style scoped>\n",
       "    .dataframe tbody tr th:only-of-type {\n",
       "        vertical-align: middle;\n",
       "    }\n",
       "\n",
       "    .dataframe tbody tr th {\n",
       "        vertical-align: top;\n",
       "    }\n",
       "\n",
       "    .dataframe thead th {\n",
       "        text-align: right;\n",
       "    }\n",
       "</style>\n",
       "<table border=\"1\" class=\"dataframe\">\n",
       "  <thead>\n",
       "    <tr style=\"text-align: right;\">\n",
       "      <th></th>\n",
       "      <th>count</th>\n",
       "    </tr>\n",
       "    <tr>\n",
       "      <th>severitycode</th>\n",
       "      <th></th>\n",
       "    </tr>\n",
       "  </thead>\n",
       "  <tbody>\n",
       "    <tr>\n",
       "      <th>Fatality</th>\n",
       "      <td>347</td>\n",
       "    </tr>\n",
       "    <tr>\n",
       "      <th>Injury</th>\n",
       "      <td>58268</td>\n",
       "    </tr>\n",
       "    <tr>\n",
       "      <th>Prop_damage</th>\n",
       "      <td>136663</td>\n",
       "    </tr>\n",
       "    <tr>\n",
       "      <th>Serious_injury</th>\n",
       "      <td>3064</td>\n",
       "    </tr>\n",
       "    <tr>\n",
       "      <th>Unknown</th>\n",
       "      <td>21440</td>\n",
       "    </tr>\n",
       "  </tbody>\n",
       "</table>\n",
       "</div>"
      ],
      "text/plain": [
       "                 count\n",
       "severitycode          \n",
       "Fatality           347\n",
       "Injury           58268\n",
       "Prop_damage     136663\n",
       "Serious_injury    3064\n",
       "Unknown          21440"
      ]
     },
     "execution_count": 28,
     "metadata": {},
     "output_type": "execute_result"
    }
   ],
   "source": [
    "# Re-labeling serverity so that the categories are self-explanatory\n",
    "df['severitycode'] = df['severitycode'].map({'0': 'Unknown', '1': 'Prop_damage', '2': 'Injury',\n",
    "                                             '2b': 'Serious_injury', '3': 'Fatality'})\n",
    "\n",
    "df.groupby(['severitycode']).size().to_frame('count')"
   ]
  },
  {
   "cell_type": "code",
   "execution_count": 29,
   "metadata": {},
   "outputs": [
    {
     "data": {
      "text/html": [
       "<div>\n",
       "<style scoped>\n",
       "    .dataframe tbody tr th:only-of-type {\n",
       "        vertical-align: middle;\n",
       "    }\n",
       "\n",
       "    .dataframe tbody tr th {\n",
       "        vertical-align: top;\n",
       "    }\n",
       "\n",
       "    .dataframe thead th {\n",
       "        text-align: right;\n",
       "    }\n",
       "</style>\n",
       "<table border=\"1\" class=\"dataframe\">\n",
       "  <thead>\n",
       "    <tr style=\"text-align: right;\">\n",
       "      <th></th>\n",
       "      <th>location</th>\n",
       "      <th>count</th>\n",
       "    </tr>\n",
       "  </thead>\n",
       "  <tbody>\n",
       "    <tr>\n",
       "      <th>5658</th>\n",
       "      <td>aurora ave n between n 117th pl and n 125th st</td>\n",
       "      <td>126</td>\n",
       "    </tr>\n",
       "    <tr>\n",
       "      <th>4723</th>\n",
       "      <td>6th ave and james st</td>\n",
       "      <td>112</td>\n",
       "    </tr>\n",
       "    <tr>\n",
       "      <th>10432</th>\n",
       "      <td>rainier ave s between s bayview st and s mccle...</td>\n",
       "      <td>97</td>\n",
       "    </tr>\n",
       "    <tr>\n",
       "      <th>5662</th>\n",
       "      <td>aurora ave n between n 130th st and n 135th st</td>\n",
       "      <td>96</td>\n",
       "    </tr>\n",
       "    <tr>\n",
       "      <th>9310</th>\n",
       "      <td>n northgate way between meridian ave n and cor...</td>\n",
       "      <td>96</td>\n",
       "    </tr>\n",
       "    <tr>\n",
       "      <th>5791</th>\n",
       "      <td>battery st tunnel sb between aurora ave n and ...</td>\n",
       "      <td>93</td>\n",
       "    </tr>\n",
       "    <tr>\n",
       "      <th>12585</th>\n",
       "      <td>west seattle br eb between alaskan wy vi nb on...</td>\n",
       "      <td>82</td>\n",
       "    </tr>\n",
       "  </tbody>\n",
       "</table>\n",
       "</div>"
      ],
      "text/plain": [
       "                                                location  count\n",
       "5658      aurora ave n between n 117th pl and n 125th st    126\n",
       "4723                                6th ave and james st    112\n",
       "10432  rainier ave s between s bayview st and s mccle...     97\n",
       "5662      aurora ave n between n 130th st and n 135th st     96\n",
       "9310   n northgate way between meridian ave n and cor...     96\n",
       "5791   battery st tunnel sb between aurora ave n and ...     93\n",
       "12585  west seattle br eb between alaskan wy vi nb on...     82"
      ]
     },
     "execution_count": 29,
     "metadata": {},
     "output_type": "execute_result"
    }
   ],
   "source": [
    "# Select incidents that involved injuries and deaths \n",
    "severity = ['Fatality', 'Serious_injury', 'Injury']\n",
    "sevdf = df[(df['severitycode'].isin(severity))]\n",
    "# Groupby the dataframe by location to rank locations by the number of severe incidents\n",
    "sevcdf = sevdf.groupby('location').size().to_frame('count').reset_index()\n",
    "sevcdf.sort_values('count', ascending=False, inplace=True)\n",
    "most_sev = sevcdf.head(7)\n",
    "most_sev"
   ]
  },
  {
   "cell_type": "markdown",
   "metadata": {},
   "source": [
    "Let's compare the locations with the highest numbers of **severe** incidents and locations with the highest numbers of **total** incidents."
   ]
  },
  {
   "cell_type": "code",
   "execution_count": 30,
   "metadata": {},
   "outputs": [
    {
     "data": {
      "text/plain": [
       "['6th ave and james st',\n",
       " 'aurora ave n between n 117th pl and n 125th st',\n",
       " 'aurora ave n between n 130th st and n 135th st',\n",
       " 'battery st tunnel sb between aurora ave n and alaskan wy vi sb',\n",
       " 'n northgate way between meridian ave n and corliss ave n',\n",
       " 'rainier ave s between s bayview st and s mcclellan st',\n",
       " 'west seattle br eb between alaskan wy vi nb on rp and delridge-w seattle br eb on rp']"
      ]
     },
     "execution_count": 30,
     "metadata": {},
     "output_type": "execute_result"
    }
   ],
   "source": [
    "# These are the locations with highest number of severe incidents\n",
    "\n",
    "mostsevlocations = list(most_sev['location'])\n",
    "sorted(mostsevlocations, key=str.lower)"
   ]
  },
  {
   "cell_type": "code",
   "execution_count": 31,
   "metadata": {},
   "outputs": [
    {
     "data": {
      "text/plain": [
       "['6th ave and james st',\n",
       " 'alaskan wy vi nb between s royal brougham way on rp and seneca st off rp',\n",
       " 'aurora ave n between n 117th pl and n 125th st',\n",
       " 'aurora ave n between n 130th st and n 135th st',\n",
       " 'battery st tunnel nb between alaskan wy vi nb and aurora ave n',\n",
       " 'battery st tunnel sb between aurora ave n and alaskan wy vi sb',\n",
       " 'n northgate way between meridian ave n and corliss ave n']"
      ]
     },
     "execution_count": 31,
     "metadata": {},
     "output_type": "execute_result"
    }
   ],
   "source": [
    "# These are the locations with highest total number of incidents\n",
    "manyaccident_locations = list(locdf['location'])\n",
    "sorted(manyaccident_locations, key=str.lower)"
   ]
  },
  {
   "cell_type": "markdown",
   "metadata": {},
   "source": [
    "- 5 locations appear on both lists\n",
    "- 2 locations only appear on the list of locations with most severe incidents\n",
    "- 2 other locations only appear on the list of locations with highest number of incidents\n",
    "- Looks like there is some overlap between the two lists\n",
    "- Either the total number of accidents or total number of severe accidents could be an indicator of dangerousness"
   ]
  },
  {
   "cell_type": "markdown",
   "metadata": {},
   "source": [
    "## Goal 2: identify predictors of accidents"
   ]
  },
  {
   "cell_type": "markdown",
   "metadata": {},
   "source": [
    "Now let's try to find what contributes to accidents by looking at: \n",
    "- External factors\n",
    "- People factors\n",
    "- Characteristics of the collision site"
   ]
  },
  {
   "cell_type": "markdown",
   "metadata": {},
   "source": [
    "### External factors"
   ]
  },
  {
   "cell_type": "code",
   "execution_count": 32,
   "metadata": {},
   "outputs": [
    {
     "data": {
      "text/plain": [
       "<matplotlib.axes._subplots.AxesSubplot at 0x12784b7d0>"
      ]
     },
     "execution_count": 32,
     "metadata": {},
     "output_type": "execute_result"
    },
    {
     "data": {
      "image/png": "[encoded data removed]",
      "text/plain": [
       "<Figure size 432x288 with 1 Axes>"
      ]
     },
     "metadata": {
      "needs_background": "light"
     },
     "output_type": "display_data"
    }
   ],
   "source": [
    "df.groupby('lightcond').size().to_frame('count').sort_values(by=['count'], ascending=False).plot.bar()"
   ]
  },
  {
   "cell_type": "markdown",
   "metadata": {},
   "source": [
    "There are a lot of subcategories for `dark` conditions. Let's try combining them."
   ]
  },
  {
   "cell_type": "code",
   "execution_count": 33,
   "metadata": {},
   "outputs": [
    {
     "data": {
      "text/plain": [
       "<matplotlib.axes._subplots.AxesSubplot at 0x139e46210>"
      ]
     },
     "execution_count": 33,
     "metadata": {},
     "output_type": "execute_result"
    },
    {
     "data": {
      "image/png": "[encoded data removed]",
      "text/plain": [
       "<Figure size 432x288 with 1 Axes>"
      ]
     },
     "metadata": {
      "needs_background": "light"
     },
     "output_type": "display_data"
    }
   ],
   "source": [
    "df['lightcond'] = df['lightcond'].replace({\n",
    "   'dark - no street lights': 'dark',\n",
    "   'dark - street lights off': 'dark',\n",
    "   'dark - street lights on': 'dark',\n",
    "   'dark - unknown lighting': 'dark'})\n",
    "\n",
    "df.groupby('lightcond').size().to_frame('count').sort_values(by=['count'], ascending=False).plot.bar()"
   ]
  },
  {
   "cell_type": "markdown",
   "metadata": {},
   "source": [
    "**Exercise**\n",
    "Check the frequencies for `wheather`"
   ]
  },
  {
   "cell_type": "code",
   "execution_count": 34,
   "metadata": {},
   "outputs": [
    {
     "data": {
      "text/plain": [
       "<matplotlib.axes._subplots.AxesSubplot at 0x139ec5d50>"
      ]
     },
     "execution_count": 34,
     "metadata": {},
     "output_type": "execute_result"
    },
    {
     "data": {
      "image/png": "[encoded data removed]",
      "text/plain": [
       "<Figure size 432x288 with 1 Axes>"
      ]
     },
     "metadata": {
      "needs_background": "light"
     },
     "output_type": "display_data"
    }
   ],
   "source": [
    "df.groupby('weather').size().to_frame('count').sort_values(by=['count'], ascending=False).plot.bar()"
   ]
  },
  {
   "cell_type": "markdown",
   "metadata": {},
   "source": [
    "**End of exercise**"
   ]
  },
  {
   "cell_type": "markdown",
   "metadata": {},
   "source": [
    "- Most incidents happened in daylight and a clear weather. \n",
    "- Is a bad weather not a predictor of accidents then?"
   ]
  },
  {
   "cell_type": "markdown",
   "metadata": {},
   "source": [
    "### People factors"
   ]
  },
  {
   "cell_type": "code",
   "execution_count": 35,
   "metadata": {},
   "outputs": [
    {
     "data": {
      "text/plain": [
       "<matplotlib.axes._subplots.AxesSubplot at 0x139f55bd0>"
      ]
     },
     "metadata": {},
     "output_type": "display_data"
    },
    {
     "data": {
      "text/plain": [
       "<matplotlib.axes._subplots.AxesSubplot at 0x139fb3750>"
      ]
     },
     "metadata": {},
     "output_type": "display_data"
    },
    {
     "data": {
      "text/plain": [
       "<matplotlib.axes._subplots.AxesSubplot at 0x139fdaf50>"
      ]
     },
     "metadata": {},
     "output_type": "display_data"
    },
    {
     "data": {
      "text/plain": [
       "<matplotlib.axes._subplots.AxesSubplot at 0x13c8ee250>"
      ]
     },
     "metadata": {},
     "output_type": "display_data"
    },
    {
     "data": {
      "image/png": "[encoded data removed]",
      "text/plain": [
       "<Figure size 432x288 with 1 Axes>"
      ]
     },
     "metadata": {
      "needs_background": "light"
     },
     "output_type": "display_data"
    },
    {
     "data": {
      "image/png": "[encoded data removed]",
      "text/plain": [
       "<Figure size 432x288 with 1 Axes>"
      ]
     },
     "metadata": {
      "needs_background": "light"
     },
     "output_type": "display_data"
    },
    {
     "data": {
      "image/png": "[encoded data removed]",
      "text/plain": [
       "<Figure size 432x288 with 1 Axes>"
      ]
     },
     "metadata": {
      "needs_background": "light"
     },
     "output_type": "display_data"
    },
    {
     "data": {
      "image/png": "[encoded data removed]",
      "text/plain": [
       "<Figure size 432x288 with 1 Axes>"
      ]
     },
     "metadata": {
      "needs_background": "light"
     },
     "output_type": "display_data"
    }
   ],
   "source": [
    "people_factors = ['inattentionind', 'underinfl', 'pedrownotgrnt', 'speeding']\n",
    "for factor in people_factors:\n",
    "    display(df.fillna('NaN').groupby(factor).size().to_frame('count').plot.bar())"
   ]
  },
  {
   "cell_type": "markdown",
   "metadata": {},
   "source": [
    "- As you can see, there are a lot of missing data in these columns. This is something important to keep in mind when we conduct an analysis later. \n",
    "- There are fewer missing values for `underinfl` (whether the driver was under the influence) but there are `0`s and `1`s vs. `n`s and `y`s. If we want to use this column for an analysis later, we should combine these categories, assuming that `0`s = `n`s and `1`s = `y`s.\n",
    "- Under this assumption, in most cases, drivers were NOT under the influence"
   ]
  },
  {
   "cell_type": "markdown",
   "metadata": {},
   "source": [
    "### Characteristics of the collision site"
   ]
  },
  {
   "cell_type": "code",
   "execution_count": 36,
   "metadata": {},
   "outputs": [
    {
     "data": {
      "text/plain": [
       "<matplotlib.axes._subplots.AxesSubplot at 0x13cfb1e50>"
      ]
     },
     "metadata": {},
     "output_type": "display_data"
    },
    {
     "data": {
      "text/plain": [
       "<matplotlib.axes._subplots.AxesSubplot at 0x13d16f3d0>"
      ]
     },
     "metadata": {},
     "output_type": "display_data"
    },
    {
     "data": {
      "text/plain": [
       "<matplotlib.axes._subplots.AxesSubplot at 0x13da02550>"
      ]
     },
     "metadata": {},
     "output_type": "display_data"
    },
    {
     "data": {
      "image/png": "[encoded data removed]",
      "text/plain": [
       "<Figure size 432x288 with 1 Axes>"
      ]
     },
     "metadata": {
      "needs_background": "light"
     },
     "output_type": "display_data"
    },
    {
     "data": {
      "image/png": "[encoded data removed]",
      "text/plain": [
       "<Figure size 432x288 with 1 Axes>"
      ]
     },
     "metadata": {
      "needs_background": "light"
     },
     "output_type": "display_data"
    },
    {
     "data": {
      "image/png": "[encoded data removed]",
      "text/plain": [
       "<Figure size 432x288 with 1 Axes>"
      ]
     },
     "metadata": {
      "needs_background": "light"
     },
     "output_type": "display_data"
    }
   ],
   "source": [
    "site_characteristics = ['addrtype', 'junctiontype', 'roadcond']\n",
    "for characteristic in site_characteristics:\n",
    "    display(df.fillna('NaN').groupby(characteristic).size().to_frame('count').sort_values(by=['count'], ascending=False).plot.bar())"
   ]
  },
  {
   "cell_type": "markdown",
   "metadata": {},
   "source": [
    "More than half of the incidents happened on\n",
    "- a block rather than an intersection\n",
    "- a dry road"
   ]
  },
  {
   "cell_type": "markdown",
   "metadata": {},
   "source": [
    "So far, we found that many incidents happened\n",
    "- in daylight\n",
    "- in a clear weather\n",
    "- on a block\n",
    "- on a dry road\n",
    "\n",
    "Given these findings, can we rule out darkness and bad weather as predictors of accidents??"
   ]
  },
  {
   "cell_type": "markdown",
   "metadata": {},
   "source": [
    "### Q3. Can we predict severity from junction type?"
   ]
  },
  {
   "cell_type": "markdown",
   "metadata": {},
   "source": [
    "Note: SEVERITYCODE and SEVERITYDESC have the same information"
   ]
  },
  {
   "cell_type": "code",
   "execution_count": 37,
   "metadata": {},
   "outputs": [
    {
     "data": {
      "text/plain": [
       "<matplotlib.axes._subplots.AxesSubplot at 0x13dfae510>"
      ]
     },
     "execution_count": 37,
     "metadata": {},
     "output_type": "execute_result"
    },
    {
     "data": {
      "image/png": "[encoded data removed]",
      "text/plain": [
       "<Figure size 432x288 with 1 Axes>"
      ]
     },
     "metadata": {
      "needs_background": "light"
     },
     "output_type": "display_data"
    }
   ],
   "source": [
    "df.pivot_table(index='junctiontype', columns='severitycode', aggfunc='size').plot.barh(stacked=True)"
   ]
  },
  {
   "cell_type": "markdown",
   "metadata": {},
   "source": [
    "## Goal 3: Examine increase or decrease in number of accidents over time"
   ]
  },
  {
   "cell_type": "markdown",
   "metadata": {},
   "source": [
    "So far, we've looked at the dataset without considering the longitudinal aspect of it. Let's take a look at the change over time in the number of accidents."
   ]
  },
  {
   "cell_type": "markdown",
   "metadata": {},
   "source": [
    "### Q4. Has the number of accidents increased or decreased over time?"
   ]
  },
  {
   "cell_type": "markdown",
   "metadata": {},
   "source": [
    "Let's first take a look at the general trend over time in the overall number of accidents"
   ]
  },
  {
   "cell_type": "code",
   "execution_count": 38,
   "metadata": {},
   "outputs": [
    {
     "data": {
      "text/html": [
       "<div>\n",
       "<style scoped>\n",
       "    .dataframe tbody tr th:only-of-type {\n",
       "        vertical-align: middle;\n",
       "    }\n",
       "\n",
       "    .dataframe tbody tr th {\n",
       "        vertical-align: top;\n",
       "    }\n",
       "\n",
       "    .dataframe thead th {\n",
       "        text-align: right;\n",
       "    }\n",
       "</style>\n",
       "<table border=\"1\" class=\"dataframe\">\n",
       "  <thead>\n",
       "    <tr style=\"text-align: right;\">\n",
       "      <th></th>\n",
       "      <th>year</th>\n",
       "      <th>count</th>\n",
       "    </tr>\n",
       "  </thead>\n",
       "  <tbody>\n",
       "    <tr>\n",
       "      <th>0</th>\n",
       "      <td>2004</td>\n",
       "      <td>15457</td>\n",
       "    </tr>\n",
       "    <tr>\n",
       "      <th>1</th>\n",
       "      <td>2005</td>\n",
       "      <td>16016</td>\n",
       "    </tr>\n",
       "    <tr>\n",
       "      <th>2</th>\n",
       "      <td>2006</td>\n",
       "      <td>15794</td>\n",
       "    </tr>\n",
       "    <tr>\n",
       "      <th>3</th>\n",
       "      <td>2007</td>\n",
       "      <td>15082</td>\n",
       "    </tr>\n",
       "    <tr>\n",
       "      <th>4</th>\n",
       "      <td>2008</td>\n",
       "      <td>14139</td>\n",
       "    </tr>\n",
       "    <tr>\n",
       "      <th>5</th>\n",
       "      <td>2009</td>\n",
       "      <td>13275</td>\n",
       "    </tr>\n",
       "    <tr>\n",
       "      <th>6</th>\n",
       "      <td>2010</td>\n",
       "      <td>11958</td>\n",
       "    </tr>\n",
       "    <tr>\n",
       "      <th>7</th>\n",
       "      <td>2011</td>\n",
       "      <td>12416</td>\n",
       "    </tr>\n",
       "    <tr>\n",
       "      <th>8</th>\n",
       "      <td>2012</td>\n",
       "      <td>12732</td>\n",
       "    </tr>\n",
       "    <tr>\n",
       "      <th>9</th>\n",
       "      <td>2013</td>\n",
       "      <td>12757</td>\n",
       "    </tr>\n",
       "    <tr>\n",
       "      <th>10</th>\n",
       "      <td>2014</td>\n",
       "      <td>13212</td>\n",
       "    </tr>\n",
       "    <tr>\n",
       "      <th>11</th>\n",
       "      <td>2015</td>\n",
       "      <td>14260</td>\n",
       "    </tr>\n",
       "    <tr>\n",
       "      <th>12</th>\n",
       "      <td>2016</td>\n",
       "      <td>13903</td>\n",
       "    </tr>\n",
       "    <tr>\n",
       "      <th>13</th>\n",
       "      <td>2017</td>\n",
       "      <td>12478</td>\n",
       "    </tr>\n",
       "    <tr>\n",
       "      <th>14</th>\n",
       "      <td>2018</td>\n",
       "      <td>12198</td>\n",
       "    </tr>\n",
       "    <tr>\n",
       "      <th>15</th>\n",
       "      <td>2019</td>\n",
       "      <td>11199</td>\n",
       "    </tr>\n",
       "    <tr>\n",
       "      <th>16</th>\n",
       "      <td>2020</td>\n",
       "      <td>2907</td>\n",
       "    </tr>\n",
       "  </tbody>\n",
       "</table>\n",
       "</div>"
      ],
      "text/plain": [
       "    year  count\n",
       "0   2004  15457\n",
       "1   2005  16016\n",
       "2   2006  15794\n",
       "3   2007  15082\n",
       "4   2008  14139\n",
       "5   2009  13275\n",
       "6   2010  11958\n",
       "7   2011  12416\n",
       "8   2012  12732\n",
       "9   2013  12757\n",
       "10  2014  13212\n",
       "11  2015  14260\n",
       "12  2016  13903\n",
       "13  2017  12478\n",
       "14  2018  12198\n",
       "15  2019  11199\n",
       "16  2020   2907"
      ]
     },
     "execution_count": 38,
     "metadata": {},
     "output_type": "execute_result"
    }
   ],
   "source": [
    "yeardf = df.groupby('year').year.size().to_frame('count').reset_index()\n",
    "yeardf[\"year\"] = yeardf[\"year\"].astype(int)\n",
    "yeardf.head(20)"
   ]
  },
  {
   "cell_type": "code",
   "execution_count": 39,
   "metadata": {},
   "outputs": [
    {
     "data": {
      "image/png": "[encoded data removed]",
      "text/plain": [
       "<Figure size 720x576 with 1 Axes>"
      ]
     },
     "metadata": {
      "needs_background": "light"
     },
     "output_type": "display_data"
    }
   ],
   "source": [
    "yeardf = yeardf[(yeardf['year'] < 2020)]# Excluding 2020 because the data is incomplete \n",
    "fig = plt.figure(figsize=(10, 8));\n",
    "sns.lineplot(x=\"year\", y=\"count\", data=yeardf);"
   ]
  },
  {
   "cell_type": "markdown",
   "metadata": {},
   "source": [
    "- It looks like there was a decline from 2004 to 2010, then an increase to 2015, then a decline again toward 2019.\n",
    "- What might have contributed to these declines and increase in accidents? Change in the volume of traffic? Did the City make changes to the location?"
   ]
  },
  {
   "cell_type": "markdown",
   "metadata": {},
   "source": [
    "Would we see a similar pattern for the dangerous locations we have identified earlier? Let's take alook. "
   ]
  },
  {
   "cell_type": "markdown",
   "metadata": {},
   "source": [
    "### Q5. How has the number of incidents changed over time for the most dangerous locations?"
   ]
  },
  {
   "cell_type": "code",
   "execution_count": 40,
   "metadata": {},
   "outputs": [
    {
     "data": {
      "text/html": [
       "<div>\n",
       "<style scoped>\n",
       "    .dataframe tbody tr th:only-of-type {\n",
       "        vertical-align: middle;\n",
       "    }\n",
       "\n",
       "    .dataframe tbody tr th {\n",
       "        vertical-align: top;\n",
       "    }\n",
       "\n",
       "    .dataframe thead th {\n",
       "        text-align: right;\n",
       "    }\n",
       "</style>\n",
       "<table border=\"1\" class=\"dataframe\">\n",
       "  <thead>\n",
       "    <tr style=\"text-align: right;\">\n",
       "      <th></th>\n",
       "      <th>x</th>\n",
       "      <th>y</th>\n",
       "      <th>objectid</th>\n",
       "      <th>inckey</th>\n",
       "      <th>coldetkey</th>\n",
       "      <th>reportno</th>\n",
       "      <th>status</th>\n",
       "      <th>addrtype</th>\n",
       "      <th>intkey</th>\n",
       "      <th>location</th>\n",
       "      <th>exceptrsncode</th>\n",
       "      <th>exceptrsndesc</th>\n",
       "      <th>severitycode</th>\n",
       "      <th>severitydesc</th>\n",
       "      <th>collisiontype</th>\n",
       "      <th>personcount</th>\n",
       "      <th>pedcount</th>\n",
       "      <th>pedcylcount</th>\n",
       "      <th>vehcount</th>\n",
       "      <th>injuries</th>\n",
       "      <th>seriousinjuries</th>\n",
       "      <th>fatalities</th>\n",
       "      <th>incdate</th>\n",
       "      <th>incdttm</th>\n",
       "      <th>junctiontype</th>\n",
       "      <th>sdot_colcode</th>\n",
       "      <th>sdot_coldesc</th>\n",
       "      <th>inattentionind</th>\n",
       "      <th>underinfl</th>\n",
       "      <th>weather</th>\n",
       "      <th>roadcond</th>\n",
       "      <th>lightcond</th>\n",
       "      <th>pedrownotgrnt</th>\n",
       "      <th>sdotcolnum</th>\n",
       "      <th>speeding</th>\n",
       "      <th>st_colcode</th>\n",
       "      <th>st_coldesc</th>\n",
       "      <th>seglanekey</th>\n",
       "      <th>crosswalkkey</th>\n",
       "      <th>hitparkedcar</th>\n",
       "      <th>year</th>\n",
       "      <th>month</th>\n",
       "    </tr>\n",
       "  </thead>\n",
       "  <tbody>\n",
       "    <tr>\n",
       "      <th>36</th>\n",
       "      <td>NaN</td>\n",
       "      <td>NaN</td>\n",
       "      <td>37</td>\n",
       "      <td>19800</td>\n",
       "      <td>19800</td>\n",
       "      <td>1060128</td>\n",
       "      <td>matched</td>\n",
       "      <td>block</td>\n",
       "      <td>NaN</td>\n",
       "      <td>alaskan wy vi nb between s royal brougham way ...</td>\n",
       "      <td>NaN</td>\n",
       "      <td>NaN</td>\n",
       "      <td>Prop_damage</td>\n",
       "      <td>property damage only collision</td>\n",
       "      <td>other</td>\n",
       "      <td>1</td>\n",
       "      <td>0</td>\n",
       "      <td>0</td>\n",
       "      <td>1</td>\n",
       "      <td>0</td>\n",
       "      <td>0</td>\n",
       "      <td>0</td>\n",
       "      <td>2004-12-23</td>\n",
       "      <td>2004-12-23 00:20:00</td>\n",
       "      <td>mid-block (not related to intersection)</td>\n",
       "      <td>28.0</td>\n",
       "      <td>motor vehicle ran off road - hit fixed object</td>\n",
       "      <td>NaN</td>\n",
       "      <td>1</td>\n",
       "      <td>clear</td>\n",
       "      <td>dry</td>\n",
       "      <td>dark</td>\n",
       "      <td>NaN</td>\n",
       "      <td>4358043.0</td>\n",
       "      <td>NaN</td>\n",
       "      <td>50</td>\n",
       "      <td>fixed object</td>\n",
       "      <td>0</td>\n",
       "      <td>0</td>\n",
       "      <td>n</td>\n",
       "      <td>2004</td>\n",
       "      <td>12</td>\n",
       "    </tr>\n",
       "    <tr>\n",
       "      <th>60</th>\n",
       "      <td>-122.344997</td>\n",
       "      <td>47.725036</td>\n",
       "      <td>61</td>\n",
       "      <td>25200</td>\n",
       "      <td>25200</td>\n",
       "      <td>1793826</td>\n",
       "      <td>matched</td>\n",
       "      <td>block</td>\n",
       "      <td>NaN</td>\n",
       "      <td>aurora ave n between n 130th st and n 135th st</td>\n",
       "      <td>NaN</td>\n",
       "      <td>NaN</td>\n",
       "      <td>Prop_damage</td>\n",
       "      <td>property damage only collision</td>\n",
       "      <td>sideswipe</td>\n",
       "      <td>2</td>\n",
       "      <td>0</td>\n",
       "      <td>0</td>\n",
       "      <td>2</td>\n",
       "      <td>0</td>\n",
       "      <td>0</td>\n",
       "      <td>0</td>\n",
       "      <td>2004-07-27</td>\n",
       "      <td>2004-07-27 16:51:00</td>\n",
       "      <td>mid-block (not related to intersection)</td>\n",
       "      <td>16.0</td>\n",
       "      <td>motor vehicle struck motor vehicle, left side ...</td>\n",
       "      <td>NaN</td>\n",
       "      <td>0</td>\n",
       "      <td>clear</td>\n",
       "      <td>dry</td>\n",
       "      <td>daylight</td>\n",
       "      <td>NaN</td>\n",
       "      <td>4209036.0</td>\n",
       "      <td>NaN</td>\n",
       "      <td>12</td>\n",
       "      <td>from same direction - both going straight - on...</td>\n",
       "      <td>0</td>\n",
       "      <td>0</td>\n",
       "      <td>n</td>\n",
       "      <td>2004</td>\n",
       "      <td>07</td>\n",
       "    </tr>\n",
       "    <tr>\n",
       "      <th>103</th>\n",
       "      <td>-122.344896</td>\n",
       "      <td>47.717173</td>\n",
       "      <td>104</td>\n",
       "      <td>1053</td>\n",
       "      <td>1053</td>\n",
       "      <td>3501458</td>\n",
       "      <td>matched</td>\n",
       "      <td>block</td>\n",
       "      <td>NaN</td>\n",
       "      <td>aurora ave n between n 117th pl and n 125th st</td>\n",
       "      <td></td>\n",
       "      <td>NaN</td>\n",
       "      <td>Prop_damage</td>\n",
       "      <td>property damage only collision</td>\n",
       "      <td>left turn</td>\n",
       "      <td>2</td>\n",
       "      <td>0</td>\n",
       "      <td>0</td>\n",
       "      <td>2</td>\n",
       "      <td>0</td>\n",
       "      <td>0</td>\n",
       "      <td>0</td>\n",
       "      <td>2013-03-26</td>\n",
       "      <td>2013-03-26 16:41:00</td>\n",
       "      <td>driveway junction</td>\n",
       "      <td>11.0</td>\n",
       "      <td>motor vehicle struck motor vehicle, front end ...</td>\n",
       "      <td>y</td>\n",
       "      <td>n</td>\n",
       "      <td>clear</td>\n",
       "      <td>dry</td>\n",
       "      <td>daylight</td>\n",
       "      <td>NaN</td>\n",
       "      <td>NaN</td>\n",
       "      <td>NaN</td>\n",
       "      <td>28</td>\n",
       "      <td>from opposite direction - one left turn - one ...</td>\n",
       "      <td>0</td>\n",
       "      <td>0</td>\n",
       "      <td>n</td>\n",
       "      <td>2013</td>\n",
       "      <td>03</td>\n",
       "    </tr>\n",
       "    <tr>\n",
       "      <th>229</th>\n",
       "      <td>-122.344896</td>\n",
       "      <td>47.717173</td>\n",
       "      <td>230</td>\n",
       "      <td>18700</td>\n",
       "      <td>18700</td>\n",
       "      <td>1079621</td>\n",
       "      <td>matched</td>\n",
       "      <td>block</td>\n",
       "      <td>NaN</td>\n",
       "      <td>aurora ave n between n 117th pl and n 125th st</td>\n",
       "      <td>NaN</td>\n",
       "      <td>NaN</td>\n",
       "      <td>Prop_damage</td>\n",
       "      <td>property damage only collision</td>\n",
       "      <td>other</td>\n",
       "      <td>4</td>\n",
       "      <td>0</td>\n",
       "      <td>0</td>\n",
       "      <td>2</td>\n",
       "      <td>0</td>\n",
       "      <td>0</td>\n",
       "      <td>0</td>\n",
       "      <td>2004-10-04</td>\n",
       "      <td>2004-10-04 00:00:00</td>\n",
       "      <td>driveway junction</td>\n",
       "      <td>11.0</td>\n",
       "      <td>motor vehicle struck motor vehicle, front end ...</td>\n",
       "      <td>NaN</td>\n",
       "      <td>0</td>\n",
       "      <td>clear</td>\n",
       "      <td>dry</td>\n",
       "      <td>daylight</td>\n",
       "      <td>NaN</td>\n",
       "      <td>4278029.0</td>\n",
       "      <td>NaN</td>\n",
       "      <td>21</td>\n",
       "      <td>one car entering driveway access</td>\n",
       "      <td>0</td>\n",
       "      <td>0</td>\n",
       "      <td>n</td>\n",
       "      <td>2004</td>\n",
       "      <td>10</td>\n",
       "    </tr>\n",
       "    <tr>\n",
       "      <th>417</th>\n",
       "      <td>NaN</td>\n",
       "      <td>NaN</td>\n",
       "      <td>418</td>\n",
       "      <td>111500</td>\n",
       "      <td>111500</td>\n",
       "      <td>3346098</td>\n",
       "      <td>matched</td>\n",
       "      <td>block</td>\n",
       "      <td>NaN</td>\n",
       "      <td>battery st tunnel nb between alaskan wy vi nb ...</td>\n",
       "      <td>NaN</td>\n",
       "      <td>NaN</td>\n",
       "      <td>Prop_damage</td>\n",
       "      <td>property damage only collision</td>\n",
       "      <td>other</td>\n",
       "      <td>1</td>\n",
       "      <td>0</td>\n",
       "      <td>0</td>\n",
       "      <td>1</td>\n",
       "      <td>0</td>\n",
       "      <td>0</td>\n",
       "      <td>0</td>\n",
       "      <td>2010-10-23</td>\n",
       "      <td>2010-10-23 18:01:00</td>\n",
       "      <td>mid-block (not related to intersection)</td>\n",
       "      <td>26.0</td>\n",
       "      <td>motor vehicle struck object in road</td>\n",
       "      <td>NaN</td>\n",
       "      <td>n</td>\n",
       "      <td>raining</td>\n",
       "      <td>wet</td>\n",
       "      <td>dark</td>\n",
       "      <td>NaN</td>\n",
       "      <td>10296042.0</td>\n",
       "      <td>NaN</td>\n",
       "      <td>50</td>\n",
       "      <td>fixed object</td>\n",
       "      <td>0</td>\n",
       "      <td>0</td>\n",
       "      <td>n</td>\n",
       "      <td>2010</td>\n",
       "      <td>10</td>\n",
       "    </tr>\n",
       "  </tbody>\n",
       "</table>\n",
       "</div>"
      ],
      "text/plain": [
       "              x          y  objectid  inckey  coldetkey reportno   status  \\\n",
       "36          NaN        NaN        37   19800      19800  1060128  matched   \n",
       "60  -122.344997  47.725036        61   25200      25200  1793826  matched   \n",
       "103 -122.344896  47.717173       104    1053       1053  3501458  matched   \n",
       "229 -122.344896  47.717173       230   18700      18700  1079621  matched   \n",
       "417         NaN        NaN       418  111500     111500  3346098  matched   \n",
       "\n",
       "    addrtype  intkey                                           location  \\\n",
       "36     block     NaN  alaskan wy vi nb between s royal brougham way ...   \n",
       "60     block     NaN     aurora ave n between n 130th st and n 135th st   \n",
       "103    block     NaN     aurora ave n between n 117th pl and n 125th st   \n",
       "229    block     NaN     aurora ave n between n 117th pl and n 125th st   \n",
       "417    block     NaN  battery st tunnel nb between alaskan wy vi nb ...   \n",
       "\n",
       "    exceptrsncode exceptrsndesc severitycode                    severitydesc  \\\n",
       "36            NaN           NaN  Prop_damage  property damage only collision   \n",
       "60            NaN           NaN  Prop_damage  property damage only collision   \n",
       "103                         NaN  Prop_damage  property damage only collision   \n",
       "229           NaN           NaN  Prop_damage  property damage only collision   \n",
       "417           NaN           NaN  Prop_damage  property damage only collision   \n",
       "\n",
       "    collisiontype  personcount  pedcount  pedcylcount  vehcount  injuries  \\\n",
       "36          other            1         0            0         1         0   \n",
       "60      sideswipe            2         0            0         2         0   \n",
       "103     left turn            2         0            0         2         0   \n",
       "229         other            4         0            0         2         0   \n",
       "417         other            1         0            0         1         0   \n",
       "\n",
       "     seriousinjuries  fatalities    incdate              incdttm  \\\n",
       "36                 0           0 2004-12-23  2004-12-23 00:20:00   \n",
       "60                 0           0 2004-07-27  2004-07-27 16:51:00   \n",
       "103                0           0 2013-03-26  2013-03-26 16:41:00   \n",
       "229                0           0 2004-10-04  2004-10-04 00:00:00   \n",
       "417                0           0 2010-10-23  2010-10-23 18:01:00   \n",
       "\n",
       "                                junctiontype  sdot_colcode  \\\n",
       "36   mid-block (not related to intersection)          28.0   \n",
       "60   mid-block (not related to intersection)          16.0   \n",
       "103                        driveway junction          11.0   \n",
       "229                        driveway junction          11.0   \n",
       "417  mid-block (not related to intersection)          26.0   \n",
       "\n",
       "                                          sdot_coldesc inattentionind  \\\n",
       "36       motor vehicle ran off road - hit fixed object            NaN   \n",
       "60   motor vehicle struck motor vehicle, left side ...            NaN   \n",
       "103  motor vehicle struck motor vehicle, front end ...              y   \n",
       "229  motor vehicle struck motor vehicle, front end ...            NaN   \n",
       "417                motor vehicle struck object in road            NaN   \n",
       "\n",
       "    underinfl  weather roadcond lightcond pedrownotgrnt  sdotcolnum speeding  \\\n",
       "36          1    clear      dry      dark           NaN   4358043.0      NaN   \n",
       "60          0    clear      dry  daylight           NaN   4209036.0      NaN   \n",
       "103         n    clear      dry  daylight           NaN         NaN      NaN   \n",
       "229         0    clear      dry  daylight           NaN   4278029.0      NaN   \n",
       "417         n  raining      wet      dark           NaN  10296042.0      NaN   \n",
       "\n",
       "    st_colcode                                         st_coldesc  seglanekey  \\\n",
       "36          50                                       fixed object           0   \n",
       "60          12  from same direction - both going straight - on...           0   \n",
       "103         28  from opposite direction - one left turn - one ...           0   \n",
       "229         21                   one car entering driveway access           0   \n",
       "417         50                                       fixed object           0   \n",
       "\n",
       "     crosswalkkey hitparkedcar  year month  \n",
       "36              0            n  2004    12  \n",
       "60              0            n  2004    07  \n",
       "103             0            n  2013    03  \n",
       "229             0            n  2004    10  \n",
       "417             0            n  2010    10  "
      ]
     },
     "execution_count": 40,
     "metadata": {},
     "output_type": "execute_result"
    }
   ],
   "source": [
    "manyaccident_df = df[df['location'].isin(locdf['location'])]\n",
    "manyaccident_df.head()"
   ]
  },
  {
   "cell_type": "code",
   "execution_count": 41,
   "metadata": {},
   "outputs": [
    {
     "data": {
      "text/plain": [
       "<matplotlib.legend.Legend at 0x139fa9410>"
      ]
     },
     "execution_count": 41,
     "metadata": {},
     "output_type": "execute_result"
    },
    {
     "data": {
      "image/png": "[encoded data removed]",
      "text/plain": [
       "<Figure size 432x288 with 1 Axes>"
      ]
     },
     "metadata": {
      "needs_background": "light"
     },
     "output_type": "display_data"
    }
   ],
   "source": [
    "manyaccident_year_data = manyaccident_df.groupby(['location', 'year'])['inckey'].sum().reset_index()\n",
    "# Let's exclude 2020 since data are still coming in\n",
    "manyaccident_year_data = manyaccident_year_data[(manyaccident_year_data['year'] < 2020)]\n",
    "g = sns.lineplot(x=\"year\", y=\"inckey\", hue=\"location\", data=manyaccident_year_data)\n",
    "g.legend(loc='center left', bbox_to_anchor=(1.25, 0.5), ncol=1)"
   ]
  },
  {
   "cell_type": "markdown",
   "metadata": {},
   "source": [
    "- In general, there is an upward trend toward 2018\n",
    "- But a few locations (e.g., blue, purple, and pink) show a decline toward/around 2018\n",
    "- Green line is going up after 2018\n",
    "- What might explain these different patterns in different locations?"
   ]
  },
  {
   "cell_type": "markdown",
   "metadata": {},
   "source": [
    "## 9. Understand relationships between columns\n"
   ]
  },
  {
   "cell_type": "markdown",
   "metadata": {},
   "source": [
    "## a. Scatter plots"
   ]
  },
  {
   "cell_type": "markdown",
   "metadata": {},
   "source": [
    "## b. Bar graphs"
   ]
  },
  {
   "cell_type": "markdown",
   "metadata": {},
   "source": [
    "## c. Correlations between variables"
   ]
  },
  {
   "cell_type": "code",
   "execution_count": 42,
   "metadata": {},
   "outputs": [
    {
     "data": {
      "text/html": [
       "<div>\n",
       "<style scoped>\n",
       "    .dataframe tbody tr th:only-of-type {\n",
       "        vertical-align: middle;\n",
       "    }\n",
       "\n",
       "    .dataframe tbody tr th {\n",
       "        vertical-align: top;\n",
       "    }\n",
       "\n",
       "    .dataframe thead th {\n",
       "        text-align: right;\n",
       "    }\n",
       "</style>\n",
       "<table border=\"1\" class=\"dataframe\">\n",
       "  <thead>\n",
       "    <tr style=\"text-align: right;\">\n",
       "      <th></th>\n",
       "      <th>x</th>\n",
       "      <th>y</th>\n",
       "      <th>objectid</th>\n",
       "      <th>inckey</th>\n",
       "      <th>coldetkey</th>\n",
       "      <th>intkey</th>\n",
       "      <th>personcount</th>\n",
       "      <th>pedcount</th>\n",
       "      <th>pedcylcount</th>\n",
       "      <th>vehcount</th>\n",
       "      <th>injuries</th>\n",
       "      <th>seriousinjuries</th>\n",
       "      <th>fatalities</th>\n",
       "      <th>sdot_colcode</th>\n",
       "      <th>sdotcolnum</th>\n",
       "      <th>seglanekey</th>\n",
       "      <th>crosswalkkey</th>\n",
       "      <th>year</th>\n",
       "    </tr>\n",
       "  </thead>\n",
       "  <tbody>\n",
       "    <tr>\n",
       "      <th>x</th>\n",
       "      <td>1.000000</td>\n",
       "      <td>-0.156870</td>\n",
       "      <td>0.006097</td>\n",
       "      <td>0.005974</td>\n",
       "      <td>0.005971</td>\n",
       "      <td>0.118968</td>\n",
       "      <td>0.019297</td>\n",
       "      <td>0.012184</td>\n",
       "      <td>-0.001617</td>\n",
       "      <td>0.005715</td>\n",
       "      <td>0.014716</td>\n",
       "      <td>-0.005209</td>\n",
       "      <td>0.000512</td>\n",
       "      <td>0.018278</td>\n",
       "      <td>-0.004937</td>\n",
       "      <td>-0.000422</td>\n",
       "      <td>0.013911</td>\n",
       "      <td>0.006010</td>\n",
       "    </tr>\n",
       "    <tr>\n",
       "      <th>y</th>\n",
       "      <td>-0.156870</td>\n",
       "      <td>1.000000</td>\n",
       "      <td>-0.021209</td>\n",
       "      <td>-0.024275</td>\n",
       "      <td>-0.024291</td>\n",
       "      <td>-0.114157</td>\n",
       "      <td>-0.029718</td>\n",
       "      <td>0.008646</td>\n",
       "      <td>0.023371</td>\n",
       "      <td>-0.016361</td>\n",
       "      <td>0.001787</td>\n",
       "      <td>-0.002374</td>\n",
       "      <td>-0.004600</td>\n",
       "      <td>-0.026091</td>\n",
       "      <td>-0.007234</td>\n",
       "      <td>0.003643</td>\n",
       "      <td>0.007005</td>\n",
       "      <td>-0.023129</td>\n",
       "    </tr>\n",
       "    <tr>\n",
       "      <th>objectid</th>\n",
       "      <td>0.006097</td>\n",
       "      <td>-0.021209</td>\n",
       "      <td>1.000000</td>\n",
       "      <td>0.946298</td>\n",
       "      <td>0.945750</td>\n",
       "      <td>0.046665</td>\n",
       "      <td>-0.066049</td>\n",
       "      <td>0.022177</td>\n",
       "      <td>0.028332</td>\n",
       "      <td>-0.103238</td>\n",
       "      <td>-0.005827</td>\n",
       "      <td>-0.004250</td>\n",
       "      <td>-0.001852</td>\n",
       "      <td>-0.085247</td>\n",
       "      <td>0.970435</td>\n",
       "      <td>0.024506</td>\n",
       "      <td>0.052654</td>\n",
       "      <td>0.957430</td>\n",
       "    </tr>\n",
       "    <tr>\n",
       "      <th>inckey</th>\n",
       "      <td>0.005974</td>\n",
       "      <td>-0.024275</td>\n",
       "      <td>0.946298</td>\n",
       "      <td>1.000000</td>\n",
       "      <td>0.999996</td>\n",
       "      <td>0.048242</td>\n",
       "      <td>-0.066847</td>\n",
       "      <td>0.022433</td>\n",
       "      <td>0.024927</td>\n",
       "      <td>-0.113732</td>\n",
       "      <td>-0.005392</td>\n",
       "      <td>-0.004071</td>\n",
       "      <td>0.000198</td>\n",
       "      <td>-0.075677</td>\n",
       "      <td>0.990963</td>\n",
       "      <td>0.015970</td>\n",
       "      <td>0.044510</td>\n",
       "      <td>0.974854</td>\n",
       "    </tr>\n",
       "    <tr>\n",
       "      <th>coldetkey</th>\n",
       "      <td>0.005971</td>\n",
       "      <td>-0.024291</td>\n",
       "      <td>0.945750</td>\n",
       "      <td>0.999996</td>\n",
       "      <td>1.000000</td>\n",
       "      <td>0.048221</td>\n",
       "      <td>-0.066780</td>\n",
       "      <td>0.022434</td>\n",
       "      <td>0.024884</td>\n",
       "      <td>-0.113789</td>\n",
       "      <td>-0.005386</td>\n",
       "      <td>-0.004056</td>\n",
       "      <td>0.000207</td>\n",
       "      <td>-0.075503</td>\n",
       "      <td>0.990963</td>\n",
       "      <td>0.015857</td>\n",
       "      <td>0.044391</td>\n",
       "      <td>0.974404</td>\n",
       "    </tr>\n",
       "    <tr>\n",
       "      <th>intkey</th>\n",
       "      <td>0.118968</td>\n",
       "      <td>-0.114157</td>\n",
       "      <td>0.046665</td>\n",
       "      <td>0.048242</td>\n",
       "      <td>0.048221</td>\n",
       "      <td>1.000000</td>\n",
       "      <td>0.005021</td>\n",
       "      <td>-0.001154</td>\n",
       "      <td>-0.000077</td>\n",
       "      <td>-0.005857</td>\n",
       "      <td>0.012299</td>\n",
       "      <td>0.010428</td>\n",
       "      <td>0.013781</td>\n",
       "      <td>0.006969</td>\n",
       "      <td>0.031020</td>\n",
       "      <td>-0.009804</td>\n",
       "      <td>0.019959</td>\n",
       "      <td>0.049643</td>\n",
       "    </tr>\n",
       "    <tr>\n",
       "      <th>personcount</th>\n",
       "      <td>0.019297</td>\n",
       "      <td>-0.029718</td>\n",
       "      <td>-0.066049</td>\n",
       "      <td>-0.066847</td>\n",
       "      <td>-0.066780</td>\n",
       "      <td>0.005021</td>\n",
       "      <td>1.000000</td>\n",
       "      <td>0.011393</td>\n",
       "      <td>-0.009413</td>\n",
       "      <td>0.558034</td>\n",
       "      <td>0.319277</td>\n",
       "      <td>0.107682</td>\n",
       "      <td>0.046406</td>\n",
       "      <td>0.008607</td>\n",
       "      <td>0.010687</td>\n",
       "      <td>-0.008452</td>\n",
       "      <td>-0.010482</td>\n",
       "      <td>-0.066853</td>\n",
       "    </tr>\n",
       "    <tr>\n",
       "      <th>pedcount</th>\n",
       "      <td>0.012184</td>\n",
       "      <td>0.008646</td>\n",
       "      <td>0.022177</td>\n",
       "      <td>0.022433</td>\n",
       "      <td>0.022434</td>\n",
       "      <td>-0.001154</td>\n",
       "      <td>0.011393</td>\n",
       "      <td>1.000000</td>\n",
       "      <td>-0.015869</td>\n",
       "      <td>-0.155148</td>\n",
       "      <td>0.167390</td>\n",
       "      <td>0.132441</td>\n",
       "      <td>0.073218</td>\n",
       "      <td>0.261012</td>\n",
       "      <td>0.021195</td>\n",
       "      <td>0.001275</td>\n",
       "      <td>0.553713</td>\n",
       "      <td>0.021945</td>\n",
       "    </tr>\n",
       "    <tr>\n",
       "      <th>pedcylcount</th>\n",
       "      <td>-0.001617</td>\n",
       "      <td>0.023371</td>\n",
       "      <td>0.028332</td>\n",
       "      <td>0.024927</td>\n",
       "      <td>0.024884</td>\n",
       "      <td>-0.000077</td>\n",
       "      <td>-0.009413</td>\n",
       "      <td>-0.015869</td>\n",
       "      <td>1.000000</td>\n",
       "      <td>-0.151474</td>\n",
       "      <td>0.122465</td>\n",
       "      <td>0.061832</td>\n",
       "      <td>0.011112</td>\n",
       "      <td>0.369043</td>\n",
       "      <td>0.031468</td>\n",
       "      <td>0.456361</td>\n",
       "      <td>0.104026</td>\n",
       "      <td>0.027936</td>\n",
       "    </tr>\n",
       "    <tr>\n",
       "      <th>vehcount</th>\n",
       "      <td>0.005715</td>\n",
       "      <td>-0.016361</td>\n",
       "      <td>-0.103238</td>\n",
       "      <td>-0.113732</td>\n",
       "      <td>-0.113789</td>\n",
       "      <td>-0.005857</td>\n",
       "      <td>0.558034</td>\n",
       "      <td>-0.155148</td>\n",
       "      <td>-0.151474</td>\n",
       "      <td>1.000000</td>\n",
       "      <td>0.142788</td>\n",
       "      <td>-0.003102</td>\n",
       "      <td>-0.010611</td>\n",
       "      <td>-0.078438</td>\n",
       "      <td>-0.016652</td>\n",
       "      <td>-0.076085</td>\n",
       "      <td>-0.121884</td>\n",
       "      <td>-0.106924</td>\n",
       "    </tr>\n",
       "    <tr>\n",
       "      <th>injuries</th>\n",
       "      <td>0.014716</td>\n",
       "      <td>0.001787</td>\n",
       "      <td>-0.005827</td>\n",
       "      <td>-0.005392</td>\n",
       "      <td>-0.005386</td>\n",
       "      <td>0.012299</td>\n",
       "      <td>0.319277</td>\n",
       "      <td>0.167390</td>\n",
       "      <td>0.122465</td>\n",
       "      <td>0.142788</td>\n",
       "      <td>1.000000</td>\n",
       "      <td>0.280029</td>\n",
       "      <td>0.067357</td>\n",
       "      <td>0.138865</td>\n",
       "      <td>-0.002376</td>\n",
       "      <td>0.059638</td>\n",
       "      <td>0.100844</td>\n",
       "      <td>-0.004954</td>\n",
       "    </tr>\n",
       "    <tr>\n",
       "      <th>seriousinjuries</th>\n",
       "      <td>-0.005209</td>\n",
       "      <td>-0.002374</td>\n",
       "      <td>-0.004250</td>\n",
       "      <td>-0.004071</td>\n",
       "      <td>-0.004056</td>\n",
       "      <td>0.010428</td>\n",
       "      <td>0.107682</td>\n",
       "      <td>0.132441</td>\n",
       "      <td>0.061832</td>\n",
       "      <td>-0.003102</td>\n",
       "      <td>0.280029</td>\n",
       "      <td>1.000000</td>\n",
       "      <td>0.173762</td>\n",
       "      <td>0.086333</td>\n",
       "      <td>-0.004140</td>\n",
       "      <td>0.031572</td>\n",
       "      <td>0.055873</td>\n",
       "      <td>-0.005100</td>\n",
       "    </tr>\n",
       "    <tr>\n",
       "      <th>fatalities</th>\n",
       "      <td>0.000512</td>\n",
       "      <td>-0.004600</td>\n",
       "      <td>-0.001852</td>\n",
       "      <td>0.000198</td>\n",
       "      <td>0.000207</td>\n",
       "      <td>0.013781</td>\n",
       "      <td>0.046406</td>\n",
       "      <td>0.073218</td>\n",
       "      <td>0.011112</td>\n",
       "      <td>-0.010611</td>\n",
       "      <td>0.067357</td>\n",
       "      <td>0.173762</td>\n",
       "      <td>1.000000</td>\n",
       "      <td>0.045839</td>\n",
       "      <td>-0.005555</td>\n",
       "      <td>0.005125</td>\n",
       "      <td>0.032695</td>\n",
       "      <td>-0.000802</td>\n",
       "    </tr>\n",
       "    <tr>\n",
       "      <th>sdot_colcode</th>\n",
       "      <td>0.018278</td>\n",
       "      <td>-0.026091</td>\n",
       "      <td>-0.085247</td>\n",
       "      <td>-0.075677</td>\n",
       "      <td>-0.075503</td>\n",
       "      <td>0.006969</td>\n",
       "      <td>0.008607</td>\n",
       "      <td>0.261012</td>\n",
       "      <td>0.369043</td>\n",
       "      <td>-0.078438</td>\n",
       "      <td>0.138865</td>\n",
       "      <td>0.086333</td>\n",
       "      <td>0.045839</td>\n",
       "      <td>1.000000</td>\n",
       "      <td>-0.088741</td>\n",
       "      <td>0.202839</td>\n",
       "      <td>0.187772</td>\n",
       "      <td>-0.087123</td>\n",
       "    </tr>\n",
       "    <tr>\n",
       "      <th>sdotcolnum</th>\n",
       "      <td>-0.004937</td>\n",
       "      <td>-0.007234</td>\n",
       "      <td>0.970435</td>\n",
       "      <td>0.990963</td>\n",
       "      <td>0.990963</td>\n",
       "      <td>0.031020</td>\n",
       "      <td>0.010687</td>\n",
       "      <td>0.021195</td>\n",
       "      <td>0.031468</td>\n",
       "      <td>-0.016652</td>\n",
       "      <td>-0.002376</td>\n",
       "      <td>-0.004140</td>\n",
       "      <td>-0.005555</td>\n",
       "      <td>-0.088741</td>\n",
       "      <td>1.000000</td>\n",
       "      <td>0.063097</td>\n",
       "      <td>0.085380</td>\n",
       "      <td>0.999030</td>\n",
       "    </tr>\n",
       "    <tr>\n",
       "      <th>seglanekey</th>\n",
       "      <td>-0.000422</td>\n",
       "      <td>0.003643</td>\n",
       "      <td>0.024506</td>\n",
       "      <td>0.015970</td>\n",
       "      <td>0.015857</td>\n",
       "      <td>-0.009804</td>\n",
       "      <td>-0.008452</td>\n",
       "      <td>0.001275</td>\n",
       "      <td>0.456361</td>\n",
       "      <td>-0.076085</td>\n",
       "      <td>0.059638</td>\n",
       "      <td>0.031572</td>\n",
       "      <td>0.005125</td>\n",
       "      <td>0.202839</td>\n",
       "      <td>0.063097</td>\n",
       "      <td>1.000000</td>\n",
       "      <td>-0.003585</td>\n",
       "      <td>0.024213</td>\n",
       "    </tr>\n",
       "    <tr>\n",
       "      <th>crosswalkkey</th>\n",
       "      <td>0.013911</td>\n",
       "      <td>0.007005</td>\n",
       "      <td>0.052654</td>\n",
       "      <td>0.044510</td>\n",
       "      <td>0.044391</td>\n",
       "      <td>0.019959</td>\n",
       "      <td>-0.010482</td>\n",
       "      <td>0.553713</td>\n",
       "      <td>0.104026</td>\n",
       "      <td>-0.121884</td>\n",
       "      <td>0.100844</td>\n",
       "      <td>0.055873</td>\n",
       "      <td>0.032695</td>\n",
       "      <td>0.187772</td>\n",
       "      <td>0.085380</td>\n",
       "      <td>-0.003585</td>\n",
       "      <td>1.000000</td>\n",
       "      <td>0.052482</td>\n",
       "    </tr>\n",
       "    <tr>\n",
       "      <th>year</th>\n",
       "      <td>0.006010</td>\n",
       "      <td>-0.023129</td>\n",
       "      <td>0.957430</td>\n",
       "      <td>0.974854</td>\n",
       "      <td>0.974404</td>\n",
       "      <td>0.049643</td>\n",
       "      <td>-0.066853</td>\n",
       "      <td>0.021945</td>\n",
       "      <td>0.027936</td>\n",
       "      <td>-0.106924</td>\n",
       "      <td>-0.004954</td>\n",
       "      <td>-0.005100</td>\n",
       "      <td>-0.000802</td>\n",
       "      <td>-0.087123</td>\n",
       "      <td>0.999030</td>\n",
       "      <td>0.024213</td>\n",
       "      <td>0.052482</td>\n",
       "      <td>1.000000</td>\n",
       "    </tr>\n",
       "  </tbody>\n",
       "</table>\n",
       "</div>"
      ],
      "text/plain": [
       "                        x         y  objectid    inckey  coldetkey    intkey  \\\n",
       "x                1.000000 -0.156870  0.006097  0.005974   0.005971  0.118968   \n",
       "y               -0.156870  1.000000 -0.021209 -0.024275  -0.024291 -0.114157   \n",
       "objectid         0.006097 -0.021209  1.000000  0.946298   0.945750  0.046665   \n",
       "inckey           0.005974 -0.024275  0.946298  1.000000   0.999996  0.048242   \n",
       "coldetkey        0.005971 -0.024291  0.945750  0.999996   1.000000  0.048221   \n",
       "intkey           0.118968 -0.114157  0.046665  0.048242   0.048221  1.000000   \n",
       "personcount      0.019297 -0.029718 -0.066049 -0.066847  -0.066780  0.005021   \n",
       "pedcount         0.012184  0.008646  0.022177  0.022433   0.022434 -0.001154   \n",
       "pedcylcount     -0.001617  0.023371  0.028332  0.024927   0.024884 -0.000077   \n",
       "vehcount         0.005715 -0.016361 -0.103238 -0.113732  -0.113789 -0.005857   \n",
       "injuries         0.014716  0.001787 -0.005827 -0.005392  -0.005386  0.012299   \n",
       "seriousinjuries -0.005209 -0.002374 -0.004250 -0.004071  -0.004056  0.010428   \n",
       "fatalities       0.000512 -0.004600 -0.001852  0.000198   0.000207  0.013781   \n",
       "sdot_colcode     0.018278 -0.026091 -0.085247 -0.075677  -0.075503  0.006969   \n",
       "sdotcolnum      -0.004937 -0.007234  0.970435  0.990963   0.990963  0.031020   \n",
       "seglanekey      -0.000422  0.003643  0.024506  0.015970   0.015857 -0.009804   \n",
       "crosswalkkey     0.013911  0.007005  0.052654  0.044510   0.044391  0.019959   \n",
       "year             0.006010 -0.023129  0.957430  0.974854   0.974404  0.049643   \n",
       "\n",
       "                 personcount  pedcount  pedcylcount  vehcount  injuries  \\\n",
       "x                   0.019297  0.012184    -0.001617  0.005715  0.014716   \n",
       "y                  -0.029718  0.008646     0.023371 -0.016361  0.001787   \n",
       "objectid           -0.066049  0.022177     0.028332 -0.103238 -0.005827   \n",
       "inckey             -0.066847  0.022433     0.024927 -0.113732 -0.005392   \n",
       "coldetkey          -0.066780  0.022434     0.024884 -0.113789 -0.005386   \n",
       "intkey              0.005021 -0.001154    -0.000077 -0.005857  0.012299   \n",
       "personcount         1.000000  0.011393    -0.009413  0.558034  0.319277   \n",
       "pedcount            0.011393  1.000000    -0.015869 -0.155148  0.167390   \n",
       "pedcylcount        -0.009413 -0.015869     1.000000 -0.151474  0.122465   \n",
       "vehcount            0.558034 -0.155148    -0.151474  1.000000  0.142788   \n",
       "injuries            0.319277  0.167390     0.122465  0.142788  1.000000   \n",
       "seriousinjuries     0.107682  0.132441     0.061832 -0.003102  0.280029   \n",
       "fatalities          0.046406  0.073218     0.011112 -0.010611  0.067357   \n",
       "sdot_colcode        0.008607  0.261012     0.369043 -0.078438  0.138865   \n",
       "sdotcolnum          0.010687  0.021195     0.031468 -0.016652 -0.002376   \n",
       "seglanekey         -0.008452  0.001275     0.456361 -0.076085  0.059638   \n",
       "crosswalkkey       -0.010482  0.553713     0.104026 -0.121884  0.100844   \n",
       "year               -0.066853  0.021945     0.027936 -0.106924 -0.004954   \n",
       "\n",
       "                 seriousinjuries  fatalities  sdot_colcode  sdotcolnum  \\\n",
       "x                      -0.005209    0.000512      0.018278   -0.004937   \n",
       "y                      -0.002374   -0.004600     -0.026091   -0.007234   \n",
       "objectid               -0.004250   -0.001852     -0.085247    0.970435   \n",
       "inckey                 -0.004071    0.000198     -0.075677    0.990963   \n",
       "coldetkey              -0.004056    0.000207     -0.075503    0.990963   \n",
       "intkey                  0.010428    0.013781      0.006969    0.031020   \n",
       "personcount             0.107682    0.046406      0.008607    0.010687   \n",
       "pedcount                0.132441    0.073218      0.261012    0.021195   \n",
       "pedcylcount             0.061832    0.011112      0.369043    0.031468   \n",
       "vehcount               -0.003102   -0.010611     -0.078438   -0.016652   \n",
       "injuries                0.280029    0.067357      0.138865   -0.002376   \n",
       "seriousinjuries         1.000000    0.173762      0.086333   -0.004140   \n",
       "fatalities              0.173762    1.000000      0.045839   -0.005555   \n",
       "sdot_colcode            0.086333    0.045839      1.000000   -0.088741   \n",
       "sdotcolnum             -0.004140   -0.005555     -0.088741    1.000000   \n",
       "seglanekey              0.031572    0.005125      0.202839    0.063097   \n",
       "crosswalkkey            0.055873    0.032695      0.187772    0.085380   \n",
       "year                   -0.005100   -0.000802     -0.087123    0.999030   \n",
       "\n",
       "                 seglanekey  crosswalkkey      year  \n",
       "x                 -0.000422      0.013911  0.006010  \n",
       "y                  0.003643      0.007005 -0.023129  \n",
       "objectid           0.024506      0.052654  0.957430  \n",
       "inckey             0.015970      0.044510  0.974854  \n",
       "coldetkey          0.015857      0.044391  0.974404  \n",
       "intkey            -0.009804      0.019959  0.049643  \n",
       "personcount       -0.008452     -0.010482 -0.066853  \n",
       "pedcount           0.001275      0.553713  0.021945  \n",
       "pedcylcount        0.456361      0.104026  0.027936  \n",
       "vehcount          -0.076085     -0.121884 -0.106924  \n",
       "injuries           0.059638      0.100844 -0.004954  \n",
       "seriousinjuries    0.031572      0.055873 -0.005100  \n",
       "fatalities         0.005125      0.032695 -0.000802  \n",
       "sdot_colcode       0.202839      0.187772 -0.087123  \n",
       "sdotcolnum         0.063097      0.085380  0.999030  \n",
       "seglanekey         1.000000     -0.003585  0.024213  \n",
       "crosswalkkey      -0.003585      1.000000  0.052482  \n",
       "year               0.024213      0.052482  1.000000  "
      ]
     },
     "execution_count": 42,
     "metadata": {},
     "output_type": "execute_result"
    }
   ],
   "source": [
    "df.corr()"
   ]
  },
  {
   "cell_type": "markdown",
   "metadata": {},
   "source": [
    "## d. Statistical significance\n",
    "\n",
    "To be done"
   ]
  },
  {
   "cell_type": "markdown",
   "metadata": {},
   "source": [
    "## e. Simple feature engineering??\n",
    "\n",
    "Maybe this was already covered... \n"
   ]
  }
 ],
 "metadata": {
  "kernelspec": {
   "display_name": "Python 3",
   "language": "python",
   "name": "python3"
  },
  "language_info": {
   "codemirror_mode": {
    "name": "ipython",
    "version": 3
   },
   "file_extension": ".py",
   "mimetype": "text/x-python",
   "name": "python",
   "nbconvert_exporter": "python",
   "pygments_lexer": "ipython3",
   "version": "3.7.7"
  }
 },
 "nbformat": 4,
 "nbformat_minor": 4
}
