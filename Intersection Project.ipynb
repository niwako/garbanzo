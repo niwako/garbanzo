{
 "cells": [
  {
   "cell_type": "code",
   "execution_count": 1,
   "metadata": {
    "colab": {},
    "colab_type": "code",
    "id": "sFG7fxc7tGes"
   },
   "outputs": [],
   "source": [
    "import numpy as np\n",
    "import pandas as pd\n",
    "import pandas_profiling\n",
    "import seaborn as sns\n",
    "import scipy.stats as scs\n",
    "import statsmodels.api as sm\n",
    "import statsmodels.formula.api as smf\n",
    "import matplotlib.pyplot as plt\n",
    "import sqlite3\n",
    "# import stats\n",
    "from sklearn.cluster import KMeans\n",
    "\n",
    "pd.options.display.max_rows = 1000\n",
    "pd.options.display.max_columns = 100\n",
    "\n",
    "%load_ext sql\n",
    "# %config InlineBackend.figure_formats = ['svg']\n",
    "from IPython.display import GeoJSON"
   ]
  },
  {
   "cell_type": "code",
   "execution_count": 2,
   "metadata": {},
   "outputs": [
    {
     "data": {
      "text/html": [
       "<div>\n",
       "<style scoped>\n",
       "    .dataframe tbody tr th:only-of-type {\n",
       "        vertical-align: middle;\n",
       "    }\n",
       "\n",
       "    .dataframe tbody tr th {\n",
       "        vertical-align: top;\n",
       "    }\n",
       "\n",
       "    .dataframe thead th {\n",
       "        text-align: right;\n",
       "    }\n",
       "</style>\n",
       "<table border=\"1\" class=\"dataframe\">\n",
       "  <thead>\n",
       "    <tr style=\"text-align: right;\">\n",
       "      <th></th>\n",
       "      <th>X</th>\n",
       "      <th>Y</th>\n",
       "      <th>OBJECTID</th>\n",
       "      <th>INCKEY</th>\n",
       "      <th>COLDETKEY</th>\n",
       "      <th>REPORTNO</th>\n",
       "      <th>STATUS</th>\n",
       "      <th>ADDRTYPE</th>\n",
       "      <th>INTKEY</th>\n",
       "      <th>LOCATION</th>\n",
       "      <th>EXCEPTRSNCODE</th>\n",
       "      <th>EXCEPTRSNDESC</th>\n",
       "      <th>SEVERITYCODE</th>\n",
       "      <th>SEVERITYDESC</th>\n",
       "      <th>COLLISIONTYPE</th>\n",
       "      <th>PERSONCOUNT</th>\n",
       "      <th>PEDCOUNT</th>\n",
       "      <th>PEDCYLCOUNT</th>\n",
       "      <th>VEHCOUNT</th>\n",
       "      <th>INJURIES</th>\n",
       "      <th>SERIOUSINJURIES</th>\n",
       "      <th>FATALITIES</th>\n",
       "      <th>INCDATE</th>\n",
       "      <th>INCDTTM</th>\n",
       "      <th>JUNCTIONTYPE</th>\n",
       "      <th>SDOT_COLCODE</th>\n",
       "      <th>SDOT_COLDESC</th>\n",
       "      <th>INATTENTIONIND</th>\n",
       "      <th>UNDERINFL</th>\n",
       "      <th>WEATHER</th>\n",
       "      <th>ROADCOND</th>\n",
       "      <th>LIGHTCOND</th>\n",
       "      <th>PEDROWNOTGRNT</th>\n",
       "      <th>SDOTCOLNUM</th>\n",
       "      <th>SPEEDING</th>\n",
       "      <th>ST_COLCODE</th>\n",
       "      <th>ST_COLDESC</th>\n",
       "      <th>SEGLANEKEY</th>\n",
       "      <th>CROSSWALKKEY</th>\n",
       "      <th>HITPARKEDCAR</th>\n",
       "    </tr>\n",
       "  </thead>\n",
       "  <tbody>\n",
       "    <tr>\n",
       "      <th>0</th>\n",
       "      <td>-122.263950</td>\n",
       "      <td>47.506127</td>\n",
       "      <td>2001</td>\n",
       "      <td>328656</td>\n",
       "      <td>330156</td>\n",
       "      <td>3857179</td>\n",
       "      <td>Unmatched</td>\n",
       "      <td>Block</td>\n",
       "      <td>NaN</td>\n",
       "      <td>S BANGOR ST BETWEEN 55TH AVE S AND 56TH AVE S</td>\n",
       "      <td></td>\n",
       "      <td>NaN</td>\n",
       "      <td>2</td>\n",
       "      <td>Injury Collision</td>\n",
       "      <td>NaN</td>\n",
       "      <td>2</td>\n",
       "      <td>0</td>\n",
       "      <td>0</td>\n",
       "      <td>0</td>\n",
       "      <td>1</td>\n",
       "      <td>0</td>\n",
       "      <td>0</td>\n",
       "      <td>2020-02-08T00:00:00.000Z</td>\n",
       "      <td>2020-02-08</td>\n",
       "      <td>Mid-Block (not related to intersection)</td>\n",
       "      <td>11.0</td>\n",
       "      <td>MOTOR VEHICLE STRUCK MOTOR VEHICLE, FRONT END ...</td>\n",
       "      <td>NaN</td>\n",
       "      <td>NaN</td>\n",
       "      <td>NaN</td>\n",
       "      <td>NaN</td>\n",
       "      <td>NaN</td>\n",
       "      <td>NaN</td>\n",
       "      <td>NaN</td>\n",
       "      <td>NaN</td>\n",
       "      <td></td>\n",
       "      <td>NaN</td>\n",
       "      <td>0</td>\n",
       "      <td>0</td>\n",
       "      <td>Y</td>\n",
       "    </tr>\n",
       "    <tr>\n",
       "      <th>1</th>\n",
       "      <td>-122.386116</td>\n",
       "      <td>47.561089</td>\n",
       "      <td>2002</td>\n",
       "      <td>328162</td>\n",
       "      <td>329662</td>\n",
       "      <td>3856099</td>\n",
       "      <td>Unmatched</td>\n",
       "      <td>Block</td>\n",
       "      <td>NaN</td>\n",
       "      <td>SW ALASKA ST BETWEEN 42ND AVE SW AND CALIFORNI...</td>\n",
       "      <td></td>\n",
       "      <td>NaN</td>\n",
       "      <td>1</td>\n",
       "      <td>Property Damage Only Collision</td>\n",
       "      <td>NaN</td>\n",
       "      <td>2</td>\n",
       "      <td>0</td>\n",
       "      <td>0</td>\n",
       "      <td>0</td>\n",
       "      <td>0</td>\n",
       "      <td>0</td>\n",
       "      <td>0</td>\n",
       "      <td>2020-01-21T00:00:00.000Z</td>\n",
       "      <td>2020-01-21</td>\n",
       "      <td>Mid-Block (not related to intersection)</td>\n",
       "      <td>16.0</td>\n",
       "      <td>MOTOR VEHICLE STRUCK MOTOR VEHICLE, LEFT SIDE ...</td>\n",
       "      <td>NaN</td>\n",
       "      <td>NaN</td>\n",
       "      <td>NaN</td>\n",
       "      <td>NaN</td>\n",
       "      <td>NaN</td>\n",
       "      <td>NaN</td>\n",
       "      <td>NaN</td>\n",
       "      <td>NaN</td>\n",
       "      <td></td>\n",
       "      <td>NaN</td>\n",
       "      <td>0</td>\n",
       "      <td>0</td>\n",
       "      <td>N</td>\n",
       "    </tr>\n",
       "    <tr>\n",
       "      <th>2</th>\n",
       "      <td>-122.351134</td>\n",
       "      <td>47.570942</td>\n",
       "      <td>2003</td>\n",
       "      <td>327702</td>\n",
       "      <td>329202</td>\n",
       "      <td>3856190</td>\n",
       "      <td>Unmatched</td>\n",
       "      <td>Block</td>\n",
       "      <td>NaN</td>\n",
       "      <td>WEST SEATTLE BR EB BETWEEN ALASKAN WY VI NB ON...</td>\n",
       "      <td></td>\n",
       "      <td>NaN</td>\n",
       "      <td>1</td>\n",
       "      <td>Property Damage Only Collision</td>\n",
       "      <td>NaN</td>\n",
       "      <td>1</td>\n",
       "      <td>0</td>\n",
       "      <td>0</td>\n",
       "      <td>0</td>\n",
       "      <td>0</td>\n",
       "      <td>0</td>\n",
       "      <td>0</td>\n",
       "      <td>2020-01-10T00:00:00.000Z</td>\n",
       "      <td>2020-01-10</td>\n",
       "      <td>Mid-Block (not related to intersection)</td>\n",
       "      <td>26.0</td>\n",
       "      <td>MOTOR VEHICLE STRUCK OBJECT IN ROAD</td>\n",
       "      <td>NaN</td>\n",
       "      <td>NaN</td>\n",
       "      <td>NaN</td>\n",
       "      <td>NaN</td>\n",
       "      <td>NaN</td>\n",
       "      <td>NaN</td>\n",
       "      <td>NaN</td>\n",
       "      <td>NaN</td>\n",
       "      <td></td>\n",
       "      <td>NaN</td>\n",
       "      <td>0</td>\n",
       "      <td>0</td>\n",
       "      <td>N</td>\n",
       "    </tr>\n",
       "    <tr>\n",
       "      <th>3</th>\n",
       "      <td>-122.336648</td>\n",
       "      <td>47.613376</td>\n",
       "      <td>2004</td>\n",
       "      <td>328744</td>\n",
       "      <td>330244</td>\n",
       "      <td>EA13303</td>\n",
       "      <td>Unmatched</td>\n",
       "      <td>Block</td>\n",
       "      <td>NaN</td>\n",
       "      <td>6TH AVE BETWEEN OLIVE WAY AND STEWART ST</td>\n",
       "      <td></td>\n",
       "      <td>NaN</td>\n",
       "      <td>1</td>\n",
       "      <td>Property Damage Only Collision</td>\n",
       "      <td>NaN</td>\n",
       "      <td>4</td>\n",
       "      <td>0</td>\n",
       "      <td>0</td>\n",
       "      <td>0</td>\n",
       "      <td>0</td>\n",
       "      <td>0</td>\n",
       "      <td>0</td>\n",
       "      <td>2020-02-06T00:00:00.000Z</td>\n",
       "      <td>2020-02-06</td>\n",
       "      <td>Mid-Block (not related to intersection)</td>\n",
       "      <td>11.0</td>\n",
       "      <td>MOTOR VEHICLE STRUCK MOTOR VEHICLE, FRONT END ...</td>\n",
       "      <td>NaN</td>\n",
       "      <td>NaN</td>\n",
       "      <td>NaN</td>\n",
       "      <td>NaN</td>\n",
       "      <td>NaN</td>\n",
       "      <td>NaN</td>\n",
       "      <td>NaN</td>\n",
       "      <td>NaN</td>\n",
       "      <td></td>\n",
       "      <td>NaN</td>\n",
       "      <td>0</td>\n",
       "      <td>0</td>\n",
       "      <td>Y</td>\n",
       "    </tr>\n",
       "    <tr>\n",
       "      <th>4</th>\n",
       "      <td>-122.326715</td>\n",
       "      <td>47.661352</td>\n",
       "      <td>2005</td>\n",
       "      <td>328102</td>\n",
       "      <td>329602</td>\n",
       "      <td>EA06204</td>\n",
       "      <td>Unmatched</td>\n",
       "      <td>Block</td>\n",
       "      <td>NaN</td>\n",
       "      <td>NE 45TH ST BETWEEN 2ND AVE NE AND THACKERAY PL NE</td>\n",
       "      <td></td>\n",
       "      <td>NaN</td>\n",
       "      <td>1</td>\n",
       "      <td>Property Damage Only Collision</td>\n",
       "      <td>NaN</td>\n",
       "      <td>3</td>\n",
       "      <td>0</td>\n",
       "      <td>0</td>\n",
       "      <td>0</td>\n",
       "      <td>0</td>\n",
       "      <td>0</td>\n",
       "      <td>0</td>\n",
       "      <td>2020-01-17T00:00:00.000Z</td>\n",
       "      <td>2020-01-17</td>\n",
       "      <td>Mid-Block (but intersection related)</td>\n",
       "      <td>11.0</td>\n",
       "      <td>MOTOR VEHICLE STRUCK MOTOR VEHICLE, FRONT END ...</td>\n",
       "      <td>NaN</td>\n",
       "      <td>NaN</td>\n",
       "      <td>NaN</td>\n",
       "      <td>NaN</td>\n",
       "      <td>NaN</td>\n",
       "      <td>NaN</td>\n",
       "      <td>NaN</td>\n",
       "      <td>NaN</td>\n",
       "      <td></td>\n",
       "      <td>NaN</td>\n",
       "      <td>0</td>\n",
       "      <td>0</td>\n",
       "      <td>N</td>\n",
       "    </tr>\n",
       "  </tbody>\n",
       "</table>\n",
       "</div>"
      ],
      "text/plain": [
       "            X          Y  OBJECTID  INCKEY  COLDETKEY REPORTNO     STATUS  \\\n",
       "0 -122.263950  47.506127      2001  328656     330156  3857179  Unmatched   \n",
       "1 -122.386116  47.561089      2002  328162     329662  3856099  Unmatched   \n",
       "2 -122.351134  47.570942      2003  327702     329202  3856190  Unmatched   \n",
       "3 -122.336648  47.613376      2004  328744     330244  EA13303  Unmatched   \n",
       "4 -122.326715  47.661352      2005  328102     329602  EA06204  Unmatched   \n",
       "\n",
       "  ADDRTYPE  INTKEY                                           LOCATION  \\\n",
       "0    Block     NaN      S BANGOR ST BETWEEN 55TH AVE S AND 56TH AVE S   \n",
       "1    Block     NaN  SW ALASKA ST BETWEEN 42ND AVE SW AND CALIFORNI...   \n",
       "2    Block     NaN  WEST SEATTLE BR EB BETWEEN ALASKAN WY VI NB ON...   \n",
       "3    Block     NaN           6TH AVE BETWEEN OLIVE WAY AND STEWART ST   \n",
       "4    Block     NaN  NE 45TH ST BETWEEN 2ND AVE NE AND THACKERAY PL NE   \n",
       "\n",
       "  EXCEPTRSNCODE EXCEPTRSNDESC SEVERITYCODE                    SEVERITYDESC  \\\n",
       "0                         NaN            2                Injury Collision   \n",
       "1                         NaN            1  Property Damage Only Collision   \n",
       "2                         NaN            1  Property Damage Only Collision   \n",
       "3                         NaN            1  Property Damage Only Collision   \n",
       "4                         NaN            1  Property Damage Only Collision   \n",
       "\n",
       "  COLLISIONTYPE  PERSONCOUNT  PEDCOUNT  PEDCYLCOUNT  VEHCOUNT  INJURIES  \\\n",
       "0           NaN            2         0            0         0         1   \n",
       "1           NaN            2         0            0         0         0   \n",
       "2           NaN            1         0            0         0         0   \n",
       "3           NaN            4         0            0         0         0   \n",
       "4           NaN            3         0            0         0         0   \n",
       "\n",
       "   SERIOUSINJURIES  FATALITIES                   INCDATE    INCDTTM  \\\n",
       "0                0           0  2020-02-08T00:00:00.000Z 2020-02-08   \n",
       "1                0           0  2020-01-21T00:00:00.000Z 2020-01-21   \n",
       "2                0           0  2020-01-10T00:00:00.000Z 2020-01-10   \n",
       "3                0           0  2020-02-06T00:00:00.000Z 2020-02-06   \n",
       "4                0           0  2020-01-17T00:00:00.000Z 2020-01-17   \n",
       "\n",
       "                              JUNCTIONTYPE  SDOT_COLCODE  \\\n",
       "0  Mid-Block (not related to intersection)          11.0   \n",
       "1  Mid-Block (not related to intersection)          16.0   \n",
       "2  Mid-Block (not related to intersection)          26.0   \n",
       "3  Mid-Block (not related to intersection)          11.0   \n",
       "4     Mid-Block (but intersection related)          11.0   \n",
       "\n",
       "                                        SDOT_COLDESC INATTENTIONIND UNDERINFL  \\\n",
       "0  MOTOR VEHICLE STRUCK MOTOR VEHICLE, FRONT END ...            NaN       NaN   \n",
       "1  MOTOR VEHICLE STRUCK MOTOR VEHICLE, LEFT SIDE ...            NaN       NaN   \n",
       "2                MOTOR VEHICLE STRUCK OBJECT IN ROAD            NaN       NaN   \n",
       "3  MOTOR VEHICLE STRUCK MOTOR VEHICLE, FRONT END ...            NaN       NaN   \n",
       "4  MOTOR VEHICLE STRUCK MOTOR VEHICLE, FRONT END ...            NaN       NaN   \n",
       "\n",
       "  WEATHER ROADCOND LIGHTCOND PEDROWNOTGRNT  SDOTCOLNUM SPEEDING ST_COLCODE  \\\n",
       "0     NaN      NaN       NaN           NaN         NaN      NaN              \n",
       "1     NaN      NaN       NaN           NaN         NaN      NaN              \n",
       "2     NaN      NaN       NaN           NaN         NaN      NaN              \n",
       "3     NaN      NaN       NaN           NaN         NaN      NaN              \n",
       "4     NaN      NaN       NaN           NaN         NaN      NaN              \n",
       "\n",
       "  ST_COLDESC  SEGLANEKEY  CROSSWALKKEY HITPARKEDCAR  \n",
       "0        NaN           0             0            Y  \n",
       "1        NaN           0             0            N  \n",
       "2        NaN           0             0            N  \n",
       "3        NaN           0             0            Y  \n",
       "4        NaN           0             0            N  "
      ]
     },
     "execution_count": 2,
     "metadata": {},
     "output_type": "execute_result"
    }
   ],
   "source": [
    "df = pd.read_csv('Collisions.csv', parse_dates=['INCDTTM'])\n",
    "df.head(5)"
   ]
  },
  {
   "cell_type": "markdown",
   "metadata": {},
   "source": [
    "# Re-labeling serverity"
   ]
  },
  {
   "cell_type": "code",
   "execution_count": 3,
   "metadata": {},
   "outputs": [],
   "source": [
    "df['SEVERITYCODE'] = df['SEVERITYCODE'].map({'0': 'Unknown', '1': 'Prop_damage', '2': 'Injury', '2b': 'Serious_injury', '3': 'Fatality'})"
   ]
  },
  {
   "cell_type": "code",
   "execution_count": 4,
   "metadata": {},
   "outputs": [
    {
     "data": {
      "text/html": [
       "<div>\n",
       "<style scoped>\n",
       "    .dataframe tbody tr th:only-of-type {\n",
       "        vertical-align: middle;\n",
       "    }\n",
       "\n",
       "    .dataframe tbody tr th {\n",
       "        vertical-align: top;\n",
       "    }\n",
       "\n",
       "    .dataframe thead th {\n",
       "        text-align: right;\n",
       "    }\n",
       "</style>\n",
       "<table border=\"1\" class=\"dataframe\">\n",
       "  <thead>\n",
       "    <tr style=\"text-align: right;\">\n",
       "      <th></th>\n",
       "      <th>count</th>\n",
       "    </tr>\n",
       "    <tr>\n",
       "      <th>SEVERITYCODE</th>\n",
       "      <th></th>\n",
       "    </tr>\n",
       "  </thead>\n",
       "  <tbody>\n",
       "    <tr>\n",
       "      <th>Fatality</th>\n",
       "      <td>341</td>\n",
       "    </tr>\n",
       "    <tr>\n",
       "      <th>Injury</th>\n",
       "      <td>57756</td>\n",
       "    </tr>\n",
       "    <tr>\n",
       "      <th>Prop_damage</th>\n",
       "      <td>135545</td>\n",
       "    </tr>\n",
       "    <tr>\n",
       "      <th>Serious_injury</th>\n",
       "      <td>3029</td>\n",
       "    </tr>\n",
       "    <tr>\n",
       "      <th>Unknown</th>\n",
       "      <td>21239</td>\n",
       "    </tr>\n",
       "  </tbody>\n",
       "</table>\n",
       "</div>"
      ],
      "text/plain": [
       "                 count\n",
       "SEVERITYCODE          \n",
       "Fatality           341\n",
       "Injury           57756\n",
       "Prop_damage     135545\n",
       "Serious_injury    3029\n",
       "Unknown          21239"
      ]
     },
     "execution_count": 4,
     "metadata": {},
     "output_type": "execute_result"
    }
   ],
   "source": [
    "df.groupby(['SEVERITYCODE']).size().to_frame('count')"
   ]
  },
  {
   "cell_type": "markdown",
   "metadata": {},
   "source": [
    "# Overview of the dataset"
   ]
  },
  {
   "cell_type": "code",
   "execution_count": 5,
   "metadata": {},
   "outputs": [
    {
     "data": {
      "text/plain": [
       "(217911, 40)"
      ]
     },
     "execution_count": 5,
     "metadata": {},
     "output_type": "execute_result"
    }
   ],
   "source": [
    "df.shape"
   ]
  },
  {
   "cell_type": "code",
   "execution_count": 6,
   "metadata": {},
   "outputs": [
    {
     "data": {
      "text/plain": [
       "X                         float64\n",
       "Y                         float64\n",
       "OBJECTID                    int64\n",
       "INCKEY                      int64\n",
       "COLDETKEY                   int64\n",
       "REPORTNO                   object\n",
       "STATUS                     object\n",
       "ADDRTYPE                   object\n",
       "INTKEY                    float64\n",
       "LOCATION                   object\n",
       "EXCEPTRSNCODE              object\n",
       "EXCEPTRSNDESC              object\n",
       "SEVERITYCODE               object\n",
       "SEVERITYDESC               object\n",
       "COLLISIONTYPE              object\n",
       "PERSONCOUNT                 int64\n",
       "PEDCOUNT                    int64\n",
       "PEDCYLCOUNT                 int64\n",
       "VEHCOUNT                    int64\n",
       "INJURIES                    int64\n",
       "SERIOUSINJURIES             int64\n",
       "FATALITIES                  int64\n",
       "INCDATE                    object\n",
       "INCDTTM            datetime64[ns]\n",
       "JUNCTIONTYPE               object\n",
       "SDOT_COLCODE              float64\n",
       "SDOT_COLDESC               object\n",
       "INATTENTIONIND             object\n",
       "UNDERINFL                  object\n",
       "WEATHER                    object\n",
       "ROADCOND                   object\n",
       "LIGHTCOND                  object\n",
       "PEDROWNOTGRNT              object\n",
       "SDOTCOLNUM                float64\n",
       "SPEEDING                   object\n",
       "ST_COLCODE                 object\n",
       "ST_COLDESC                 object\n",
       "SEGLANEKEY                  int64\n",
       "CROSSWALKKEY                int64\n",
       "HITPARKEDCAR               object\n",
       "dtype: object"
      ]
     },
     "execution_count": 6,
     "metadata": {},
     "output_type": "execute_result"
    }
   ],
   "source": [
    "df.dtypes"
   ]
  },
  {
   "cell_type": "code",
   "execution_count": 7,
   "metadata": {},
   "outputs": [
    {
     "data": {
      "text/plain": [
       "Index(['X', 'Y', 'OBJECTID', 'INCKEY', 'COLDETKEY', 'REPORTNO', 'STATUS',\n",
       "       'ADDRTYPE', 'INTKEY', 'LOCATION', 'EXCEPTRSNCODE', 'EXCEPTRSNDESC',\n",
       "       'SEVERITYCODE', 'SEVERITYDESC', 'COLLISIONTYPE', 'PERSONCOUNT',\n",
       "       'PEDCOUNT', 'PEDCYLCOUNT', 'VEHCOUNT', 'INJURIES', 'SERIOUSINJURIES',\n",
       "       'FATALITIES', 'INCDATE', 'INCDTTM', 'JUNCTIONTYPE', 'SDOT_COLCODE',\n",
       "       'SDOT_COLDESC', 'INATTENTIONIND', 'UNDERINFL', 'WEATHER', 'ROADCOND',\n",
       "       'LIGHTCOND', 'PEDROWNOTGRNT', 'SDOTCOLNUM', 'SPEEDING', 'ST_COLCODE',\n",
       "       'ST_COLDESC', 'SEGLANEKEY', 'CROSSWALKKEY', 'HITPARKEDCAR'],\n",
       "      dtype='object')"
      ]
     },
     "execution_count": 7,
     "metadata": {},
     "output_type": "execute_result"
    }
   ],
   "source": [
    "df.columns"
   ]
  },
  {
   "cell_type": "markdown",
   "metadata": {},
   "source": [
    "# Take a look at some of the categorial columns"
   ]
  },
  {
   "cell_type": "code",
   "execution_count": 8,
   "metadata": {},
   "outputs": [],
   "source": [
    "df['year'] = pd.DatetimeIndex(df.INCDTTM).year"
   ]
  },
  {
   "cell_type": "code",
   "execution_count": 39,
   "metadata": {},
   "outputs": [
    {
     "data": {
      "text/html": [
       "<div>\n",
       "<style scoped>\n",
       "    .dataframe tbody tr th:only-of-type {\n",
       "        vertical-align: middle;\n",
       "    }\n",
       "\n",
       "    .dataframe tbody tr th {\n",
       "        vertical-align: top;\n",
       "    }\n",
       "\n",
       "    .dataframe thead th {\n",
       "        text-align: right;\n",
       "    }\n",
       "</style>\n",
       "<table border=\"1\" class=\"dataframe\">\n",
       "  <thead>\n",
       "    <tr style=\"text-align: right;\">\n",
       "      <th></th>\n",
       "      <th>year</th>\n",
       "      <th>INCKEY</th>\n",
       "    </tr>\n",
       "  </thead>\n",
       "  <tbody>\n",
       "    <tr>\n",
       "      <th>1</th>\n",
       "      <td>2004</td>\n",
       "      <td>15457</td>\n",
       "    </tr>\n",
       "    <tr>\n",
       "      <th>2</th>\n",
       "      <td>2005</td>\n",
       "      <td>16016</td>\n",
       "    </tr>\n",
       "    <tr>\n",
       "      <th>3</th>\n",
       "      <td>2006</td>\n",
       "      <td>15794</td>\n",
       "    </tr>\n",
       "    <tr>\n",
       "      <th>4</th>\n",
       "      <td>2007</td>\n",
       "      <td>15082</td>\n",
       "    </tr>\n",
       "    <tr>\n",
       "      <th>5</th>\n",
       "      <td>2008</td>\n",
       "      <td>14139</td>\n",
       "    </tr>\n",
       "    <tr>\n",
       "      <th>6</th>\n",
       "      <td>2009</td>\n",
       "      <td>13275</td>\n",
       "    </tr>\n",
       "    <tr>\n",
       "      <th>7</th>\n",
       "      <td>2010</td>\n",
       "      <td>11958</td>\n",
       "    </tr>\n",
       "    <tr>\n",
       "      <th>8</th>\n",
       "      <td>2011</td>\n",
       "      <td>12416</td>\n",
       "    </tr>\n",
       "    <tr>\n",
       "      <th>9</th>\n",
       "      <td>2012</td>\n",
       "      <td>12732</td>\n",
       "    </tr>\n",
       "    <tr>\n",
       "      <th>10</th>\n",
       "      <td>2013</td>\n",
       "      <td>12757</td>\n",
       "    </tr>\n",
       "    <tr>\n",
       "      <th>11</th>\n",
       "      <td>2014</td>\n",
       "      <td>13212</td>\n",
       "    </tr>\n",
       "    <tr>\n",
       "      <th>12</th>\n",
       "      <td>2015</td>\n",
       "      <td>14260</td>\n",
       "    </tr>\n",
       "    <tr>\n",
       "      <th>13</th>\n",
       "      <td>2016</td>\n",
       "      <td>13901</td>\n",
       "    </tr>\n",
       "    <tr>\n",
       "      <th>14</th>\n",
       "      <td>2017</td>\n",
       "      <td>12477</td>\n",
       "    </tr>\n",
       "    <tr>\n",
       "      <th>15</th>\n",
       "      <td>2018</td>\n",
       "      <td>12197</td>\n",
       "    </tr>\n",
       "    <tr>\n",
       "      <th>16</th>\n",
       "      <td>2019</td>\n",
       "      <td>11020</td>\n",
       "    </tr>\n",
       "    <tr>\n",
       "      <th>17</th>\n",
       "      <td>2020</td>\n",
       "      <td>1217</td>\n",
       "    </tr>\n",
       "  </tbody>\n",
       "</table>\n",
       "</div>"
      ],
      "text/plain": [
       "    year  INCKEY\n",
       "1   2004   15457\n",
       "2   2005   16016\n",
       "3   2006   15794\n",
       "4   2007   15082\n",
       "5   2008   14139\n",
       "6   2009   13275\n",
       "7   2010   11958\n",
       "8   2011   12416\n",
       "9   2012   12732\n",
       "10  2013   12757\n",
       "11  2014   13212\n",
       "12  2015   14260\n",
       "13  2016   13901\n",
       "14  2017   12477\n",
       "15  2018   12197\n",
       "16  2019   11020\n",
       "17  2020    1217"
      ]
     },
     "execution_count": 39,
     "metadata": {},
     "output_type": "execute_result"
    }
   ],
   "source": [
    "yeardf = df.groupby('year').year.size().to_frame('INCKEY').reset_index()\n",
    "yeardf = yeardf[yeardf.INCKEY > 1]\n",
    "#I dropped year 2003 which only had 1 incident in the dataset\n",
    "yeardf.head(20)"
   ]
  },
  {
   "cell_type": "code",
   "execution_count": 40,
   "metadata": {},
   "outputs": [
    {
     "data": {
      "text/plain": [
       "<matplotlib.axes._subplots.AxesSubplot at 0x128f72a10>"
      ]
     },
     "execution_count": 40,
     "metadata": {},
     "output_type": "execute_result"
    },
    {
     "data": {
      "image/png": "[encoded data removed]",
      "text/plain": [
       "<Figure size 720x576 with 1 Axes>"
      ]
     },
     "metadata": {},
     "output_type": "display_data"
    }
   ],
   "source": [
    "yeardf = yeardf[(yeardf['year'] < 2020)]\n",
    "fig = plt.figure(figsize=(10, 8))\n",
    "sns.lineplot(x=\"year\", y=\"INCKEY\", data=yeardf)\n"
   ]
  },
  {
   "cell_type": "code",
   "execution_count": 10,
   "metadata": {},
   "outputs": [
    {
     "data": {
      "text/plain": [
       "REPORTNO          217908\n",
       "STATUS                 2\n",
       "ADDRTYPE               3\n",
       "LOCATION           25051\n",
       "EXCEPTRSNCODE          2\n",
       "EXCEPTRSNDESC          1\n",
       "SEVERITYCODE           5\n",
       "SEVERITYDESC           5\n",
       "COLLISIONTYPE         10\n",
       "INCDATE             5901\n",
       "INCDTTM           165392\n",
       "JUNCTIONTYPE           7\n",
       "SDOT_COLDESC          39\n",
       "INATTENTIONIND         1\n",
       "UNDERINFL              4\n",
       "WEATHER               10\n",
       "ROADCOND               9\n",
       "LIGHTCOND              8\n",
       "PEDROWNOTGRNT          1\n",
       "SPEEDING               1\n",
       "ST_COLCODE            63\n",
       "ST_COLDESC            62\n",
       "HITPARKEDCAR           2\n",
       "dtype: int64"
      ]
     },
     "execution_count": 10,
     "metadata": {},
     "output_type": "execute_result"
    }
   ],
   "source": [
    "df[['REPORTNO', 'STATUS',\n",
    "       'ADDRTYPE', 'LOCATION', 'EXCEPTRSNCODE', 'EXCEPTRSNDESC',\n",
    "       'SEVERITYCODE', 'SEVERITYDESC', 'COLLISIONTYPE', \n",
    "       'INCDATE', 'INCDTTM', 'JUNCTIONTYPE', 'SDOT_COLDESC', 'INATTENTIONIND', 'UNDERINFL', 'WEATHER', 'ROADCOND',\n",
    "       'LIGHTCOND', 'PEDROWNOTGRNT', 'SPEEDING', 'ST_COLCODE',\n",
    "       'ST_COLDESC', 'HITPARKEDCAR']].nunique()"
   ]
  },
  {
   "cell_type": "code",
   "execution_count": 11,
   "metadata": {},
   "outputs": [
    {
     "data": {
      "text/plain": [
       "['Unmatched', 'Matched']"
      ]
     },
     "execution_count": 11,
     "metadata": {},
     "output_type": "execute_result"
    }
   ],
   "source": [
    "status = list(df['STATUS'].unique())\n",
    "status"
   ]
  },
  {
   "cell_type": "markdown",
   "metadata": {},
   "source": [
    "Note: Not sure what 'matched' means"
   ]
  },
  {
   "cell_type": "code",
   "execution_count": 12,
   "metadata": {},
   "outputs": [
    {
     "data": {
      "text/plain": [
       "['Block', 'Intersection', 'Alley', nan]"
      ]
     },
     "execution_count": 12,
     "metadata": {},
     "output_type": "execute_result"
    }
   ],
   "source": [
    "addrtype = list(df['ADDRTYPE'].unique())\n",
    "addrtype"
   ]
  },
  {
   "cell_type": "code",
   "execution_count": 13,
   "metadata": {},
   "outputs": [
    {
     "data": {
      "text/plain": [
       "['S BANGOR ST BETWEEN 55TH AVE S AND 56TH AVE S',\n",
       " 'SW ALASKA ST BETWEEN 42ND AVE SW AND CALIFORNIA AVE SW',\n",
       " 'WEST SEATTLE BR EB BETWEEN ALASKAN WY VI NB ON RP AND DELRIDGE-W SEATTLE BR EB ON RP',\n",
       " '6TH AVE BETWEEN OLIVE WAY AND STEWART ST',\n",
       " 'NE 45TH ST BETWEEN 2ND AVE NE AND THACKERAY PL NE',\n",
       " '6TH AVE AND DENNY WAY',\n",
       " '39TH AVE S BETWEEN S OTHELLO ST AND S HOLLY PARK DR',\n",
       " '22ND AVE NW AND SHILSHOLE AVE NW',\n",
       " 'FAIRVIEW AVE N AND MERCER ST',\n",
       " '9TH AVE BETWEEN SPRING ST AND SENECA ST']"
      ]
     },
     "execution_count": 13,
     "metadata": {},
     "output_type": "execute_result"
    }
   ],
   "source": [
    "location = list(df['LOCATION'].unique())\n",
    "location[:10]"
   ]
  },
  {
   "cell_type": "code",
   "execution_count": 14,
   "metadata": {},
   "outputs": [
    {
     "data": {
      "text/plain": [
       "[nan,\n",
       " 'Rear Ended',\n",
       " 'Sideswipe',\n",
       " 'Parked Car',\n",
       " 'Angles',\n",
       " 'Other',\n",
       " 'Cycles',\n",
       " 'Left Turn',\n",
       " 'Pedestrian',\n",
       " 'Right Turn',\n",
       " 'Head On']"
      ]
     },
     "execution_count": 14,
     "metadata": {},
     "output_type": "execute_result"
    }
   ],
   "source": [
    "collisiontype = list(df['COLLISIONTYPE'].unique())\n",
    "collisiontype"
   ]
  },
  {
   "cell_type": "code",
   "execution_count": 15,
   "metadata": {},
   "outputs": [
    {
     "data": {
      "text/plain": [
       "['Mid-Block (not related to intersection)',\n",
       " 'Mid-Block (but intersection related)',\n",
       " 'At Intersection (intersection related)',\n",
       " nan,\n",
       " 'Driveway Junction',\n",
       " 'At Intersection (but not related to intersection)',\n",
       " 'Ramp Junction',\n",
       " 'Unknown']"
      ]
     },
     "execution_count": 15,
     "metadata": {},
     "output_type": "execute_result"
    }
   ],
   "source": [
    "junctiontype = list(df['JUNCTIONTYPE'].unique())\n",
    "junctiontype"
   ]
  },
  {
   "cell_type": "code",
   "execution_count": 16,
   "metadata": {},
   "outputs": [
    {
     "data": {
      "text/html": [
       "<div>\n",
       "<style scoped>\n",
       "    .dataframe tbody tr th:only-of-type {\n",
       "        vertical-align: middle;\n",
       "    }\n",
       "\n",
       "    .dataframe tbody tr th {\n",
       "        vertical-align: top;\n",
       "    }\n",
       "\n",
       "    .dataframe thead th {\n",
       "        text-align: right;\n",
       "    }\n",
       "</style>\n",
       "<table border=\"1\" class=\"dataframe\">\n",
       "  <thead>\n",
       "    <tr style=\"text-align: right;\">\n",
       "      <th></th>\n",
       "      <th>ADDRTYPE</th>\n",
       "      <th>INCKEY</th>\n",
       "    </tr>\n",
       "  </thead>\n",
       "  <tbody>\n",
       "    <tr>\n",
       "      <th>0</th>\n",
       "      <td>Alley</td>\n",
       "      <td>856</td>\n",
       "    </tr>\n",
       "    <tr>\n",
       "      <th>1</th>\n",
       "      <td>Block</td>\n",
       "      <td>142758</td>\n",
       "    </tr>\n",
       "    <tr>\n",
       "      <th>2</th>\n",
       "      <td>Intersection</td>\n",
       "      <td>70621</td>\n",
       "    </tr>\n",
       "  </tbody>\n",
       "</table>\n",
       "</div>"
      ],
      "text/plain": [
       "       ADDRTYPE  INCKEY\n",
       "0         Alley     856\n",
       "1         Block  142758\n",
       "2  Intersection   70621"
      ]
     },
     "execution_count": 16,
     "metadata": {},
     "output_type": "execute_result"
    }
   ],
   "source": [
    "adddf = df.groupby('ADDRTYPE').size().to_frame('INCKEY').reset_index()\n",
    "adddf.head()"
   ]
  },
  {
   "cell_type": "markdown",
   "metadata": {},
   "source": [
    "# Incidents by type of location"
   ]
  },
  {
   "cell_type": "code",
   "execution_count": 17,
   "metadata": {},
   "outputs": [
    {
     "data": {
      "image/png": "[encoded data removed]",
      "text/plain": [
       "<Figure size 720x360 with 1 Axes>"
      ]
     },
     "metadata": {},
     "output_type": "display_data"
    }
   ],
   "source": [
    "fig = plt.figure(figsize=(10, 5))\n",
    "\n",
    "chart = sns.barplot(data= adddf, x= 'ADDRTYPE', y= 'INCKEY')\n",
    "\n",
    "plt.tight_layout()"
   ]
  },
  {
   "cell_type": "markdown",
   "metadata": {},
   "source": [
    "# Incidents by type of collision"
   ]
  },
  {
   "cell_type": "code",
   "execution_count": 18,
   "metadata": {},
   "outputs": [
    {
     "data": {
      "text/html": [
       "<div>\n",
       "<style scoped>\n",
       "    .dataframe tbody tr th:only-of-type {\n",
       "        vertical-align: middle;\n",
       "    }\n",
       "\n",
       "    .dataframe tbody tr th {\n",
       "        vertical-align: top;\n",
       "    }\n",
       "\n",
       "    .dataframe thead th {\n",
       "        text-align: right;\n",
       "    }\n",
       "</style>\n",
       "<table border=\"1\" class=\"dataframe\">\n",
       "  <thead>\n",
       "    <tr style=\"text-align: right;\">\n",
       "      <th></th>\n",
       "      <th>COLLISIONTYPE</th>\n",
       "      <th>INCKEY</th>\n",
       "    </tr>\n",
       "  </thead>\n",
       "  <tbody>\n",
       "    <tr>\n",
       "      <th>0</th>\n",
       "      <td>Angles</td>\n",
       "      <td>34664</td>\n",
       "    </tr>\n",
       "    <tr>\n",
       "      <th>1</th>\n",
       "      <td>Cycles</td>\n",
       "      <td>5802</td>\n",
       "    </tr>\n",
       "    <tr>\n",
       "      <th>2</th>\n",
       "      <td>Head On</td>\n",
       "      <td>2122</td>\n",
       "    </tr>\n",
       "    <tr>\n",
       "      <th>3</th>\n",
       "      <td>Left Turn</td>\n",
       "      <td>13837</td>\n",
       "    </tr>\n",
       "    <tr>\n",
       "      <th>4</th>\n",
       "      <td>Other</td>\n",
       "      <td>24027</td>\n",
       "    </tr>\n",
       "  </tbody>\n",
       "</table>\n",
       "</div>"
      ],
      "text/plain": [
       "  COLLISIONTYPE  INCKEY\n",
       "0        Angles   34664\n",
       "1        Cycles    5802\n",
       "2       Head On    2122\n",
       "3     Left Turn   13837\n",
       "4         Other   24027"
      ]
     },
     "execution_count": 18,
     "metadata": {},
     "output_type": "execute_result"
    }
   ],
   "source": [
    "colldf = df.groupby('COLLISIONTYPE').size().to_frame('INCKEY').reset_index()\n",
    "colldf.head()"
   ]
  },
  {
   "cell_type": "code",
   "execution_count": 19,
   "metadata": {},
   "outputs": [
    {
     "data": {
      "image/png": "[encoded data removed]",
      "text/plain": [
       "<Figure size 720x360 with 1 Axes>"
      ]
     },
     "metadata": {},
     "output_type": "display_data"
    }
   ],
   "source": [
    "fig = plt.figure(figsize=(10, 5))\n",
    "\n",
    "chart = sns.barplot(data= colldf, x= 'COLLISIONTYPE', y= 'INCKEY')\n",
    "\n",
    "plt.tight_layout()"
   ]
  },
  {
   "cell_type": "markdown",
   "metadata": {},
   "source": [
    "# Incidents by severity"
   ]
  },
  {
   "cell_type": "code",
   "execution_count": 20,
   "metadata": {},
   "outputs": [
    {
     "data": {
      "text/html": [
       "<div>\n",
       "<style scoped>\n",
       "    .dataframe tbody tr th:only-of-type {\n",
       "        vertical-align: middle;\n",
       "    }\n",
       "\n",
       "    .dataframe tbody tr th {\n",
       "        vertical-align: top;\n",
       "    }\n",
       "\n",
       "    .dataframe thead th {\n",
       "        text-align: right;\n",
       "    }\n",
       "</style>\n",
       "<table border=\"1\" class=\"dataframe\">\n",
       "  <thead>\n",
       "    <tr style=\"text-align: right;\">\n",
       "      <th></th>\n",
       "      <th>SEVERITYCODE</th>\n",
       "      <th>Count</th>\n",
       "    </tr>\n",
       "  </thead>\n",
       "  <tbody>\n",
       "    <tr>\n",
       "      <th>0</th>\n",
       "      <td>Fatality</td>\n",
       "      <td>341</td>\n",
       "    </tr>\n",
       "    <tr>\n",
       "      <th>1</th>\n",
       "      <td>Injury</td>\n",
       "      <td>57756</td>\n",
       "    </tr>\n",
       "    <tr>\n",
       "      <th>2</th>\n",
       "      <td>Prop_damage</td>\n",
       "      <td>135545</td>\n",
       "    </tr>\n",
       "    <tr>\n",
       "      <th>3</th>\n",
       "      <td>Serious_injury</td>\n",
       "      <td>3029</td>\n",
       "    </tr>\n",
       "    <tr>\n",
       "      <th>4</th>\n",
       "      <td>Unknown</td>\n",
       "      <td>21239</td>\n",
       "    </tr>\n",
       "  </tbody>\n",
       "</table>\n",
       "</div>"
      ],
      "text/plain": [
       "     SEVERITYCODE   Count\n",
       "0        Fatality     341\n",
       "1          Injury   57756\n",
       "2     Prop_damage  135545\n",
       "3  Serious_injury    3029\n",
       "4         Unknown   21239"
      ]
     },
     "execution_count": 20,
     "metadata": {},
     "output_type": "execute_result"
    }
   ],
   "source": [
    "scdf = df.groupby('SEVERITYCODE').size().to_frame('Count').reset_index()\n",
    "scdf.head()"
   ]
  },
  {
   "cell_type": "code",
   "execution_count": 21,
   "metadata": {},
   "outputs": [
    {
     "data": {
      "image/png": "[encoded data removed]",
      "text/plain": [
       "<Figure size 720x360 with 1 Axes>"
      ]
     },
     "metadata": {},
     "output_type": "display_data"
    }
   ],
   "source": [
    "fig = plt.figure(figsize=(10, 5))\n",
    "\n",
    "chart = sns.barplot(data= scdf, x= 'SEVERITYCODE', y= 'Count')\n",
    "\n",
    "plt.tight_layout()"
   ]
  },
  {
   "cell_type": "markdown",
   "metadata": {},
   "source": [
    "Note: SEVERITYCODE and SEVERITYDESC have the same information\n"
   ]
  },
  {
   "cell_type": "markdown",
   "metadata": {},
   "source": [
    "# Severity by type of collision"
   ]
  },
  {
   "cell_type": "code",
   "execution_count": 22,
   "metadata": {},
   "outputs": [
    {
     "data": {
      "text/html": [
       "<div>\n",
       "<style scoped>\n",
       "    .dataframe tbody tr th:only-of-type {\n",
       "        vertical-align: middle;\n",
       "    }\n",
       "\n",
       "    .dataframe tbody tr th {\n",
       "        vertical-align: top;\n",
       "    }\n",
       "\n",
       "    .dataframe thead th {\n",
       "        text-align: right;\n",
       "    }\n",
       "</style>\n",
       "<table border=\"1\" class=\"dataframe\">\n",
       "  <thead>\n",
       "    <tr style=\"text-align: right;\">\n",
       "      <th>SEVERITYCODE</th>\n",
       "      <th>COLLISIONTYPE</th>\n",
       "      <th>Fatality</th>\n",
       "      <th>Injury</th>\n",
       "      <th>Prop_damage</th>\n",
       "      <th>Serious_injury</th>\n",
       "      <th>Unknown</th>\n",
       "    </tr>\n",
       "  </thead>\n",
       "  <tbody>\n",
       "    <tr>\n",
       "      <th>0</th>\n",
       "      <td>Angles</td>\n",
       "      <td>24.0</td>\n",
       "      <td>13453.0</td>\n",
       "      <td>20754.0</td>\n",
       "      <td>432.0</td>\n",
       "      <td>1.0</td>\n",
       "    </tr>\n",
       "    <tr>\n",
       "      <th>1</th>\n",
       "      <td>Cycles</td>\n",
       "      <td>25.0</td>\n",
       "      <td>4695.0</td>\n",
       "      <td>667.0</td>\n",
       "      <td>415.0</td>\n",
       "      <td>NaN</td>\n",
       "    </tr>\n",
       "    <tr>\n",
       "      <th>2</th>\n",
       "      <td>Head On</td>\n",
       "      <td>20.0</td>\n",
       "      <td>862.0</td>\n",
       "      <td>1139.0</td>\n",
       "      <td>101.0</td>\n",
       "      <td>NaN</td>\n",
       "    </tr>\n",
       "    <tr>\n",
       "      <th>3</th>\n",
       "      <td>Left Turn</td>\n",
       "      <td>16.0</td>\n",
       "      <td>5346.0</td>\n",
       "      <td>8207.0</td>\n",
       "      <td>268.0</td>\n",
       "      <td>NaN</td>\n",
       "    </tr>\n",
       "    <tr>\n",
       "      <th>4</th>\n",
       "      <td>Other</td>\n",
       "      <td>91.0</td>\n",
       "      <td>6047.0</td>\n",
       "      <td>17400.0</td>\n",
       "      <td>489.0</td>\n",
       "      <td>NaN</td>\n",
       "    </tr>\n",
       "    <tr>\n",
       "      <th>5</th>\n",
       "      <td>Parked Car</td>\n",
       "      <td>7.0</td>\n",
       "      <td>2629.0</td>\n",
       "      <td>45054.0</td>\n",
       "      <td>125.0</td>\n",
       "      <td>NaN</td>\n",
       "    </tr>\n",
       "    <tr>\n",
       "      <th>6</th>\n",
       "      <td>Pedestrian</td>\n",
       "      <td>125.0</td>\n",
       "      <td>5839.0</td>\n",
       "      <td>658.0</td>\n",
       "      <td>834.0</td>\n",
       "      <td>NaN</td>\n",
       "    </tr>\n",
       "    <tr>\n",
       "      <th>7</th>\n",
       "      <td>Rear Ended</td>\n",
       "      <td>11.0</td>\n",
       "      <td>14564.0</td>\n",
       "      <td>19202.0</td>\n",
       "      <td>222.0</td>\n",
       "      <td>NaN</td>\n",
       "    </tr>\n",
       "    <tr>\n",
       "      <th>8</th>\n",
       "      <td>Right Turn</td>\n",
       "      <td>1.0</td>\n",
       "      <td>602.0</td>\n",
       "      <td>2327.0</td>\n",
       "      <td>20.0</td>\n",
       "      <td>NaN</td>\n",
       "    </tr>\n",
       "    <tr>\n",
       "      <th>9</th>\n",
       "      <td>Sideswipe</td>\n",
       "      <td>10.0</td>\n",
       "      <td>2474.0</td>\n",
       "      <td>15926.0</td>\n",
       "      <td>71.0</td>\n",
       "      <td>NaN</td>\n",
       "    </tr>\n",
       "  </tbody>\n",
       "</table>\n",
       "</div>"
      ],
      "text/plain": [
       "SEVERITYCODE COLLISIONTYPE  Fatality   Injury  Prop_damage  Serious_injury  \\\n",
       "0                   Angles      24.0  13453.0      20754.0           432.0   \n",
       "1                   Cycles      25.0   4695.0        667.0           415.0   \n",
       "2                  Head On      20.0    862.0       1139.0           101.0   \n",
       "3                Left Turn      16.0   5346.0       8207.0           268.0   \n",
       "4                    Other      91.0   6047.0      17400.0           489.0   \n",
       "5               Parked Car       7.0   2629.0      45054.0           125.0   \n",
       "6               Pedestrian     125.0   5839.0        658.0           834.0   \n",
       "7               Rear Ended      11.0  14564.0      19202.0           222.0   \n",
       "8               Right Turn       1.0    602.0       2327.0            20.0   \n",
       "9                Sideswipe      10.0   2474.0      15926.0            71.0   \n",
       "\n",
       "SEVERITYCODE  Unknown  \n",
       "0                 1.0  \n",
       "1                 NaN  \n",
       "2                 NaN  \n",
       "3                 NaN  \n",
       "4                 NaN  \n",
       "5                 NaN  \n",
       "6                 NaN  \n",
       "7                 NaN  \n",
       "8                 NaN  \n",
       "9                 NaN  "
      ]
     },
     "execution_count": 22,
     "metadata": {},
     "output_type": "execute_result"
    }
   ],
   "source": [
    "type_severity = df.groupby(['COLLISIONTYPE', 'SEVERITYCODE'])['INCKEY'].count().reset_index()\n",
    "type_severity_pivot = type_severity.pivot(\n",
    "    columns = 'SEVERITYCODE',\n",
    "    index = 'COLLISIONTYPE',\n",
    "    values = 'INCKEY').reset_index()\n",
    "type_severity_pivot"
   ]
  },
  {
   "cell_type": "markdown",
   "metadata": {},
   "source": [
    "# Which locations have had high numbers of incidents?"
   ]
  },
  {
   "cell_type": "code",
   "execution_count": 23,
   "metadata": {},
   "outputs": [
    {
     "data": {
      "text/html": [
       "<div>\n",
       "<style scoped>\n",
       "    .dataframe tbody tr th:only-of-type {\n",
       "        vertical-align: middle;\n",
       "    }\n",
       "\n",
       "    .dataframe tbody tr th {\n",
       "        vertical-align: top;\n",
       "    }\n",
       "\n",
       "    .dataframe thead th {\n",
       "        text-align: right;\n",
       "    }\n",
       "</style>\n",
       "<table border=\"1\" class=\"dataframe\">\n",
       "  <thead>\n",
       "    <tr style=\"text-align: right;\">\n",
       "      <th></th>\n",
       "      <th>LOCATION</th>\n",
       "      <th>INCKEY</th>\n",
       "    </tr>\n",
       "  </thead>\n",
       "  <tbody>\n",
       "    <tr>\n",
       "      <th>11241</th>\n",
       "      <td>BATTERY ST TUNNEL NB BETWEEN ALASKAN WY VI NB ...</td>\n",
       "      <td>298</td>\n",
       "    </tr>\n",
       "    <tr>\n",
       "      <th>17512</th>\n",
       "      <td>N NORTHGATE WAY BETWEEN MERIDIAN AVE N AND COR...</td>\n",
       "      <td>294</td>\n",
       "    </tr>\n",
       "    <tr>\n",
       "      <th>11242</th>\n",
       "      <td>BATTERY ST TUNNEL SB BETWEEN AURORA AVE N AND ...</td>\n",
       "      <td>291</td>\n",
       "    </tr>\n",
       "    <tr>\n",
       "      <th>11075</th>\n",
       "      <td>AURORA AVE N BETWEEN N 117TH PL AND N 125TH ST</td>\n",
       "      <td>278</td>\n",
       "    </tr>\n",
       "    <tr>\n",
       "      <th>9543</th>\n",
       "      <td>6TH AVE AND JAMES ST</td>\n",
       "      <td>270</td>\n",
       "    </tr>\n",
       "    <tr>\n",
       "      <th>11079</th>\n",
       "      <td>AURORA AVE N BETWEEN N 130TH ST AND N 135TH ST</td>\n",
       "      <td>264</td>\n",
       "    </tr>\n",
       "    <tr>\n",
       "      <th>10774</th>\n",
       "      <td>ALASKAN WY VI NB BETWEEN S ROYAL BROUGHAM WAY ...</td>\n",
       "      <td>256</td>\n",
       "    </tr>\n",
       "    <tr>\n",
       "      <th>20135</th>\n",
       "      <td>RAINIER AVE S BETWEEN S BAYVIEW ST AND S MCCLE...</td>\n",
       "      <td>254</td>\n",
       "    </tr>\n",
       "    <tr>\n",
       "      <th>10786</th>\n",
       "      <td>ALASKAN WY VI SB BETWEEN COLUMBIA ST ON RP AND...</td>\n",
       "      <td>230</td>\n",
       "    </tr>\n",
       "    <tr>\n",
       "      <th>24688</th>\n",
       "      <td>WEST SEATTLE BR EB BETWEEN ALASKAN WY VI NB ON...</td>\n",
       "      <td>224</td>\n",
       "    </tr>\n",
       "  </tbody>\n",
       "</table>\n",
       "</div>"
      ],
      "text/plain": [
       "                                                LOCATION  INCKEY\n",
       "11241  BATTERY ST TUNNEL NB BETWEEN ALASKAN WY VI NB ...     298\n",
       "17512  N NORTHGATE WAY BETWEEN MERIDIAN AVE N AND COR...     294\n",
       "11242  BATTERY ST TUNNEL SB BETWEEN AURORA AVE N AND ...     291\n",
       "11075     AURORA AVE N BETWEEN N 117TH PL AND N 125TH ST     278\n",
       "9543                                6TH AVE AND JAMES ST     270\n",
       "11079     AURORA AVE N BETWEEN N 130TH ST AND N 135TH ST     264\n",
       "10774  ALASKAN WY VI NB BETWEEN S ROYAL BROUGHAM WAY ...     256\n",
       "20135  RAINIER AVE S BETWEEN S BAYVIEW ST AND S MCCLE...     254\n",
       "10786  ALASKAN WY VI SB BETWEEN COLUMBIA ST ON RP AND...     230\n",
       "24688  WEST SEATTLE BR EB BETWEEN ALASKAN WY VI NB ON...     224"
      ]
     },
     "execution_count": 23,
     "metadata": {},
     "output_type": "execute_result"
    }
   ],
   "source": [
    "locdf = df.groupby('LOCATION').size().to_frame('INCKEY').reset_index()\n",
    "locdf.sort_values('INCKEY', ascending=False, inplace=True)\n",
    "locdf.head(10)"
   ]
  },
  {
   "cell_type": "markdown",
   "metadata": {},
   "source": [
    "# Which locations have the highest numbers of fatal and serious injuries?"
   ]
  },
  {
   "cell_type": "code",
   "execution_count": 24,
   "metadata": {},
   "outputs": [
    {
     "data": {
      "text/html": [
       "<div>\n",
       "<style scoped>\n",
       "    .dataframe tbody tr th:only-of-type {\n",
       "        vertical-align: middle;\n",
       "    }\n",
       "\n",
       "    .dataframe tbody tr th {\n",
       "        vertical-align: top;\n",
       "    }\n",
       "\n",
       "    .dataframe thead th {\n",
       "        text-align: right;\n",
       "    }\n",
       "</style>\n",
       "<table border=\"1\" class=\"dataframe\">\n",
       "  <thead>\n",
       "    <tr style=\"text-align: right;\">\n",
       "      <th></th>\n",
       "      <th>LOCATION</th>\n",
       "      <th>INCKEY</th>\n",
       "    </tr>\n",
       "  </thead>\n",
       "  <tbody>\n",
       "    <tr>\n",
       "      <th>126</th>\n",
       "      <td>ALASKAN WY VI NB BETWEEN S ROYAL BROUGHAM WAY ...</td>\n",
       "      <td>4</td>\n",
       "    </tr>\n",
       "    <tr>\n",
       "      <th>128</th>\n",
       "      <td>ALASKAN WY VI SB BETWEEN COLUMBIA ST ON RP AND...</td>\n",
       "      <td>4</td>\n",
       "    </tr>\n",
       "    <tr>\n",
       "      <th>217</th>\n",
       "      <td>M L KING JR ER WAY S BETWEEN S DIRECTOR ST AND...</td>\n",
       "      <td>3</td>\n",
       "    </tr>\n",
       "    <tr>\n",
       "      <th>308</th>\n",
       "      <td>WESTLAKE AVE N BETWEEN HALLADAY ST AND NEWELL ST</td>\n",
       "      <td>3</td>\n",
       "    </tr>\n",
       "    <tr>\n",
       "      <th>127</th>\n",
       "      <td>ALASKAN WY VI SB BETWEEN ALASKAN WY VI SB EFR ...</td>\n",
       "      <td>3</td>\n",
       "    </tr>\n",
       "    <tr>\n",
       "      <th>141</th>\n",
       "      <td>AURORA AVE N BETWEEN GARFIELD ST AND HOWE ST</td>\n",
       "      <td>3</td>\n",
       "    </tr>\n",
       "    <tr>\n",
       "      <th>71</th>\n",
       "      <td>35TH AVE SW AND SW GRAHAM ST</td>\n",
       "      <td>2</td>\n",
       "    </tr>\n",
       "    <tr>\n",
       "      <th>257</th>\n",
       "      <td>RAINIER AVE S BETWEEN S MOUNT BAKER EB BV AND ...</td>\n",
       "      <td>2</td>\n",
       "    </tr>\n",
       "    <tr>\n",
       "      <th>263</th>\n",
       "      <td>ROOSEVELT WAY NE AND NE 65TH ST</td>\n",
       "      <td>2</td>\n",
       "    </tr>\n",
       "    <tr>\n",
       "      <th>144</th>\n",
       "      <td>AURORA AVE N BETWEEN HOWE ST AND LYNN ST</td>\n",
       "      <td>2</td>\n",
       "    </tr>\n",
       "  </tbody>\n",
       "</table>\n",
       "</div>"
      ],
      "text/plain": [
       "                                              LOCATION  INCKEY\n",
       "126  ALASKAN WY VI NB BETWEEN S ROYAL BROUGHAM WAY ...       4\n",
       "128  ALASKAN WY VI SB BETWEEN COLUMBIA ST ON RP AND...       4\n",
       "217  M L KING JR ER WAY S BETWEEN S DIRECTOR ST AND...       3\n",
       "308   WESTLAKE AVE N BETWEEN HALLADAY ST AND NEWELL ST       3\n",
       "127  ALASKAN WY VI SB BETWEEN ALASKAN WY VI SB EFR ...       3\n",
       "141       AURORA AVE N BETWEEN GARFIELD ST AND HOWE ST       3\n",
       "71                        35TH AVE SW AND SW GRAHAM ST       2\n",
       "257  RAINIER AVE S BETWEEN S MOUNT BAKER EB BV AND ...       2\n",
       "263                    ROOSEVELT WAY NE AND NE 65TH ST       2\n",
       "144           AURORA AVE N BETWEEN HOWE ST AND LYNN ST       2"
      ]
     },
     "execution_count": 24,
     "metadata": {},
     "output_type": "execute_result"
    }
   ],
   "source": [
    "sevdf = df[(df['SEVERITYCODE'] == ('Fatality' or 'Serious_injury'))]\n",
    "sevcdf = sevdf.groupby('LOCATION').size().to_frame('INCKEY').reset_index()\n",
    "sevcdf.sort_values('INCKEY', ascending=False, inplace=True)\n",
    "sevcdf.head(10)"
   ]
  },
  {
   "cell_type": "markdown",
   "metadata": {},
   "source": [
    "Note: Locations that have the highest numbers of incidents and locations that have more severe incidetns don't overlap a lot"
   ]
  },
  {
   "cell_type": "code",
   "execution_count": null,
   "metadata": {},
   "outputs": [],
   "source": []
  }
 ],
 "metadata": {
  "kernelspec": {
   "display_name": "Python 3",
   "language": "python",
   "name": "python3"
  },
  "language_info": {
   "codemirror_mode": {
    "name": "ipython",
    "version": 3
   },
   "file_extension": ".py",
   "mimetype": "text/x-python",
   "name": "python",
   "nbconvert_exporter": "python",
   "pygments_lexer": "ipython3",
   "version": "3.7.6"
  }
 },
 "nbformat": 4,
 "nbformat_minor": 4
}
